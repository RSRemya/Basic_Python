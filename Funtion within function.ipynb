{
 "cells": [
  {
   "cell_type": "raw",
   "id": "c60aeeef",
   "metadata": {},
   "source": [
    "Q1. Create an outer function that will accept two strings, x and y. (x= 'Emma' and y = 'Kelly'.\n",
    "Create an inner function inside an outer function that will concatenate x and y.\n",
    "At last, an outer function will join the word 'developer' to it."
   ]
  },
  {
   "cell_type": "code",
   "execution_count": 1,
   "id": "5948d44d",
   "metadata": {},
   "outputs": [],
   "source": [
    "def outer_func(x,y):\n",
    "    def inner_func(x,y):\n",
    "        return x+y\n",
    "    z = inner_func(x,y)\n",
    "    return z +\"Developer\""
   ]
  },
  {
   "cell_type": "code",
   "execution_count": 2,
   "id": "7aa4d3ac",
   "metadata": {},
   "outputs": [
    {
     "data": {
      "text/plain": [
       "'EmmaKellyDeveloper'"
      ]
     },
     "execution_count": 2,
     "metadata": {},
     "output_type": "execute_result"
    }
   ],
   "source": [
    "outer_func(\"Emma\",\"Kelly\")"
   ]
  },
  {
   "cell_type": "raw",
   "id": "b7597ffc",
   "metadata": {},
   "source": [
    "Q2. User defined function for find first name and last name"
   ]
  },
  {
   "cell_type": "code",
   "execution_count": 4,
   "id": "76ec0d01",
   "metadata": {},
   "outputs": [],
   "source": [
    "def test1(a) : \n",
    "    print(\"Program to check first name and last name\") \n",
    "    \n",
    "    def test2() :\n",
    "        print(\"This is my first name\") \n",
    "    \n",
    "    def test3():\n",
    "        print(\"This is my last name\")\n",
    "    \n",
    "    if a == \"Remya\":\n",
    "        return test2()\n",
    "    elif a == \"RS\" :\n",
    "        return test3()"
   ]
  },
  {
   "cell_type": "code",
   "execution_count": 5,
   "id": "f46d1d2b",
   "metadata": {},
   "outputs": [
    {
     "name": "stdout",
     "output_type": "stream",
     "text": [
      "Program to check first name and last name\n",
      "This is my first name\n"
     ]
    }
   ],
   "source": [
    "test1(\"Remya\")"
   ]
  },
  {
   "cell_type": "code",
   "execution_count": 6,
   "id": "253f8d0d",
   "metadata": {},
   "outputs": [
    {
     "name": "stdout",
     "output_type": "stream",
     "text": [
      "Program to check first name and last name\n",
      "This is my last name\n"
     ]
    }
   ],
   "source": [
    "test1(\"RS\")"
   ]
  },
  {
   "cell_type": "code",
   "execution_count": null,
   "id": "9f636899",
   "metadata": {},
   "outputs": [],
   "source": []
  }
 ],
 "metadata": {
  "kernelspec": {
   "display_name": "Python 3 (ipykernel)",
   "language": "python",
   "name": "python3"
  },
  "language_info": {
   "codemirror_mode": {
    "name": "ipython",
    "version": 3
   },
   "file_extension": ".py",
   "mimetype": "text/x-python",
   "name": "python",
   "nbconvert_exporter": "python",
   "pygments_lexer": "ipython3",
   "version": "3.9.12"
  }
 },
 "nbformat": 4,
 "nbformat_minor": 5
}
