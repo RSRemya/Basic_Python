{
 "cells": [
  {
   "cell_type": "markdown",
   "id": "b465be7c",
   "metadata": {},
   "source": [
    "# To list all files in current working directory"
   ]
  },
  {
   "cell_type": "code",
   "execution_count": 2,
   "id": "d2f68401",
   "metadata": {},
   "outputs": [
    {
     "name": "stdout",
     "output_type": "stream",
     "text": [
      " Volume in drive C is Windows_SSD\n",
      " Volume Serial Number is D8F6-4369\n",
      "\n",
      " Directory of C:\\Users\\HP\\ineuron Class\n",
      "\n",
      "12-12-2022  04.19 AM    <DIR>          .\n",
      "12-12-2022  04.19 AM    <DIR>          ..\n",
      "12-12-2022  04.19 AM    <DIR>          .ipynb_checkpoints\n",
      "13-11-2022  10.20 AM           271,740 Assignment_user_defined_functions.ipynb\n",
      "01-12-2022  01.34 PM             3,818 Changing case of string.ipynb\n",
      "08-11-2022  08.21 PM            42,969 course_overview_content.ipynb\n",
      "27-11-2022  08.17 PM            10,507 Date and Time.ipynb\n",
      "30-11-2022  01.29 PM             3,550 Decorator function.ipynb\n",
      "11-12-2022  09.42 PM            21,281 Excepion Handling.ipynb\n",
      "02-12-2022  12.05 AM               589 File Operations.ipynb\n",
      "01-12-2022  01.34 PM             3,150 Filter Function.ipynb\n",
      "02-12-2022  12.07 AM             5,008 for loop.ipynb\n",
      "26-11-2022  09.39 AM            50,009 function continued (2) (1).ipynb\n",
      "01-12-2022  01.34 PM            16,605 Function.ipynb\n",
      "30-11-2022  01.37 PM             2,971 Funtion within function.ipynb\n",
      "30-11-2022  07.31 PM             3,904 Lambda function.ipynb\n",
      "02-12-2022  12.59 AM             4,426 Making Dataset and splitting a column in it.ipynb\n",
      "01-12-2022  01.34 PM             3,248 Map Function.ipynb\n",
      "12-11-2022  05.39 PM             2,912 Multiplication_table_using_while_loop_and_for_loop.ipynb\n",
      "02-12-2022  12.38 AM            61,809 questions.ipynb\n",
      "27-11-2022  06.44 PM            47,954 questions-Copy1.ipynb\n",
      "30-11-2022  12.56 PM             7,817 Sets_Dictionary.ipynb\n",
      "30-11-2022  11.42 AM             6,264 Simple User Defined Function.ipynb\n",
      "11-11-2022  10.47 AM             4,146 Untitled.ipynb\n",
      "12-11-2022  04.13 PM            11,716 Untitled1.ipynb\n",
      "10-12-2022  12.12 AM                72 Untitled3.ipynb\n",
      "30-11-2022  10.24 AM             1,884 while loop.ipynb\n",
      "13-11-2022  10.19 AM            11,992 word_file.docx\n",
      "              25 File(s)        600,341 bytes\n",
      "               3 Dir(s)  154,982,383,616 bytes free\n"
     ]
    }
   ],
   "source": [
    "%ls"
   ]
  },
  {
   "cell_type": "code",
   "execution_count": 3,
   "id": "bee48c3d",
   "metadata": {},
   "outputs": [
    {
     "name": "stdout",
     "output_type": "stream",
     "text": [
      " Volume in drive C is Windows_SSD\n",
      " Volume Serial Number is D8F6-4369\n",
      "\n",
      " Directory of C:\\Users\\HP\\ineuron Class\n",
      "\n",
      "12-12-2022  04.19 AM    <DIR>          .\n",
      "12-12-2022  04.19 AM    <DIR>          ..\n",
      "12-12-2022  04.19 AM    <DIR>          .ipynb_checkpoints\n",
      "13-11-2022  10.20 AM           271,740 Assignment_user_defined_functions.ipynb\n",
      "01-12-2022  01.34 PM             3,818 Changing case of string.ipynb\n",
      "08-11-2022  08.21 PM            42,969 course_overview_content.ipynb\n",
      "27-11-2022  08.17 PM            10,507 Date and Time.ipynb\n",
      "30-11-2022  01.29 PM             3,550 Decorator function.ipynb\n",
      "11-12-2022  09.42 PM            21,281 Excepion Handling.ipynb\n",
      "02-12-2022  12.05 AM               589 File Operations.ipynb\n",
      "01-12-2022  01.34 PM             3,150 Filter Function.ipynb\n",
      "02-12-2022  12.07 AM             5,008 for loop.ipynb\n",
      "26-11-2022  09.39 AM            50,009 function continued (2) (1).ipynb\n",
      "01-12-2022  01.34 PM            16,605 Function.ipynb\n",
      "30-11-2022  01.37 PM             2,971 Funtion within function.ipynb\n",
      "30-11-2022  07.31 PM             3,904 Lambda function.ipynb\n",
      "02-12-2022  12.59 AM             4,426 Making Dataset and splitting a column in it.ipynb\n",
      "01-12-2022  01.34 PM             3,248 Map Function.ipynb\n",
      "12-11-2022  05.39 PM             2,912 Multiplication_table_using_while_loop_and_for_loop.ipynb\n",
      "02-12-2022  12.38 AM            61,809 questions.ipynb\n",
      "27-11-2022  06.44 PM            47,954 questions-Copy1.ipynb\n",
      "30-11-2022  12.56 PM             7,817 Sets_Dictionary.ipynb\n",
      "30-11-2022  11.42 AM             6,264 Simple User Defined Function.ipynb\n",
      "11-11-2022  10.47 AM             4,146 Untitled.ipynb\n",
      "12-11-2022  04.13 PM            11,716 Untitled1.ipynb\n",
      "10-12-2022  12.12 AM                72 Untitled3.ipynb\n",
      "30-11-2022  10.24 AM             1,884 while loop.ipynb\n",
      "13-11-2022  10.19 AM            11,992 word_file.docx\n",
      "              25 File(s)        600,341 bytes\n",
      "               3 Dir(s)  154,981,433,344 bytes free\n"
     ]
    }
   ],
   "source": [
    "ls"
   ]
  },
  {
   "cell_type": "markdown",
   "id": "7abee0b1",
   "metadata": {},
   "source": [
    "# To find location of current file"
   ]
  },
  {
   "cell_type": "code",
   "execution_count": 4,
   "id": "6a87e734",
   "metadata": {},
   "outputs": [
    {
     "data": {
      "text/plain": [
       "'C:\\\\Users\\\\HP\\\\ineuron Class'"
      ]
     },
     "execution_count": 4,
     "metadata": {},
     "output_type": "execute_result"
    }
   ],
   "source": [
    "pwd()"
   ]
  },
  {
   "cell_type": "code",
   "execution_count": null,
   "id": "66c8dac4",
   "metadata": {},
   "outputs": [],
   "source": [
    "# r open a filefor readding\n",
    "# w opens a file for writing and creates a new file if its does not exits or tructaes the file if exitss\n",
    "# x opens a file for exclustive creation if the file already exits operations\n",
    "# a open a file for appending at ethe ned of file\n",
    "# + oepns a file for updating (reading a dwriting)"
   ]
  },
  {
   "cell_type": "markdown",
   "id": "273d3753",
   "metadata": {},
   "source": [
    "# Opening a file"
   ]
  },
  {
   "cell_type": "markdown",
   "id": "ea2b61e6",
   "metadata": {},
   "source": [
    "way1"
   ]
  },
  {
   "cell_type": "code",
   "execution_count": 3,
   "id": "4d3b579e",
   "metadata": {},
   "outputs": [],
   "source": [
    "f=open(\"test.txt\")"
   ]
  },
  {
   "cell_type": "code",
   "execution_count": 4,
   "id": "d93db86c",
   "metadata": {},
   "outputs": [
    {
     "data": {
      "text/plain": [
       "_io.TextIOWrapper"
      ]
     },
     "execution_count": 4,
     "metadata": {},
     "output_type": "execute_result"
    }
   ],
   "source": [
    "type(f)"
   ]
  },
  {
   "cell_type": "code",
   "execution_count": 5,
   "id": "59716e66",
   "metadata": {},
   "outputs": [],
   "source": [
    "f.close()"
   ]
  },
  {
   "cell_type": "markdown",
   "id": "a9b9a55f",
   "metadata": {},
   "source": [
    "way2"
   ]
  },
  {
   "cell_type": "code",
   "execution_count": 10,
   "id": "bd97af38",
   "metadata": {},
   "outputs": [],
   "source": [
    "f=open(\"C:\\\\Users\\\\HP\\\\ineuron Class\\\\test.txt\")"
   ]
  },
  {
   "cell_type": "code",
   "execution_count": 11,
   "id": "cf39ea01",
   "metadata": {},
   "outputs": [
    {
     "data": {
      "text/plain": [
       "_io.TextIOWrapper"
      ]
     },
     "execution_count": 11,
     "metadata": {},
     "output_type": "execute_result"
    }
   ],
   "source": [
    "type(f)"
   ]
  },
  {
   "cell_type": "code",
   "execution_count": 12,
   "id": "a79e9a27",
   "metadata": {},
   "outputs": [],
   "source": [
    "f.close()"
   ]
  },
  {
   "cell_type": "markdown",
   "id": "3d248277",
   "metadata": {},
   "source": [
    "way3"
   ]
  },
  {
   "cell_type": "code",
   "execution_count": 13,
   "id": "d3e51c07",
   "metadata": {},
   "outputs": [],
   "source": [
    "f=open(r\"C:/Users/HP/ineuron Class/test.txt\")"
   ]
  },
  {
   "cell_type": "code",
   "execution_count": 14,
   "id": "c267351b",
   "metadata": {},
   "outputs": [
    {
     "data": {
      "text/plain": [
       "_io.TextIOWrapper"
      ]
     },
     "execution_count": 14,
     "metadata": {},
     "output_type": "execute_result"
    }
   ],
   "source": [
    "type(f)"
   ]
  },
  {
   "cell_type": "code",
   "execution_count": 15,
   "id": "817f6887",
   "metadata": {},
   "outputs": [],
   "source": [
    "f.close()"
   ]
  },
  {
   "cell_type": "markdown",
   "id": "d0a91638",
   "metadata": {},
   "source": [
    "way4"
   ]
  },
  {
   "cell_type": "markdown",
   "id": "5edb2c5d",
   "metadata": {},
   "source": [
    "# Reading a File"
   ]
  },
  {
   "cell_type": "code",
   "execution_count": 16,
   "id": "9b1b9254",
   "metadata": {},
   "outputs": [],
   "source": [
    "f=open(\"test.txt\")"
   ]
  },
  {
   "cell_type": "code",
   "execution_count": 17,
   "id": "1b96bea0",
   "metadata": {},
   "outputs": [
    {
     "data": {
      "text/plain": [
       "'test data\\nFor Class of iNeuron'"
      ]
     },
     "execution_count": 17,
     "metadata": {},
     "output_type": "execute_result"
    }
   ],
   "source": [
    "f.read()"
   ]
  },
  {
   "cell_type": "code",
   "execution_count": 21,
   "id": "8eecf4fe",
   "metadata": {},
   "outputs": [
    {
     "data": {
      "text/plain": [
       "''"
      ]
     },
     "execution_count": 21,
     "metadata": {},
     "output_type": "execute_result"
    }
   ],
   "source": [
    "f.read()\n",
    "#now its reading empty string, due to reason that cursor is at the end after reading content of a particular file\n",
    "#the file needed to be opened again to read the content"
   ]
  },
  {
   "cell_type": "code",
   "execution_count": 27,
   "id": "fac2fe0f",
   "metadata": {},
   "outputs": [],
   "source": [
    "f=open(\"test.txt\")"
   ]
  },
  {
   "cell_type": "code",
   "execution_count": 28,
   "id": "78c30f79",
   "metadata": {},
   "outputs": [
    {
     "data": {
      "text/plain": [
       "'test'"
      ]
     },
     "execution_count": 28,
     "metadata": {},
     "output_type": "execute_result"
    }
   ],
   "source": [
    "f.read(4)\n",
    "#this will read 4 data"
   ]
  },
  {
   "cell_type": "code",
   "execution_count": 29,
   "id": "d41e96c2",
   "metadata": {},
   "outputs": [
    {
     "data": {
      "text/plain": [
       "' dat'"
      ]
     },
     "execution_count": 29,
     "metadata": {},
     "output_type": "execute_result"
    }
   ],
   "source": [
    "f.read(4)\n",
    "#this will read next 4 data"
   ]
  },
  {
   "cell_type": "code",
   "execution_count": 30,
   "id": "ce72d6d0",
   "metadata": {},
   "outputs": [
    {
     "data": {
      "text/plain": [
       "8"
      ]
     },
     "execution_count": 30,
     "metadata": {},
     "output_type": "execute_result"
    }
   ],
   "source": [
    "f.tell()\n",
    "#get the current file position"
   ]
  },
  {
   "cell_type": "code",
   "execution_count": 31,
   "id": "f18b29c0",
   "metadata": {},
   "outputs": [
    {
     "data": {
      "text/plain": [
       "0"
      ]
     },
     "execution_count": 31,
     "metadata": {},
     "output_type": "execute_result"
    }
   ],
   "source": [
    "f.seek(0)\n",
    "#get back the cursor to a position mentioned in the bracket"
   ]
  },
  {
   "cell_type": "code",
   "execution_count": 32,
   "id": "9b1195be",
   "metadata": {},
   "outputs": [
    {
     "data": {
      "text/plain": [
       "0"
      ]
     },
     "execution_count": 32,
     "metadata": {},
     "output_type": "execute_result"
    }
   ],
   "source": [
    "f.tell()\n",
    "#get the current file position"
   ]
  },
  {
   "cell_type": "code",
   "execution_count": 33,
   "id": "77a33e9e",
   "metadata": {},
   "outputs": [
    {
     "data": {
      "text/plain": [
       "2"
      ]
     },
     "execution_count": 33,
     "metadata": {},
     "output_type": "execute_result"
    }
   ],
   "source": [
    "f.seek(2)\n",
    "#get back the cursor to a position mentioned in the bracket"
   ]
  },
  {
   "cell_type": "code",
   "execution_count": 34,
   "id": "ca8e0531",
   "metadata": {},
   "outputs": [
    {
     "data": {
      "text/plain": [
       "2"
      ]
     },
     "execution_count": 34,
     "metadata": {},
     "output_type": "execute_result"
    }
   ],
   "source": [
    "f.tell()\n",
    "#get the current file position"
   ]
  },
  {
   "cell_type": "code",
   "execution_count": 35,
   "id": "c8fe3232",
   "metadata": {},
   "outputs": [
    {
     "data": {
      "text/plain": [
       "['st data\\n', 'For Class of iNeuron']"
      ]
     },
     "execution_count": 35,
     "metadata": {},
     "output_type": "execute_result"
    }
   ],
   "source": [
    "f.readlines()"
   ]
  },
  {
   "cell_type": "code",
   "execution_count": 36,
   "id": "858cc16f",
   "metadata": {},
   "outputs": [],
   "source": [
    "try:\n",
    "    f=open(\"test.txt\")\n",
    "finally:\n",
    "    f.close()"
   ]
  },
  {
   "cell_type": "code",
   "execution_count": 37,
   "id": "622d2629",
   "metadata": {},
   "outputs": [],
   "source": [
    "f=open(\"test.txt\")"
   ]
  },
  {
   "cell_type": "code",
   "execution_count": 38,
   "id": "65fa6a23",
   "metadata": {},
   "outputs": [],
   "source": [
    "with open(\"test.txt\") as f:\n",
    "    #file operation\n",
    "    f.read()\n",
    "    pass\n",
    "# This will automatically close the file"
   ]
  },
  {
   "cell_type": "markdown",
   "id": "e75c096f",
   "metadata": {},
   "source": [
    "# Create a file & write in it"
   ]
  },
  {
   "cell_type": "markdown",
   "id": "e9e4ac07",
   "metadata": {},
   "source": [
    "Writing using a variable"
   ]
  },
  {
   "cell_type": "code",
   "execution_count": 39,
   "id": "0de095a0",
   "metadata": {},
   "outputs": [
    {
     "name": "stdout",
     "output_type": "stream",
     "text": [
      "done\n"
     ]
    }
   ],
   "source": [
    "data=\"ineuron\"\n",
    "f=open(\"test1.txt\",'w')\n",
    "f.write(data)\n",
    "print(\"done\")\n",
    "f.close()"
   ]
  },
  {
   "cell_type": "code",
   "execution_count": 7,
   "id": "389f5f9a",
   "metadata": {},
   "outputs": [
    {
     "data": {
      "text/plain": [
       "'ineuron'"
      ]
     },
     "execution_count": 7,
     "metadata": {},
     "output_type": "execute_result"
    }
   ],
   "source": [
    "f=open(\"test1.txt\")\n",
    "f.read()"
   ]
  },
  {
   "cell_type": "markdown",
   "id": "a1726514",
   "metadata": {},
   "source": [
    "Simply writing data in it"
   ]
  },
  {
   "cell_type": "code",
   "execution_count": 8,
   "id": "85f1193a",
   "metadata": {},
   "outputs": [],
   "source": [
    "with open(\"test2.txt\",'w') as f:\n",
    "    f.write(\"ineuiron line\\n\")\n",
    "    f.write(\"ineuon line\\n\")"
   ]
  },
  {
   "cell_type": "code",
   "execution_count": 9,
   "id": "54366651",
   "metadata": {},
   "outputs": [
    {
     "data": {
      "text/plain": [
       "'ineuiron line\\nineuon line\\n'"
      ]
     },
     "execution_count": 9,
     "metadata": {},
     "output_type": "execute_result"
    }
   ],
   "source": [
    "f=open(\"test2.txt\")\n",
    "f.read()"
   ]
  },
  {
   "cell_type": "code",
   "execution_count": null,
   "id": "dcce31d6",
   "metadata": {},
   "outputs": [],
   "source": []
  },
  {
   "cell_type": "code",
   "execution_count": 45,
   "id": "7ae256aa",
   "metadata": {},
   "outputs": [
    {
     "name": "stdout",
     "output_type": "stream",
     "text": [
      "enter the first number9\n",
      "enter the second number0\n",
      "there is some issue with this code division by zero\n",
      "hi\n"
     ]
    }
   ],
   "source": [
    "try:\n",
    "    a=int(input(\"enter the first number\"))\n",
    "    b=int(input(\"enter the second number\"))\n",
    "    c=a/b\n",
    "except ArithmeticError as e:\n",
    "    print(\"there is some issue with this code\", e)\n",
    "    f=open(\"error5.txt\",'w+')\n",
    "    f.write(\"hi\")\n",
    "    #f.write(str(e))\n",
    "    #f.close()\n",
    "    f.seek(0)\n",
    "    print(f.read())\n",
    "else:\n",
    "    print(\"this will excecute once try is suceess\")\n",
    "    try:\n",
    "        f= open(\"test3.txt\",'w')\n",
    "    except:\n",
    "        print(\"this is and isse with try block\")\n",
    "        \n",
    "    "
   ]
  },
  {
   "cell_type": "markdown",
   "id": "474741a4",
   "metadata": {},
   "source": [
    "Write a program to check whether error5.txt is there in folder or not"
   ]
  },
  {
   "cell_type": "code",
   "execution_count": 51,
   "id": "8956fdc8",
   "metadata": {},
   "outputs": [
    {
     "data": {
      "text/plain": [
       "'error5.txt'"
      ]
     },
     "execution_count": 51,
     "metadata": {},
     "output_type": "execute_result"
    }
   ],
   "source": [
    "f.name"
   ]
  },
  {
   "cell_type": "code",
   "execution_count": 52,
   "id": "2ec4c229",
   "metadata": {},
   "outputs": [
    {
     "name": "stdout",
     "output_type": "stream",
     "text": [
      "hi\n"
     ]
    }
   ],
   "source": [
    "f.seek(0)\n",
    "print(f.read())"
   ]
  },
  {
   "cell_type": "markdown",
   "id": "54dc545f",
   "metadata": {},
   "source": [
    "Another way"
   ]
  },
  {
   "cell_type": "code",
   "execution_count": 53,
   "id": "183a45e4",
   "metadata": {},
   "outputs": [
    {
     "name": "stdout",
     "output_type": "stream",
     "text": [
      "hi\n"
     ]
    }
   ],
   "source": [
    "f=open(\"error5.txt\")\n",
    "print(f.read())"
   ]
  },
  {
   "cell_type": "code",
   "execution_count": 1,
   "id": "cb129413",
   "metadata": {},
   "outputs": [],
   "source": [
    "# r open a file for reading\n",
    "# w opens a file for writing and creates a new file if its does not exits or it will overwrite the existing one\n",
    "# x opens a file for exclustive creation if the file already exits operations will fail, it will avoid overwrite\n",
    "# a open a file for appending at the end of file\n",
    "# + opens a file for updating (reading a dwriting)"
   ]
  },
  {
   "cell_type": "code",
   "execution_count": 11,
   "id": "dbf3aae3",
   "metadata": {},
   "outputs": [],
   "source": [
    "f=open(\"new.txt\",'w')"
   ]
  },
  {
   "cell_type": "code",
   "execution_count": 12,
   "id": "61ac5539",
   "metadata": {},
   "outputs": [
    {
     "ename": "FileExistsError",
     "evalue": "[Errno 17] File exists: 'new.txt'",
     "output_type": "error",
     "traceback": [
      "\u001b[1;31m---------------------------------------------------------------------------\u001b[0m",
      "\u001b[1;31mFileExistsError\u001b[0m                           Traceback (most recent call last)",
      "Input \u001b[1;32mIn [12]\u001b[0m, in \u001b[0;36m<cell line: 1>\u001b[1;34m()\u001b[0m\n\u001b[1;32m----> 1\u001b[0m f\u001b[38;5;241m=\u001b[39m\u001b[38;5;28;43mopen\u001b[39;49m\u001b[43m(\u001b[49m\u001b[38;5;124;43m\"\u001b[39;49m\u001b[38;5;124;43mnew.txt\u001b[39;49m\u001b[38;5;124;43m\"\u001b[39;49m\u001b[43m,\u001b[49m\u001b[38;5;124;43m'\u001b[39;49m\u001b[38;5;124;43mx\u001b[39;49m\u001b[38;5;124;43m'\u001b[39;49m\u001b[43m)\u001b[49m\n",
      "\u001b[1;31mFileExistsError\u001b[0m: [Errno 17] File exists: 'new.txt'"
     ]
    }
   ],
   "source": [
    "f=open(\"new.txt\",'x')"
   ]
  },
  {
   "cell_type": "code",
   "execution_count": null,
   "id": "b278512d",
   "metadata": {},
   "outputs": [],
   "source": []
  }
 ],
 "metadata": {
  "kernelspec": {
   "display_name": "Python 3 (ipykernel)",
   "language": "python",
   "name": "python3"
  },
  "language_info": {
   "codemirror_mode": {
    "name": "ipython",
    "version": 3
   },
   "file_extension": ".py",
   "mimetype": "text/x-python",
   "name": "python",
   "nbconvert_exporter": "python",
   "pygments_lexer": "ipython3",
   "version": "3.9.12"
  }
 },
 "nbformat": 4,
 "nbformat_minor": 5
}
