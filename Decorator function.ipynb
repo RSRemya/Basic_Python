{
 "cells": [
  {
   "cell_type": "markdown",
   "id": "bcd95419",
   "metadata": {},
   "source": [
    "# Using decorator function\n",
    "\n",
    "Decorator fucnction is function that is executed with any other function when before defining it @decorator function is written\n",
    "\n",
    "A decorator is a design pattern in Python that allows a user to add new functionality to an existing object without modifying its structure. Decorators are usually called before the definition of a function you want to decorate.\n"
   ]
  },
  {
   "cell_type": "raw",
   "id": "9e1b65ad",
   "metadata": {},
   "source": [
    "EG1: decorator that logs the date and time"
   ]
  },
  {
   "cell_type": "code",
   "execution_count": 4,
   "id": "3a944179",
   "metadata": {},
   "outputs": [],
   "source": [
    "from datetime import datetime\n",
    "\n",
    "def log_datetime(func):\n",
    "    def wrapper():\n",
    "        print(\"function: log_datetime \\n Run on : \", datetime.now())\n",
    "        print(f\"*\"*40)\n",
    "        func()    \n",
    "    return wrapper\n",
    "\n",
    "@log_datetime\n",
    "def daily_backup():\n",
    "    print(\"Daily backup is done\")"
   ]
  },
  {
   "cell_type": "code",
   "execution_count": 5,
   "id": "e356083f",
   "metadata": {},
   "outputs": [
    {
     "name": "stdout",
     "output_type": "stream",
     "text": [
      "function: log_datetime \n",
      " Run on :  2022-11-30 10:04:04.109265\n",
      "****************************************\n",
      "Daily backup is done\n"
     ]
    }
   ],
   "source": [
    "daily_backup()"
   ]
  },
  {
   "cell_type": "raw",
   "id": "96f372b0",
   "metadata": {},
   "source": [
    "EG2: String that is converted into lowercase then split it into words"
   ]
  },
  {
   "cell_type": "code",
   "execution_count": 1,
   "id": "347afabc",
   "metadata": {},
   "outputs": [],
   "source": [
    "# decorator function to convert to lowercase\n",
    "def lowercase_decorator(function):\n",
    "    def wrapper():\n",
    "        func = function()\n",
    "        string_lowercase = func.lower()\n",
    "        return string_lowercase\n",
    "    return wrapper\n",
    "\n",
    "# decorator function to split words\n",
    "\n",
    "def splitter_decorator(function):\n",
    "    def wrapper():\n",
    "        func = function()\n",
    "        string_split = func.split()\n",
    "        return string_split\n",
    "    return wrapper\n",
    "\n",
    "@splitter_decorator #will execute next\n",
    "@lowercase_decorator #will execute first\n",
    "def hello():\n",
    "    return 'HELLO WORLD'"
   ]
  },
  {
   "cell_type": "code",
   "execution_count": 2,
   "id": "c3d6416f",
   "metadata": {},
   "outputs": [
    {
     "data": {
      "text/plain": [
       "['hello', 'world']"
      ]
     },
     "execution_count": 2,
     "metadata": {},
     "output_type": "execute_result"
    }
   ],
   "source": [
    "hello()"
   ]
  },
  {
   "cell_type": "code",
   "execution_count": null,
   "id": "6637fec8",
   "metadata": {},
   "outputs": [],
   "source": []
  }
 ],
 "metadata": {
  "kernelspec": {
   "display_name": "Python 3 (ipykernel)",
   "language": "python",
   "name": "python3"
  },
  "language_info": {
   "codemirror_mode": {
    "name": "ipython",
    "version": 3
   },
   "file_extension": ".py",
   "mimetype": "text/x-python",
   "name": "python",
   "nbconvert_exporter": "python",
   "pygments_lexer": "ipython3",
   "version": "3.9.12"
  }
 },
 "nbformat": 4,
 "nbformat_minor": 5
}
