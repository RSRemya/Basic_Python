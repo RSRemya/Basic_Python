{
 "cells": [
  {
   "cell_type": "code",
   "execution_count": 1,
   "id": "262acb2e",
   "metadata": {},
   "outputs": [],
   "source": [
    "l = [4,5,6,7,[4,3,2]]"
   ]
  },
  {
   "cell_type": "code",
   "execution_count": 2,
   "id": "cf3d26b0",
   "metadata": {},
   "outputs": [
    {
     "data": {
      "text/plain": [
       "3"
      ]
     },
     "execution_count": 2,
     "metadata": {},
     "output_type": "execute_result"
    }
   ],
   "source": [
    "l[4][1]"
   ]
  },
  {
   "cell_type": "code",
   "execution_count": 3,
   "id": "c5a95aba",
   "metadata": {},
   "outputs": [
    {
     "data": {
      "text/plain": [
       "[[4, 3, 2], 7, 6, 5, 4]"
      ]
     },
     "execution_count": 3,
     "metadata": {},
     "output_type": "execute_result"
    }
   ],
   "source": [
    "l[::-1]# reversing the list"
   ]
  },
  {
   "cell_type": "code",
   "execution_count": 3,
   "id": "f6e6f7e5",
   "metadata": {},
   "outputs": [],
   "source": [
    "l1 =[5,6,5.7,\"fkdjgkdf\"]\n",
    "l2 = [4,2,True]"
   ]
  },
  {
   "cell_type": "code",
   "execution_count": 1,
   "id": "805d0bee",
   "metadata": {},
   "outputs": [
    {
     "name": "stdout",
     "output_type": "stream",
     "text": [
      "sum of a and b is : 9\n"
     ]
    }
   ],
   "source": [
    "a=4\n",
    "b=5\n",
    "print(f\"sum of a and b is : {a+b}\")"
   ]
  },
  {
   "cell_type": "code",
   "execution_count": 5,
   "id": "156d5188",
   "metadata": {},
   "outputs": [
    {
     "name": "stdout",
     "output_type": "stream",
     "text": [
      "sum of a and b is : 4\n"
     ]
    }
   ],
   "source": [
    "print(\"sum of a and b is : {}\".format(a))"
   ]
  }
 ],
 "metadata": {
  "kernelspec": {
   "display_name": "Python 3 (ipykernel)",
   "language": "python",
   "name": "python3"
  },
  "language_info": {
   "codemirror_mode": {
    "name": "ipython",
    "version": 3
   },
   "file_extension": ".py",
   "mimetype": "text/x-python",
   "name": "python",
   "nbconvert_exporter": "python",
   "pygments_lexer": "ipython3",
   "version": "3.9.13"
  }
 },
 "nbformat": 4,
 "nbformat_minor": 5
}
