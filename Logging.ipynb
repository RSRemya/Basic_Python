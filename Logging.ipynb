{
 "cells": [
  {
   "cell_type": "markdown",
   "id": "58570900",
   "metadata": {},
   "source": [
    "# Logging is module in python to track of all events happening\n",
    "Eg - security log \n",
    "\n",
    "Logging helps to track and monitor the events of an application ... which appears to be a blackbox"
   ]
  },
  {
   "cell_type": "markdown",
   "id": "dc3c801c",
   "metadata": {},
   "source": [
    "Stages in Loggging:\n",
    "    \n",
    "    Debug - Detailed information, typically of interest only when diagnosing problems\n",
    "    \n",
    "    Info - Confirmation that things are working as expected.\n",
    "    \n",
    "    Warning - An indication that something unexpected happened, or indicative of some problem in the near future (e.g. ‘disk space low’). The software is still working as expected.\n",
    "    \n",
    "    Error - Due to a more serious problem, the software has not been able to perform some function.\n",
    "    \n",
    "    Critical - A serious error, indicating that the program itself may be unable to continue running."
   ]
  },
  {
   "cell_type": "code",
   "execution_count": 1,
   "id": "7402693e",
   "metadata": {},
   "outputs": [
    {
     "name": "stderr",
     "output_type": "stream",
     "text": [
      "WARNING:root:Watch out!\n"
     ]
    }
   ],
   "source": [
    "import logging\n",
    "logging.warning('Watch out!')  # will print a message to the console\n",
    "logging.info('I told you so')  # will not print anything"
   ]
  },
  {
   "cell_type": "code",
   "execution_count": 2,
   "id": "b2575066",
   "metadata": {},
   "outputs": [
    {
     "name": "stderr",
     "output_type": "stream",
     "text": [
      "WARNING:root:And this, too\n",
      "ERROR:root:And non-ASCII stuff, too, like Øresund and Malmö\n"
     ]
    }
   ],
   "source": [
    "import logging\n",
    "logging.basicConfig(filename='example.log', encoding='utf-8', level=logging.DEBUG)\n",
    "logging.debug('This message should go to the log file')\n",
    "logging.info('So should this')\n",
    "logging.warning('And this, too')\n",
    "logging.error('And non-ASCII stuff, too, like Øresund and Malmö')"
   ]
  },
  {
   "cell_type": "code",
   "execution_count": 3,
   "id": "8a249499",
   "metadata": {},
   "outputs": [
    {
     "name": "stdout",
     "output_type": "stream",
     "text": [
      "30\n",
      "-10\n",
      "200\n",
      "0.5\n"
     ]
    }
   ],
   "source": [
    "def add(x,y):\n",
    "    return x+y\n",
    "\n",
    "def sub(x,y):\n",
    "    return x-y\n",
    "\n",
    "def multiply(x,y):\n",
    "    return x*y\n",
    "\n",
    "def divide(x,y):\n",
    "    return x/y\n",
    "\n",
    "n1 = 10\n",
    "n2 = 20\n",
    "\n",
    "add_result = add(n1,n2)\n",
    "print(add_result)\n",
    "sub_result = sub(n1,n2)\n",
    "print(sub_result)\n",
    "multiply_result = multiply(n1,n2)\n",
    "print(multiply_result)\n",
    "divide_result = divide(n1,n2)\n",
    "print(divide_result)"
   ]
  },
  {
   "cell_type": "code",
   "execution_count": 1,
   "id": "d0897a00",
   "metadata": {},
   "outputs": [
    {
     "name": "stderr",
     "output_type": "stream",
     "text": [
      "DEBUG:root:30\n",
      "INFO:root:-10\n",
      "WARNING:root:200\n",
      "CRITICAL:root:0.5\n"
     ]
    }
   ],
   "source": [
    "import logging\n",
    "\n",
    "logging.basicConfig(level=logging.DEBUG)\n",
    "\n",
    "def add(x,y):\n",
    "    return x+y\n",
    "\n",
    "def sub(x,y):\n",
    "    return x-y\n",
    "\n",
    "def multiply(x,y):\n",
    "    return x*y\n",
    "\n",
    "def divide(x,y):\n",
    "    return x/y\n",
    "\n",
    "n1 = 10\n",
    "n2 = 20\n",
    "\n",
    "add_result = add(n1,n2)\n",
    "logging.debug(add_result)\n",
    "sub_result = sub(n1,n2)\n",
    "logging.info(sub_result)\n",
    "multiply_result = multiply(n1,n2)\n",
    "logging.warning(multiply_result)\n",
    "divide_result = divide(n1,n2)\n",
    "logging.critical(divide_result)\n"
   ]
  },
  {
   "cell_type": "code",
   "execution_count": 1,
   "id": "7068a3a2",
   "metadata": {},
   "outputs": [
    {
     "name": "stderr",
     "output_type": "stream",
     "text": [
      "INFO:root:-10\n",
      "WARNING:root:200\n",
      "CRITICAL:root:0.5\n"
     ]
    }
   ],
   "source": [
    "import logging\n",
    "\n",
    "logging.basicConfig(level=logging.INFO)\n",
    "\n",
    "def add(x,y):\n",
    "    return x+y\n",
    "\n",
    "def sub(x,y):\n",
    "    return x-y\n",
    "\n",
    "def multiply(x,y):\n",
    "    return x*y\n",
    "\n",
    "def divide(x,y):\n",
    "    return x/y\n",
    "\n",
    "n1 = 10\n",
    "n2 = 20\n",
    "\n",
    "add_result = add(n1,n2)\n",
    "logging.debug(add_result)\n",
    "sub_result = sub(n1,n2)\n",
    "logging.info(sub_result)\n",
    "multiply_result = multiply(n1,n2)\n",
    "logging.warning(multiply_result)\n",
    "divide_result = divide(n1,n2)\n",
    "logging.critical(divide_result)\n"
   ]
  },
  {
   "cell_type": "code",
   "execution_count": 1,
   "id": "b5c629d7",
   "metadata": {},
   "outputs": [],
   "source": [
    "import logging\n",
    "\n",
    "logging.basicConfig(filename = \"test1.log\", level=logging.INFO)\n",
    "\n",
    "def add(x,y):\n",
    "    return x+y\n",
    "\n",
    "def sub(x,y):\n",
    "    return x-y\n",
    "\n",
    "def multiply(x,y):\n",
    "    return x*y\n",
    "\n",
    "def divide(x,y):\n",
    "    return x/y\n",
    "\n",
    "n1 = 10\n",
    "n2 = 20\n",
    "\n",
    "add_result = add(n1,n2)\n",
    "logging.debug(add_result)\n",
    "sub_result = sub(n1,n2)\n",
    "logging.info(sub_result)\n",
    "multiply_result = multiply(n1,n2)\n",
    "logging.warning(multiply_result)\n",
    "divide_result = divide(n1,n2)\n",
    "logging.critical(divide_result)\n"
   ]
  },
  {
   "cell_type": "code",
   "execution_count": 2,
   "id": "358bc15e",
   "metadata": {},
   "outputs": [],
   "source": [
    "import logging\n",
    "\n",
    "logging.basicConfig(filename = \"demo.log\" ,level=logging.DEBUG)\n",
    "\n",
    "def namecheck(name):\n",
    "    if len(name)<2:\n",
    "        logging.debug(\"Checking for name length\")\n",
    "        return \"invalid name\"\n",
    "    elif name.isspace():\n",
    "        logging.debug(\"Checking for space in name\")\n",
    "        return \"invalid name\"\n",
    "    elif name.isalpha():\n",
    "        logging.debug(\"Checking for alphabet in name\")\n",
    "        return \"valid name\"\n",
    "    elif name.replace(\" \",\"\").isalpha():\n",
    "        logging.debug(\"Checking for space in name\")\n",
    "        return \"invalid name\"\n",
    "    else:\n",
    "        logging.debug(\"Failed all checks\")\n",
    "        return \"invalid name\""
   ]
  },
  {
   "cell_type": "code",
   "execution_count": 3,
   "id": "1ac6deed",
   "metadata": {},
   "outputs": [
    {
     "data": {
      "text/plain": [
       "'valid name'"
      ]
     },
     "execution_count": 3,
     "metadata": {},
     "output_type": "execute_result"
    }
   ],
   "source": [
    "namecheck(\"remya\")"
   ]
  },
  {
   "cell_type": "code",
   "execution_count": 3,
   "id": "f21b8ce0",
   "metadata": {},
   "outputs": [
    {
     "data": {
      "text/plain": [
       "'invalid name'"
      ]
     },
     "execution_count": 3,
     "metadata": {},
     "output_type": "execute_result"
    }
   ],
   "source": [
    "namecheck(\"remya r s\")"
   ]
  },
  {
   "cell_type": "code",
   "execution_count": 1,
   "id": "ce9a4e5f",
   "metadata": {},
   "outputs": [],
   "source": [
    "import logging\n",
    "\n",
    "logging.basicConfig(filename = \"sample1.log\" ,level=logging.DEBUG, format= '%(asctime)s - %(levelname)s - %(message)s')\n",
    "\n",
    "def namecheck(name):\n",
    "    if len(name)<2:\n",
    "        logging.debug(\"Checking for name length\")\n",
    "        return \"invalid name\"\n",
    "    elif name.isspace():\n",
    "        logging.debug(\"Checking for space in name\")\n",
    "        return \"invalid name\"\n",
    "    elif name.isalpha():\n",
    "        logging.debug(\"Checking for alphabet in name\")\n",
    "        return \"valid name\"\n",
    "    elif name.replace(\" \",\"\").isalpha():\n",
    "        logging.debug(\"Checking for space in name\")\n",
    "        return \"invalid name\"\n",
    "    else:\n",
    "        logging.debug(\"Failed all checks\")\n",
    "        return \"invalid name\""
   ]
  },
  {
   "cell_type": "code",
   "execution_count": 2,
   "id": "fd8271bb",
   "metadata": {},
   "outputs": [
    {
     "data": {
      "text/plain": [
       "'valid name'"
      ]
     },
     "execution_count": 2,
     "metadata": {},
     "output_type": "execute_result"
    }
   ],
   "source": [
    "namecheck(\"remya\")"
   ]
  },
  {
   "cell_type": "code",
   "execution_count": 3,
   "id": "c2dea697",
   "metadata": {},
   "outputs": [
    {
     "name": "stdout",
     "output_type": "stream",
     "text": [
      "2022-12-18 12:42:02,641 - DEBUG - Checking for alphabet in name\n",
      "\n"
     ]
    }
   ],
   "source": [
    "f = open(\"sample1.log\",\"r\")\n",
    "print(f.read())"
   ]
  },
  {
   "cell_type": "raw",
   "id": "5985a58c",
   "metadata": {},
   "source": [
    "create a file work.py having some function.... then it can be used as a module in same directory as shown below:"
   ]
  },
  {
   "cell_type": "code",
   "execution_count": 3,
   "id": "c8f1af2d",
   "metadata": {},
   "outputs": [
    {
     "name": "stdout",
     "output_type": "stream",
     "text": [
      "7\n"
     ]
    }
   ],
   "source": [
    "import work\n",
    "\n",
    "k=work.add(3,4)\n",
    "print(k)"
   ]
  },
  {
   "cell_type": "code",
   "execution_count": null,
   "id": "26dab203",
   "metadata": {},
   "outputs": [],
   "source": []
  }
 ],
 "metadata": {
  "kernelspec": {
   "display_name": "Python 3 (ipykernel)",
   "language": "python",
   "name": "python3"
  },
  "language_info": {
   "codemirror_mode": {
    "name": "ipython",
    "version": 3
   },
   "file_extension": ".py",
   "mimetype": "text/x-python",
   "name": "python",
   "nbconvert_exporter": "python",
   "pygments_lexer": "ipython3",
   "version": "3.9.12"
  }
 },
 "nbformat": 4,
 "nbformat_minor": 5
}
