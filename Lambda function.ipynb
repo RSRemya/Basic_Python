{
 "cells": [
  {
   "cell_type": "markdown",
   "id": "0cd5b05b",
   "metadata": {},
   "source": [
    "# Lambda function\n",
    "\n",
    "Used for making simple logic only\n",
    "\n",
    "For one line function as shown in following examples\n"
   ]
  },
  {
   "cell_type": "code",
   "execution_count": 1,
   "id": "c4823160",
   "metadata": {},
   "outputs": [
    {
     "data": {
      "text/plain": [
       "15"
      ]
     },
     "execution_count": 1,
     "metadata": {},
     "output_type": "execute_result"
    }
   ],
   "source": [
    "c = lambda a,b:a+b\n",
    "c(6,9)"
   ]
  },
  {
   "cell_type": "code",
   "execution_count": 2,
   "id": "73f25c28",
   "metadata": {},
   "outputs": [
    {
     "data": {
      "text/plain": [
       "13.0"
      ]
     },
     "execution_count": 2,
     "metadata": {},
     "output_type": "execute_result"
    }
   ],
   "source": [
    "d = lambda a,b,c: a+b/c\n",
    "d(8,10,2)"
   ]
  },
  {
   "cell_type": "raw",
   "id": "55e2979a",
   "metadata": {},
   "source": [
    "Q1. Write a Python program to sort a tuple using Lambda."
   ]
  },
  {
   "cell_type": "code",
   "execution_count": 3,
   "id": "72212e7f",
   "metadata": {},
   "outputs": [
    {
     "data": {
      "text/plain": [
       "[0, 3, 9, 67, 99, 198]"
      ]
     },
     "execution_count": 3,
     "metadata": {},
     "output_type": "execute_result"
    }
   ],
   "source": [
    "x=(99,3,9,0,198,67)\n",
    "b = lambda x : sorted(x)\n",
    "b(x)"
   ]
  },
  {
   "cell_type": "raw",
   "id": "1a3334d5",
   "metadata": {},
   "source": [
    "Q2. Write a Python program to sort a list of tuples using Lambda."
   ]
  },
  {
   "cell_type": "code",
   "execution_count": 7,
   "id": "a85cc809",
   "metadata": {},
   "outputs": [
    {
     "name": "stdout",
     "output_type": "stream",
     "text": [
      "Original list of tuples:\n",
      "[('English', 88), ('Science', 90), ('Maths', 97), ('Social sciences', 82)]\n",
      "\n",
      "Sorting the List of Tuples:\n",
      "[('Social sciences', 82), ('English', 88), ('Science', 90), ('Maths', 97)]\n"
     ]
    }
   ],
   "source": [
    "subject_marks = [('English', 88), ('Science', 90), ('Maths', 97), ('Social sciences', 82)]\n",
    "print(\"Original list of tuples:\")\n",
    "print(subject_marks)\n",
    "subject_marks.sort(key = lambda x: x[1])\n",
    "print(\"\\nSorting the List of Tuples:\")\n",
    "print(subject_marks)"
   ]
  },
  {
   "cell_type": "raw",
   "id": "f1d35407",
   "metadata": {},
   "source": [
    "Q3. Write a Python program to extract year, month, date and time using Lambda."
   ]
  },
  {
   "cell_type": "code",
   "execution_count": 9,
   "id": "5ce1946b",
   "metadata": {},
   "outputs": [
    {
     "name": "stdout",
     "output_type": "stream",
     "text": [
      "Year :  2022\n",
      "Month :  11\n",
      "Day :  30\n",
      "Time :  19:30:45.456572\n"
     ]
    }
   ],
   "source": [
    "import datetime\n",
    "\n",
    "now = datetime.datetime.now() \n",
    "\n",
    "y = lambda x : x.year\n",
    "m = lambda x : x.month\n",
    "d = lambda x : x.day\n",
    "t = lambda x : x.time()\n",
    "\n",
    "print(\"Year : \", y(now))\n",
    "print(\"Month : \", m(now))\n",
    "print(\"Day : \", d(now))\n",
    "print(\"Time : \", t(now))"
   ]
  },
  {
   "cell_type": "code",
   "execution_count": null,
   "id": "216ecf36",
   "metadata": {},
   "outputs": [],
   "source": []
  }
 ],
 "metadata": {
  "kernelspec": {
   "display_name": "Python 3 (ipykernel)",
   "language": "python",
   "name": "python3"
  },
  "language_info": {
   "codemirror_mode": {
    "name": "ipython",
    "version": 3
   },
   "file_extension": ".py",
   "mimetype": "text/x-python",
   "name": "python",
   "nbconvert_exporter": "python",
   "pygments_lexer": "ipython3",
   "version": "3.9.12"
  }
 },
 "nbformat": 4,
 "nbformat_minor": 5
}
