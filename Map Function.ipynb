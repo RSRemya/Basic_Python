{
 "cells": [
  {
   "cell_type": "markdown",
   "id": "16dffe21",
   "metadata": {},
   "source": [
    "# Map Function"
   ]
  },
  {
   "cell_type": "code",
   "execution_count": 3,
   "id": "1717683f",
   "metadata": {},
   "outputs": [
    {
     "data": {
      "text/plain": [
       "[11, 12, 13, 14, 15, 16, 17]"
      ]
     },
     "execution_count": 3,
     "metadata": {},
     "output_type": "execute_result"
    }
   ],
   "source": [
    "l = [1,2,3,4,5,6,7]\n",
    "# To make a list whose elements will be 10 + elements of list l\n",
    "\n",
    "def test(a):\n",
    "    return a+10\n",
    "\n",
    "list(map(test, l))# To do one to one mapping of function testm with data input l,   then list is used to make list out of it"
   ]
  },
  {
   "cell_type": "raw",
   "id": "ba6ad20d",
   "metadata": {},
   "source": [
    "Other way : using lambda function"
   ]
  },
  {
   "cell_type": "code",
   "execution_count": 4,
   "id": "034f266b",
   "metadata": {},
   "outputs": [
    {
     "data": {
      "text/plain": [
       "[11, 12, 13, 14, 15, 16, 17]"
      ]
     },
     "execution_count": 4,
     "metadata": {},
     "output_type": "execute_result"
    }
   ],
   "source": [
    "l = [1,2,3,4,5,6,7]\n",
    "# To make a list whose elements will be 10 + elements of list l\n",
    "\n",
    "d = lambda a: a+10\n",
    "\n",
    "list(map(d, l))# To do one to one mapping of function testm with data input l,   then list is used to make list out of it"
   ]
  },
  {
   "cell_type": "code",
   "execution_count": 5,
   "id": "ef0b3a39",
   "metadata": {},
   "outputs": [
    {
     "data": {
      "text/plain": [
       "['SHF', 'SHFJD', 'ASDFIAS']"
      ]
     },
     "execution_count": 5,
     "metadata": {},
     "output_type": "execute_result"
    }
   ],
   "source": [
    "l = [\"shf\",\"shfjd\",\"asdfias\"]\n",
    "# To make all elements in list to uppercase\n",
    "e = lambda a:a.upper()\n",
    "list(map(e,l))"
   ]
  },
  {
   "cell_type": "code",
   "execution_count": 15,
   "id": "485a1372",
   "metadata": {},
   "outputs": [
    {
     "name": "stdout",
     "output_type": "stream",
     "text": [
      "The sequence  [('A', 'a'), ('B', 'b'), ('F', 'f'), ('E', 'e'), ('U', 'u'), ('I', 'i'), ('O', 'o')]\n"
     ]
    }
   ],
   "source": [
    "l = {'a', 'b', 'E', 'f', 'a', 'i', 'o', 'U', 'a'}\n",
    "#Write a Python program to convert all the characters in uppercase and lowercase and eliminate duplicate letters from a given sequence.\n",
    "#Use map() function.\n",
    "def change_case(s):\n",
    "    return s.upper(), s.lower()\n",
    "print(\"The sequence \",list(map(change_case,l)))"
   ]
  },
  {
   "cell_type": "code",
   "execution_count": null,
   "id": "95a6bbcb",
   "metadata": {},
   "outputs": [],
   "source": []
  }
 ],
 "metadata": {
  "kernelspec": {
   "display_name": "Python 3 (ipykernel)",
   "language": "python",
   "name": "python3"
  },
  "language_info": {
   "codemirror_mode": {
    "name": "ipython",
    "version": 3
   },
   "file_extension": ".py",
   "mimetype": "text/x-python",
   "name": "python",
   "nbconvert_exporter": "python",
   "pygments_lexer": "ipython3",
   "version": "3.9.12"
  }
 },
 "nbformat": 4,
 "nbformat_minor": 5
}
