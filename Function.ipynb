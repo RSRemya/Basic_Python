{
 "cells": [
  {
   "cell_type": "markdown",
   "id": "c80bcf23",
   "metadata": {},
   "source": [
    "# User defined function which takes 2 input"
   ]
  },
  {
   "cell_type": "code",
   "execution_count": 2,
   "id": "d7062136",
   "metadata": {},
   "outputs": [],
   "source": [
    "def combine(a,b):\n",
    "    c = a + b\n",
    "    return c"
   ]
  },
  {
   "cell_type": "code",
   "execution_count": 3,
   "id": "dab346aa",
   "metadata": {},
   "outputs": [
    {
     "data": {
      "text/plain": [
       "8"
      ]
     },
     "execution_count": 3,
     "metadata": {},
     "output_type": "execute_result"
    }
   ],
   "source": [
    "combine(2,6)"
   ]
  },
  {
   "cell_type": "code",
   "execution_count": 6,
   "id": "0c5ac2ff",
   "metadata": {},
   "outputs": [
    {
     "data": {
      "text/plain": [
       "'iNeuron Class'"
      ]
     },
     "execution_count": 6,
     "metadata": {},
     "output_type": "execute_result"
    }
   ],
   "source": [
    "combine(\"iNeuron\",\" Class\")"
   ]
  },
  {
   "cell_type": "markdown",
   "id": "b2ed9bda",
   "metadata": {},
   "source": [
    "# User defined function that takes any number of input and gives same as output"
   ]
  },
  {
   "cell_type": "code",
   "execution_count": 7,
   "id": "428a63e9",
   "metadata": {},
   "outputs": [],
   "source": [
    "def fun(*args):\n",
    "    return args"
   ]
  },
  {
   "cell_type": "code",
   "execution_count": 8,
   "id": "62b3d5dc",
   "metadata": {},
   "outputs": [
    {
     "data": {
      "text/plain": [
       "(1, 2, 3)"
      ]
     },
     "execution_count": 8,
     "metadata": {},
     "output_type": "execute_result"
    }
   ],
   "source": [
    "fun(1,2,3)"
   ]
  },
  {
   "cell_type": "code",
   "execution_count": 13,
   "id": "71a75c11",
   "metadata": {},
   "outputs": [
    {
     "data": {
      "text/plain": [
       "('2',)"
      ]
     },
     "execution_count": 13,
     "metadata": {},
     "output_type": "execute_result"
    }
   ],
   "source": [
    "fun(\"2\")"
   ]
  },
  {
   "cell_type": "markdown",
   "id": "44eafd6d",
   "metadata": {},
   "source": [
    "Always output is tuple"
   ]
  },
  {
   "cell_type": "markdown",
   "id": "151250a7",
   "metadata": {},
   "source": [
    "To convert it into list"
   ]
  },
  {
   "cell_type": "code",
   "execution_count": 14,
   "id": "e307f1e5",
   "metadata": {},
   "outputs": [],
   "source": [
    "def fun(*args):\n",
    "    return list(args)"
   ]
  },
  {
   "cell_type": "code",
   "execution_count": 15,
   "id": "7e4b2928",
   "metadata": {},
   "outputs": [
    {
     "data": {
      "text/plain": [
       "[543, 5435, 32]"
      ]
     },
     "execution_count": 15,
     "metadata": {},
     "output_type": "execute_result"
    }
   ],
   "source": [
    "fun(543,5435,32)"
   ]
  },
  {
   "cell_type": "markdown",
   "id": "af993bf2",
   "metadata": {},
   "source": [
    "# User defined function that takes any number of input as a variable name along with its values to make a dictionary"
   ]
  },
  {
   "cell_type": "code",
   "execution_count": 17,
   "id": "efe9313c",
   "metadata": {},
   "outputs": [],
   "source": [
    "def dit(**arg) : \n",
    "    return arg"
   ]
  },
  {
   "cell_type": "code",
   "execution_count": 18,
   "id": "55132585",
   "metadata": {},
   "outputs": [
    {
     "data": {
      "text/plain": [
       "{'a': 9, 'b': 7, 'c': [455, 'fdsd']}"
      ]
     },
     "execution_count": 18,
     "metadata": {},
     "output_type": "execute_result"
    }
   ],
   "source": [
    "dit(a=9,b=7,c=[455,\"fdsd\"])"
   ]
  },
  {
   "cell_type": "markdown",
   "id": "d024676e",
   "metadata": {},
   "source": [
    "# Function inside a function"
   ]
  },
  {
   "cell_type": "code",
   "execution_count": 21,
   "id": "a2d068bf",
   "metadata": {},
   "outputs": [],
   "source": [
    "def test1(a) : \n",
    "    print(\"Program to check first name and last name\") \n",
    "    \n",
    "    def test2() :\n",
    "        print(\"This is my first name\") \n",
    "    \n",
    "    def test3():\n",
    "        print(\"This is my last name\")\n",
    "    \n",
    "    if a == \"Remya\":\n",
    "        return test2()\n",
    "    elif a == \"RS\" :\n",
    "        return test3()"
   ]
  },
  {
   "cell_type": "code",
   "execution_count": 23,
   "id": "316681c0",
   "metadata": {},
   "outputs": [
    {
     "name": "stdout",
     "output_type": "stream",
     "text": [
      "Program to check first name and last name\n",
      "This is my first name\n"
     ]
    }
   ],
   "source": [
    "test1(\"Remya\")"
   ]
  },
  {
   "cell_type": "code",
   "execution_count": 25,
   "id": "e512eb7e",
   "metadata": {},
   "outputs": [
    {
     "name": "stdout",
     "output_type": "stream",
     "text": [
      "Program to check first name and last name\n",
      "This is my last name\n"
     ]
    }
   ],
   "source": [
    "test1(\"RS\")"
   ]
  },
  {
   "cell_type": "markdown",
   "id": "a036c0f5",
   "metadata": {},
   "source": [
    "# Importance of return compared to print"
   ]
  },
  {
   "cell_type": "code",
   "execution_count": 29,
   "id": "5aa82a95",
   "metadata": {},
   "outputs": [],
   "source": [
    "def test4():\n",
    "    a = 6\n",
    "    b = 7\n",
    "    c = a+b\n",
    "    return c"
   ]
  },
  {
   "cell_type": "code",
   "execution_count": 30,
   "id": "acc794da",
   "metadata": {},
   "outputs": [
    {
     "data": {
      "text/plain": [
       "13"
      ]
     },
     "execution_count": 30,
     "metadata": {},
     "output_type": "execute_result"
    }
   ],
   "source": [
    "test4()"
   ]
  },
  {
   "cell_type": "code",
   "execution_count": 31,
   "id": "8ed9be10",
   "metadata": {},
   "outputs": [
    {
     "data": {
      "text/plain": [
       "18"
      ]
     },
     "execution_count": 31,
     "metadata": {},
     "output_type": "execute_result"
    }
   ],
   "source": [
    "test4()+5"
   ]
  },
  {
   "cell_type": "code",
   "execution_count": 32,
   "id": "503ef844",
   "metadata": {},
   "outputs": [],
   "source": [
    "def test5():\n",
    "    a = 6\n",
    "    b = 7\n",
    "    c = a+b\n",
    "    print(c)"
   ]
  },
  {
   "cell_type": "code",
   "execution_count": 33,
   "id": "569644b5",
   "metadata": {},
   "outputs": [
    {
     "name": "stdout",
     "output_type": "stream",
     "text": [
      "13\n"
     ]
    }
   ],
   "source": [
    "test5()"
   ]
  },
  {
   "cell_type": "code",
   "execution_count": 35,
   "id": "dd6f6dd1",
   "metadata": {},
   "outputs": [
    {
     "name": "stdout",
     "output_type": "stream",
     "text": [
      "13\n"
     ]
    },
    {
     "ename": "TypeError",
     "evalue": "unsupported operand type(s) for +: 'NoneType' and 'int'",
     "output_type": "error",
     "traceback": [
      "\u001b[1;31m---------------------------------------------------------------------------\u001b[0m",
      "\u001b[1;31mTypeError\u001b[0m                                 Traceback (most recent call last)",
      "Input \u001b[1;32mIn [35]\u001b[0m, in \u001b[0;36m<cell line: 1>\u001b[1;34m()\u001b[0m\n\u001b[1;32m----> 1\u001b[0m \u001b[43mtest5\u001b[49m\u001b[43m(\u001b[49m\u001b[43m)\u001b[49m\u001b[38;5;241;43m+\u001b[39;49m\u001b[38;5;241;43m5\u001b[39;49m\n",
      "\u001b[1;31mTypeError\u001b[0m: unsupported operand type(s) for +: 'NoneType' and 'int'"
     ]
    }
   ],
   "source": [
    "test5()+5"
   ]
  },
  {
   "cell_type": "markdown",
   "id": "6e9d9e20",
   "metadata": {},
   "source": [
    "# Using decorator function"
   ]
  },
  {
   "cell_type": "code",
   "execution_count": 47,
   "id": "99bb318e",
   "metadata": {},
   "outputs": [],
   "source": [
    "def test6(func):\n",
    "    def test7(a,b):\n",
    "        func(a,b)\n",
    "        print(\"This is my decorator function\")\n",
    "        return func(a,b)\n",
    "    return test7"
   ]
  },
  {
   "cell_type": "code",
   "execution_count": 48,
   "id": "e9ab1e7f",
   "metadata": {},
   "outputs": [],
   "source": [
    "@test6\n",
    "def test8(a,b):\n",
    "    return a+b"
   ]
  },
  {
   "cell_type": "code",
   "execution_count": 49,
   "id": "bc19d0af",
   "metadata": {},
   "outputs": [
    {
     "name": "stdout",
     "output_type": "stream",
     "text": [
      "This is my decorator function\n"
     ]
    },
    {
     "data": {
      "text/plain": [
       "15"
      ]
     },
     "execution_count": 49,
     "metadata": {},
     "output_type": "execute_result"
    }
   ],
   "source": [
    "test8(7,8)"
   ]
  },
  {
   "cell_type": "code",
   "execution_count": 54,
   "id": "033f75ca",
   "metadata": {},
   "outputs": [],
   "source": [
    "def test6(func):\n",
    "    def test7(*arg,**karg):\n",
    "        func(*arg,**karg)\n",
    "        print(\"This is my decorator function\")\n",
    "        return func(*arg,**karg)\n",
    "    return test7"
   ]
  },
  {
   "cell_type": "code",
   "execution_count": 55,
   "id": "b2973b66",
   "metadata": {},
   "outputs": [],
   "source": [
    "@test6 # its wraper\n",
    "def test8(a,b):\n",
    "    return a+b"
   ]
  },
  {
   "cell_type": "code",
   "execution_count": 56,
   "id": "9fe4ca7a",
   "metadata": {},
   "outputs": [
    {
     "name": "stdout",
     "output_type": "stream",
     "text": [
      "This is my decorator function\n"
     ]
    },
    {
     "data": {
      "text/plain": [
       "15"
      ]
     },
     "execution_count": 56,
     "metadata": {},
     "output_type": "execute_result"
    }
   ],
   "source": [
    "test8(7,8)"
   ]
  },
  {
   "cell_type": "code",
   "execution_count": 57,
   "id": "257c3608",
   "metadata": {},
   "outputs": [
    {
     "name": "stdout",
     "output_type": "stream",
     "text": [
      "This is my decorator function\n"
     ]
    },
    {
     "data": {
      "text/plain": [
       "'Remya R S'"
      ]
     },
     "execution_count": 57,
     "metadata": {},
     "output_type": "execute_result"
    }
   ],
   "source": [
    "test8(\"Remya \",\"R S\")"
   ]
  },
  {
   "cell_type": "markdown",
   "id": "b7d17cea",
   "metadata": {},
   "source": [
    "# Lambda function"
   ]
  },
  {
   "cell_type": "markdown",
   "id": "738f119a",
   "metadata": {},
   "source": [
    "Used for making simple logic only\n",
    "\n",
    "For one line function"
   ]
  },
  {
   "cell_type": "code",
   "execution_count": 58,
   "id": "b29aa2e9",
   "metadata": {},
   "outputs": [
    {
     "data": {
      "text/plain": [
       "15"
      ]
     },
     "execution_count": 58,
     "metadata": {},
     "output_type": "execute_result"
    }
   ],
   "source": [
    "c = lambda a,b:a+b\n",
    "c(6,9)"
   ]
  },
  {
   "cell_type": "code",
   "execution_count": 60,
   "id": "fff26ead",
   "metadata": {},
   "outputs": [
    {
     "data": {
      "text/plain": [
       "13.0"
      ]
     },
     "execution_count": 60,
     "metadata": {},
     "output_type": "execute_result"
    }
   ],
   "source": [
    "d = lambda a,b,c: a+b/c\n",
    "d(8,10,2)"
   ]
  },
  {
   "cell_type": "markdown",
   "id": "39d4e7dd",
   "metadata": {},
   "source": [
    "# Map Function"
   ]
  },
  {
   "cell_type": "code",
   "execution_count": 62,
   "id": "1f2bcaa2",
   "metadata": {},
   "outputs": [
    {
     "data": {
      "text/plain": [
       "[11, 12, 13, 14, 15, 16, 17]"
      ]
     },
     "execution_count": 62,
     "metadata": {},
     "output_type": "execute_result"
    }
   ],
   "source": [
    "l = [1,2,3,4,5,6,7]\n",
    "# To make a list whose elements will be 10 + elements of list l\n",
    "\n",
    "def testm(a):\n",
    "    return a+10\n",
    "\n",
    "list(map(testm, l))# To do one to one mapping of function testm with data input l,   then list is used to make list out of it"
   ]
  },
  {
   "cell_type": "markdown",
   "id": "1d38ea0b",
   "metadata": {},
   "source": [
    "other way"
   ]
  },
  {
   "cell_type": "code",
   "execution_count": 63,
   "id": "7426e6f9",
   "metadata": {},
   "outputs": [
    {
     "data": {
      "text/plain": [
       "[11, 12, 13, 14, 15, 16, 17]"
      ]
     },
     "execution_count": 63,
     "metadata": {},
     "output_type": "execute_result"
    }
   ],
   "source": [
    "l = [1,2,3,4,5,6,7]\n",
    "# To make a list whose elements will be 10 + elements of list l\n",
    "\n",
    "d = lambda a: a+10\n",
    "\n",
    "list(map(d, l))# To do one to one mapping of function testm with data input l,   then list is used to make list out of it"
   ]
  },
  {
   "cell_type": "code",
   "execution_count": 65,
   "id": "fde7be5d",
   "metadata": {},
   "outputs": [
    {
     "data": {
      "text/plain": [
       "['SHF', 'SHFJD', 'ASDFIAS']"
      ]
     },
     "execution_count": 65,
     "metadata": {},
     "output_type": "execute_result"
    }
   ],
   "source": [
    "l = [\"shf\",\"shfjd\",\"asdfias\"]\n",
    "# To make all elements in list to uppercase\n",
    "e = lambda a:a.upper()\n",
    "list(map(e,l))"
   ]
  },
  {
   "cell_type": "markdown",
   "id": "6c78a069",
   "metadata": {},
   "source": [
    "# Filter Function"
   ]
  },
  {
   "cell_type": "code",
   "execution_count": 66,
   "id": "4b3b1fa9",
   "metadata": {},
   "outputs": [],
   "source": [
    "l = [1,7,4,3,8,2]\n",
    "l1=[]\n",
    "for i in l:\n",
    "    if i%2==0:\n",
    "       l1.append(i) "
   ]
  },
  {
   "cell_type": "code",
   "execution_count": 67,
   "id": "bfddcdcc",
   "metadata": {},
   "outputs": [
    {
     "data": {
      "text/plain": [
       "[4, 8, 2]"
      ]
     },
     "execution_count": 67,
     "metadata": {},
     "output_type": "execute_result"
    }
   ],
   "source": [
    "l1"
   ]
  },
  {
   "cell_type": "code",
   "execution_count": 68,
   "id": "e0964487",
   "metadata": {},
   "outputs": [
    {
     "data": {
      "text/plain": [
       "[4, 8, 2]"
      ]
     },
     "execution_count": 68,
     "metadata": {},
     "output_type": "execute_result"
    }
   ],
   "source": [
    "a = lambda a:a if a%2==0 else None\n",
    "\n",
    "list(filter(a,l))"
   ]
  },
  {
   "cell_type": "code",
   "execution_count": 69,
   "id": "439a9c8e",
   "metadata": {},
   "outputs": [],
   "source": [
    "def testf(i):\n",
    "    if i%2==0:\n",
    "        return True\n",
    "    else:\n",
    "        return False"
   ]
  },
  {
   "cell_type": "code",
   "execution_count": 70,
   "id": "da2df732",
   "metadata": {},
   "outputs": [
    {
     "data": {
      "text/plain": [
       "[4, 8, 2]"
      ]
     },
     "execution_count": 70,
     "metadata": {},
     "output_type": "execute_result"
    }
   ],
   "source": [
    "list(filter(testf,l))"
   ]
  },
  {
   "cell_type": "markdown",
   "id": "bb3e612a",
   "metadata": {},
   "source": [
    "# Reduce Function"
   ]
  },
  {
   "cell_type": "code",
   "execution_count": 74,
   "id": "65532e22",
   "metadata": {},
   "outputs": [
    {
     "data": {
      "text/plain": [
       "15120"
      ]
     },
     "execution_count": 74,
     "metadata": {},
     "output_type": "execute_result"
    }
   ],
   "source": [
    "l=[2,5,3,7,9,8]\n",
    "#using reduce fuction multiply elements of list\n",
    "from functools import reduce\n",
    "reduce(lambda a,b:a*b,l)"
   ]
  },
  {
   "cell_type": "code",
   "execution_count": null,
   "id": "92500b91",
   "metadata": {},
   "outputs": [],
   "source": []
  }
 ],
 "metadata": {
  "kernelspec": {
   "display_name": "Python 3 (ipykernel)",
   "language": "python",
   "name": "python3"
  },
  "language_info": {
   "codemirror_mode": {
    "name": "ipython",
    "version": 3
   },
   "file_extension": ".py",
   "mimetype": "text/x-python",
   "name": "python",
   "nbconvert_exporter": "python",
   "pygments_lexer": "ipython3",
   "version": "3.9.12"
  }
 },
 "nbformat": 4,
 "nbformat_minor": 5
}
