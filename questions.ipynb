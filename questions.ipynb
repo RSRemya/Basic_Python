{
 "cells": [
  {
   "cell_type": "raw",
   "id": "60b6f0c4-87d7-464a-a919-fafe79fbb6eb",
   "metadata": {},
   "source": [
    "1. Print the first 5 positive integers in ascending order with one number \n",
    "in each line"
   ]
  },
  {
   "cell_type": "code",
   "execution_count": 1,
   "id": "08138a65",
   "metadata": {},
   "outputs": [
    {
     "name": "stdout",
     "output_type": "stream",
     "text": [
      "1\n",
      "2\n",
      "3\n",
      "4\n",
      "5\n"
     ]
    }
   ],
   "source": [
    "for i in range(1,6):\n",
    "    print(i)"
   ]
  },
  {
   "cell_type": "raw",
   "id": "a723c70f-2393-4dcc-b34c-2e045588207b",
   "metadata": {},
   "source": [
    "2. Print the following pattern\n",
    "*\n",
    "**\n",
    "***\n",
    "****\n",
    "*****\n",
    "There are no spaces between consecutive stars. There are no spaces \n",
    "at the end of each line."
   ]
  },
  {
   "cell_type": "code",
   "execution_count": 2,
   "id": "4f845b33",
   "metadata": {},
   "outputs": [
    {
     "name": "stdout",
     "output_type": "stream",
     "text": [
      "*\n",
      "**\n",
      "***\n",
      "****\n",
      "*****\n"
     ]
    }
   ],
   "source": [
    "for i in range(1,6):\n",
    "    print(i*\"*\")"
   ]
  },
  {
   "cell_type": "raw",
   "id": "d9263791-a394-44ee-8ba9-4fb01759b6ac",
   "metadata": {},
   "source": [
    "3. Accept an integer as input and print its square as output."
   ]
  },
  {
   "cell_type": "code",
   "execution_count": 3,
   "id": "a037ce33",
   "metadata": {},
   "outputs": [
    {
     "name": "stdout",
     "output_type": "stream",
     "text": [
      "Enter a number5\n",
      "25\n"
     ]
    }
   ],
   "source": [
    "x = int(input(\"Enter a number\"))\n",
    "y = x*x\n",
    "print(y)"
   ]
  },
  {
   "cell_type": "raw",
   "id": "49ca4411-ab36-4e57-8d62-3628156bc49b",
   "metadata": {},
   "source": [
    "4.Accept two integers as input and print their sum as output."
   ]
  },
  {
   "cell_type": "code",
   "execution_count": 6,
   "id": "dee156cb",
   "metadata": {},
   "outputs": [
    {
     "name": "stdout",
     "output_type": "stream",
     "text": [
      "Enter a number: 9\n",
      "Enter another number to be added to it: 7\n",
      "Sum of the two numbers are :  16\n"
     ]
    }
   ],
   "source": [
    "x = int(input(\"Enter a number: \"))\n",
    "y = int(input(\"Enter another number to be added to it: \"))\n",
    "print(\"Sum of the two numbers are : \",x+y)"
   ]
  },
  {
   "cell_type": "raw",
   "id": "f303afc2-f3af-4d9d-a4d8-7c2da8f24e3c",
   "metadata": {},
   "source": [
    "5. Accept two words as input and print the two words after adding a \n",
    "space between them"
   ]
  },
  {
   "cell_type": "code",
   "execution_count": 8,
   "id": "1cea2632",
   "metadata": {},
   "outputs": [
    {
     "name": "stdout",
     "output_type": "stream",
     "text": [
      "Enter a word: Remya\n",
      "Enter another word to be added to it: R S\n",
      "output :  Remya R S\n"
     ]
    }
   ],
   "source": [
    "x =input(\"Enter a word: \")\n",
    "y = input(\"Enter another word to be added to it: \")\n",
    "print(\"output : \",x+\" \"+y)"
   ]
  },
  {
   "cell_type": "raw",
   "id": "1fdd53ab-a380-4caa-bdec-2876024a044d",
   "metadata": {},
   "source": [
    "6. Accept the registration number of a vehicle as input and print its \n",
    "state-code as output."
   ]
  },
  {
   "cell_type": "code",
   "execution_count": 9,
   "id": "00274c27",
   "metadata": {},
   "outputs": [
    {
     "name": "stdout",
     "output_type": "stream",
     "text": [
      "Enter the registration number of vehicle : KL-2045\n",
      "State code of registration number is :  KL\n"
     ]
    }
   ],
   "source": [
    "reg_no = input(\"Enter the registration number of vehicle : \")\n",
    "print(\"State code of registration number is : \", reg_no[0:2])"
   ]
  },
  {
   "cell_type": "raw",
   "id": "e476d0d4-2d90-4764-b4ce-91d6d67729c2",
   "metadata": {},
   "source": [
    "7.Accept a five-digit number as input and print the sum of its digits as \n",
    "output."
   ]
  },
  {
   "cell_type": "code",
   "execution_count": 13,
   "id": "4030abe0",
   "metadata": {},
   "outputs": [
    {
     "name": "stdout",
     "output_type": "stream",
     "text": [
      "Enter a set of 5 numbers to be added : 42578\n",
      "Sum is :  26\n"
     ]
    }
   ],
   "source": [
    "a = input(\"Enter a set of 5 numbers to be added : \")\n",
    "x=0\n",
    "for i in range(0,5):\n",
    "    x=x+int(a[i])    \n",
    "print(\"Sum is : \", x)"
   ]
  },
  {
   "cell_type": "code",
   "execution_count": 11,
   "id": "218bd694",
   "metadata": {},
   "outputs": [
    {
     "name": "stdout",
     "output_type": "stream",
     "text": [
      "Enter a set of 5 numbers to be added : 19305\n",
      "Output is :  18\n"
     ]
    }
   ],
   "source": [
    "x = input(\"Enter a set of 5 numbers to be added : \")\n",
    "y = int(x[0])+int(x[1])+int(x[2])+int(x[3])+int(x[4])\n",
    "print(\"Output is : \", y)"
   ]
  },
  {
   "cell_type": "raw",
   "id": "47ef2a83-4d51-4340-8770-9490474f43a9",
   "metadata": {},
   "source": [
    "8.Accept five words as input and print the sentence formed by these \n",
    "words after adding a space between consecutive words and a full stop \n",
    "at the end."
   ]
  },
  {
   "cell_type": "code",
   "execution_count": 15,
   "id": "35790d40",
   "metadata": {},
   "outputs": [
    {
     "name": "stdout",
     "output_type": "stream",
     "text": [
      "Enter a first word : This\n",
      "Enter next word : is\n",
      "Enter next word : a\n",
      "Enter next word : practice\n",
      "Enter next word : class\n",
      "Enter next word : now\n",
      "Sentence  is :  This is a practice class now.\n"
     ]
    }
   ],
   "source": [
    "x=input(\"Enter a first word : \")\n",
    "for i in range(0,5):\n",
    "    y = input(\"Enter next word : \")\n",
    "    x=x+\" \"+y\n",
    "    if i==4:\n",
    "        x=x+\".\"\n",
    "print(\"Sentence  is : \", x)"
   ]
  },
  {
   "cell_type": "raw",
   "id": "7b0fb9d7-98dc-4ab9-9548-c12f49f787a0",
   "metadata": {},
   "source": [
    "9.Accept the date in DD-MM-YYYY format as input and print the \n",
    "year as output."
   ]
  },
  {
   "cell_type": "code",
   "execution_count": 19,
   "id": "284490ae",
   "metadata": {},
   "outputs": [
    {
     "name": "stdout",
     "output_type": "stream",
     "text": [
      "Enter the date in DD-MM-YYYY format as input : 20-11-2022\n",
      "Year in the given date is :  2022\n"
     ]
    }
   ],
   "source": [
    "x=input(\"Enter the date in DD-MM-YYYY format as input : \")\n",
    "print(\"Year in the given date is : \" ,x[6:10])"
   ]
  },
  {
   "cell_type": "raw",
   "id": "521abc20-5c4a-4fda-a3d7-45c626ad4d1c",
   "metadata": {},
   "source": [
    "10.Accept a sequence of five single digit numbers separated by commas \n",
    "as input. Print the product of all five numbers."
   ]
  },
  {
   "cell_type": "code",
   "execution_count": 22,
   "id": "e12ff0a4",
   "metadata": {},
   "outputs": [
    {
     "name": "stdout",
     "output_type": "stream",
     "text": [
      "Enter the a sequence of five single digit numbers separated by commas : 1,2,3,4,5\n",
      "Product of given numbers is :  120\n"
     ]
    }
   ],
   "source": [
    "x=input(\"Enter the a sequence of five single digit numbers separated by commas : \")\n",
    "y=1\n",
    "for i in range(0,10,2):\n",
    "    y=y*int(x[i])\n",
    "print(\"Product of given numbers is : \" ,y)"
   ]
  },
  {
   "cell_type": "raw",
   "id": "482e853e-2564-4eaf-a46b-0f31d3369f58",
   "metadata": {},
   "source": [
    "11. Accept two positive integers x and y as input. Print the number of \n",
    "digits in xy"
   ]
  },
  {
   "cell_type": "code",
   "execution_count": 23,
   "id": "61e0232a",
   "metadata": {},
   "outputs": [
    {
     "name": "stdout",
     "output_type": "stream",
     "text": [
      "Enter number in ten's place : 3\n",
      "Enter number in one's place : 5\n",
      "Output number is :  35\n"
     ]
    }
   ],
   "source": [
    "x = int(input(\"Enter number in ten's place : \"))\n",
    "y = int(input(\"Enter number in one's place : \"))\n",
    "z=10*x+y\n",
    "print(\"Output number is : \", z)"
   ]
  },
  {
   "cell_type": "raw",
   "id": "af890b67-6c1f-412c-bbbe-8fc1358e0a91",
   "metadata": {},
   "source": [
    "12. Accept a string as input. If the input string is of odd length, then \n",
    "continue with it. If the input string is of even length, make the \n",
    "string of odd length as below:\n",
    "• If the last character is a period (.), then remove it \n",
    "• If the last character is not a period, then add a period (.) to the \n",
    "end of the string\n",
    "Call this string of odd length word. Select a substring made up of \n",
    "three consecutive characters from word such that there are an \n",
    "equal number of characters to the left and right of this substring. \n",
    "Print this substring as output. You can assume that all input \n",
    "strings will be in lower case and will have a length of at least four"
   ]
  },
  {
   "cell_type": "code",
   "execution_count": 49,
   "id": "747a4186",
   "metadata": {},
   "outputs": [
    {
     "name": "stdout",
     "output_type": "stream",
     "text": [
      "Enter the a string: ineuron\n",
      "ineuron\n",
      "Three letters in between :  eur\n"
     ]
    }
   ],
   "source": [
    "x=input(\"Enter the a string: \")\n",
    "l = len(x)\n",
    "if l%2==0:\n",
    "    if x[-1]==\".\":\n",
    "        x = x[0:l-1]\n",
    "    else:\n",
    "        x= x+\".\"\n",
    "print(x)\n",
    "\n",
    "n = int(len(x)/2)\n",
    "\n",
    "print(\"Three letters in between : \",x[n-1:n+2])"
   ]
  },
  {
   "cell_type": "raw",
   "id": "7188ddf7-aeae-43c7-add9-8a31e08a2bc9",
   "metadata": {},
   "source": [
    "13. Accept three positive integers as input and check if they form the \n",
    "sides of a right triangle. Print YES if they form one, and NO is they do \n",
    "not. The input will have three lines, with one integer on each line. \n",
    "The output should be a single line containing one of these two \n",
    "strings: YES or NO."
   ]
  },
  {
   "cell_type": "code",
   "execution_count": 53,
   "id": "6f5cf5b9",
   "metadata": {},
   "outputs": [
    {
     "name": "stdout",
     "output_type": "stream",
     "text": [
      "Enter length of side 1 : 3\n",
      "Enter length of side 2 : 4\n",
      "Enter length of side 3 : 5\n",
      "YES\n"
     ]
    }
   ],
   "source": [
    "x = int(input(\"Enter length of side 1 : \"))\n",
    "y = int(input(\"Enter length of side 2 : \"))\n",
    "z = int(input(\"Enter length of side 3 : \"))\n",
    "\n",
    "if (x**2 + y**2 == z**2) or (x**2 + z**2 == y**2) or (z**2 + y**2 == x**2):\n",
    "    print(\"YES\")\n",
    "else:\n",
    "    print(\"NO\")"
   ]
  },
  {
   "cell_type": "raw",
   "id": "5e16b40c-a122-4dbc-a681-bca1fe32a1dc",
   "metadata": {},
   "source": [
    "14. EvenOdd is a tech startup. Each employee at the startup is given an employee id which is a unique \n",
    "positive integer. On one warm Sunday evening, five employees of the company come together for a \n",
    "meeting and sit at a circular table:\n",
    "The employees follow a strange convention. They will continue the meeting only if the following \n",
    "condition is satisfied.\n",
    "The sum of the employee-ids of every pair of adjacent employees at the table must be an even \n",
    "number.\n",
    "They are so lazy that they won’t move around to satisfy the above condition, If the current seating \n",
    "plan doesn’t satisfy the condition, the meeting will be cancelled. You are given the employee-id of all \n",
    "five employees. Your task is to decide if the meeting happened or not.\n",
    "The input will be five lined, each containing an integer. The ith line will have the employee-id of Ei. \n",
    "The output will be a single line containing one of these two strings: YES or NO"
   ]
  },
  {
   "cell_type": "code",
   "execution_count": 56,
   "id": "ad66fab5",
   "metadata": {},
   "outputs": [
    {
     "name": "stdout",
     "output_type": "stream",
     "text": [
      "Employee id of 1st person in count1\n",
      "Employee id of 2nd person in count3\n",
      "Employee id of 3rd person in count5\n",
      "Employee id of 4th person in count7\n",
      "Employee id of 5th person in count9\n",
      "YES\n"
     ]
    }
   ],
   "source": [
    "a = int(input(\"Employee id of 1st person in count\"))\n",
    "b = int(input(\"Employee id of 2nd person in count\"))\n",
    "c = int(input(\"Employee id of 3rd person in count\"))\n",
    "d = int(input(\"Employee id of 4th person in count\"))\n",
    "e = int(input(\"Employee id of 5th person in count\"))\n",
    "\n",
    "if ((a+b)%1==0) and ((c+d)%1==0) and ((a+d)%1==0):\n",
    "    print(\"YES\")\n",
    "else:\n",
    "    print(\"NO\")"
   ]
  },
  {
   "cell_type": "markdown",
   "id": "3d9d9784",
   "metadata": {},
   "source": [
    "15. Accept a string as input and print the vowels present in the string in \n",
    "alphabetical order. If the string doesn’t contain any vowels, then \n",
    "print the string none as output. Each vowel that appears in the input \n",
    "string – irrespective of its case should appear just once in lower case \n",
    "in the output"
   ]
  },
  {
   "cell_type": "code",
   "execution_count": 31,
   "id": "ad363dd3",
   "metadata": {},
   "outputs": [
    {
     "name": "stdout",
     "output_type": "stream",
     "text": [
      "Enter stringiNeuron\n",
      "Letters in words are :  ['i', 'N', 'e', 'u', 'r', 'o', 'n']\n",
      "Vowels in the word are :  ['i', 'e', 'u', 'o']\n"
     ]
    }
   ],
   "source": [
    "x = input(\"Enter string\")\n",
    "lst = list(x)\n",
    "print(\"Letters in words are : \",lst)\n",
    "v = [\"a\",\"e\",\"i\",\"o\",\"u\"]\n",
    "out = []\n",
    "\n",
    "for i in lst:\n",
    "    if i in v:\n",
    "        out.append(i)\n",
    "        \n",
    "print(\"Vowels in the word are : \", out)"
   ]
  },
  {
   "cell_type": "raw",
   "id": "f7e76b4b-b3f7-4766-a82b-5e63a879b380",
   "metadata": {},
   "source": [
    "16.You are given the date of birth of two persons, not necessarily from \n",
    "the same family. Your task is to find the younger of the two. If both \n",
    "of them share the same date of birth, then the younger of the two is \n",
    "assumed to be that person whose name comes first in alphabetical \n",
    "order.\n",
    "The input will have four lines. The first two lines correspond to the \n",
    "first person, while the last two lines correspond to the second \n",
    "person. For each person, the first line corresponds to the name and \n",
    "the second line corresponds to the date of birth in “DD-MM-YYYY” \n",
    "format. Your output should be the name of the younger of the two."
   ]
  },
  {
   "cell_type": "code",
   "execution_count": 36,
   "id": "c6527f77",
   "metadata": {},
   "outputs": [
    {
     "name": "stdout",
     "output_type": "stream",
     "text": [
      "Enter name of 1st person : efhdso\n",
      "Enter date of birth of 1st person : 04-09-1990\n",
      "Enter name of 2nd person : zxdfosdp\n",
      "Enter date of birth of 2nd person : 07-09-1999\n",
      "Younger one is :  zxdfosdp\n"
     ]
    }
   ],
   "source": [
    "name1 = input(\"Enter name of 1st person : \")\n",
    "dob1 = input(\"Enter date of birth of 1st person : \")\n",
    "name2 = input(\"Enter name of 2nd person : \")\n",
    "dob2 = input(\"Enter date of birth of 2nd person : \")\n",
    "\n",
    "if dob1[-4:]==dob2[-4:]:\n",
    "    if name1<name2:\n",
    "        print(\"Younger one is : \", name1)\n",
    "    else:\n",
    "        print(\"Younger one is : \", name2)\n",
    "elif int(dob1[-4:])>int(dob2[-4:]):\n",
    "    print(\"Younger one is : \", name1)\n",
    "else:\n",
    "    print(\"Younger one is : \", name2)"
   ]
  },
  {
   "cell_type": "raw",
   "id": "6ee8f8bd-15aa-40d8-9cef-2f7e22f6cf5d",
   "metadata": {},
   "source": [
    "17.Accept a string as input. Your task is to determine if the input string is a valid password or not. For a \n",
    "string to be a valid password, it must satisfy all the conditions given below:\n",
    "(1) It should have at least 8 and at most 32 characters\n",
    "(2) It should start with an uppercase or lowercase letter\n",
    "(3) It should not have any of these characters: / \\ = ' \"\n",
    "(4) It should not have spaces\n",
    "It could have any character that is not mentioned in the list of characters to be avoided (points 3 and \n",
    "4). Output True if the string forms a valid password and False otherwise"
   ]
  },
  {
   "cell_type": "code",
   "execution_count": 39,
   "id": "bed89b1a",
   "metadata": {},
   "outputs": [
    {
     "name": "stdout",
     "output_type": "stream",
     "text": [
      "Enter a password : iNueron\n",
      "Its not a valid password\n"
     ]
    }
   ],
   "source": [
    "p = input(\"Enter a password : \")\n",
    "if 8<=len(p)<=32 and p[0].isalpha() and (\"/\" not in p) and (\"\\\\\" not in p) and (\"=\" not in p) and (\"'\" not in p) and ('\"' not in p) and (\" \" not in p):\n",
    "    print(\"Its a valid password\")    \n",
    "else:\n",
    "    print(\"Its not a valid password\")"
   ]
  },
  {
   "cell_type": "code",
   "execution_count": 41,
   "id": "ab8cd2c6",
   "metadata": {},
   "outputs": [
    {
     "name": "stdout",
     "output_type": "stream",
     "text": [
      "Enter a password : 4sadhadqq\n",
      "Its not a valid password\n"
     ]
    }
   ],
   "source": [
    "p = input(\"Enter a password : \")\n",
    "if 8<=len(p)<=32 and p[0].isalpha() and (\"/\" not in p) and (\"\\\\\" not in p) and (\"=\" not in p) and (\"'\" not in p) and ('\"' not in p) and (\" \" not in p):\n",
    "    print(\"Its a valid password\")    \n",
    "else:\n",
    "    print(\"Its not a valid password\")"
   ]
  },
  {
   "cell_type": "code",
   "execution_count": 42,
   "id": "6d3f4428",
   "metadata": {},
   "outputs": [
    {
     "name": "stdout",
     "output_type": "stream",
     "text": [
      "Enter a password : japejdtgpfaejjjgopdfkgjdflkb[plxfvobhIHSAOkj[lka[p\n",
      "Its not a valid password\n"
     ]
    }
   ],
   "source": [
    "p = input(\"Enter a password : \")\n",
    "if 8<=len(p)<=32 and p[0].isalpha and (\"/\" not in p) and (\"\\\\\" not in p) and (\"=\" not in p) and (\"'\" not in p) and ('\"' not in p) and (\" \" not in p):\n",
    "    print(\"Its a valid password\")    \n",
    "else:\n",
    "    print(\"Its not a valid password\")"
   ]
  },
  {
   "cell_type": "code",
   "execution_count": 43,
   "id": "15926324",
   "metadata": {},
   "outputs": [
    {
     "name": "stdout",
     "output_type": "stream",
     "text": [
      "Enter a password : sdgk\\sdfjals\n",
      "Its not a valid password\n"
     ]
    }
   ],
   "source": [
    "p = input(\"Enter a password : \")\n",
    "if 8<=len(p)<=32 and p[0].isalpha and (\"/\" not in p) and (\"\\\\\" not in p) and (\"=\" not in p) and (\"'\" not in p) and ('\"' not in p) and (\" \" not in p):\n",
    "    print(\"Its a valid password\")    \n",
    "else:\n",
    "    print(\"Its not a valid password\")"
   ]
  },
  {
   "cell_type": "code",
   "execution_count": 44,
   "id": "a0a93f71",
   "metadata": {},
   "outputs": [
    {
     "name": "stdout",
     "output_type": "stream",
     "text": [
      "Enter a password : sdgaopg/fsdhfoa\n",
      "Its not a valid password\n"
     ]
    }
   ],
   "source": [
    "p = input(\"Enter a password : \")\n",
    "if 8<=len(p)<=32 and p[0].isalpha and (\"/\" not in p) and (\"\\\\\" not in p) and (\"=\" not in p) and (\"'\" not in p) and ('\"' not in p) and (\" \" not in p):\n",
    "    print(\"Its a valid password\")    \n",
    "else:\n",
    "    print(\"Its not a valid password\")"
   ]
  },
  {
   "cell_type": "raw",
   "id": "a4d2f09c-6787-477e-8ed5-4ed4257469cb",
   "metadata": {},
   "source": [
    "18. Accept a positive integer n as input and print the first n positive \n",
    "integers, one number on each line."
   ]
  },
  {
   "cell_type": "code",
   "execution_count": 46,
   "id": "4c76257b",
   "metadata": {},
   "outputs": [
    {
     "name": "stdout",
     "output_type": "stream",
     "text": [
      "Enter a positive number : 9\n",
      "1\n",
      "2\n",
      "3\n",
      "4\n",
      "5\n",
      "6\n",
      "7\n",
      "8\n",
      "9\n"
     ]
    }
   ],
   "source": [
    "n = int(input(\"Enter a positive number : \"))\n",
    "for i in range (1, n+1):\n",
    "    print(i)\n"
   ]
  },
  {
   "cell_type": "raw",
   "id": "0527265b-0110-476d-8bf6-6a724749197e",
   "metadata": {},
   "source": [
    "19.Accept a positive integer n as input, where n is greater than 1. \n",
    "Print PRIME ifnis a prime number and NOTPRIME otherwise."
   ]
  },
  {
   "cell_type": "code",
   "execution_count": 50,
   "id": "42c9b0a7",
   "metadata": {},
   "outputs": [
    {
     "name": "stdout",
     "output_type": "stream",
     "text": [
      "Enter a positive integer other than 0: 7\n",
      "Its a prime number\n"
     ]
    }
   ],
   "source": [
    "n = int(input(\"Enter a positive integer other than 0: \"))\n",
    "x = True\n",
    "\n",
    "if n==1:\n",
    "    x= False\n",
    "    \n",
    "for i in range (2,n):\n",
    "    if n%i == 0:\n",
    "        x=False\n",
    "        \n",
    "if x==True:\n",
    "    print(\"Its a prime number\")\n",
    "else:\n",
    "    print(\"Its not a prime number\")"
   ]
  },
  {
   "cell_type": "raw",
   "id": "8d8297d3-a658-4afd-9b7f-b2ee198faa52",
   "metadata": {},
   "source": [
    "20. Accept two strings as input and form a new string by removing all \n",
    "characters from the second string which are present in the first string. \n",
    "Print this new string as output. You can assume that all input strings \n",
    "will be in lower case."
   ]
  },
  {
   "cell_type": "code",
   "execution_count": 56,
   "id": "6dab0fc5",
   "metadata": {},
   "outputs": [
    {
     "name": "stdout",
     "output_type": "stream",
     "text": [
      "Enter first string having some characters of second string : remya rs\n",
      "Enter second string : remya\n",
      "The new string is :   s\n"
     ]
    }
   ],
   "source": [
    "string1 = input(\"Enter first string having some characters of second string : \")\n",
    "string2 = input(\"Enter second string : \")\n",
    "for i in string1:\n",
    "    if i in string2:\n",
    "        string1=string1.replace(i,\"\")\n",
    "        \n",
    "print(\"The new string is : \", string1)"
   ]
  },
  {
   "cell_type": "raw",
   "id": "9d4ca698-02c3-415a-8b99-7b59c5702d8d",
   "metadata": {},
   "source": [
    "21.Accept a phone number as input. A valid phone number should satisfy \n",
    "the following constraints.\n",
    "(1) The number should start with one of these digits: 6, 7, 8, 9\n",
    "(2) The number should be exactly 10 digits long.\n",
    "(3) No digit should appear more than 7 times in the number.\n",
    "(4) No digit should appear more than 5 times in a row in the \n",
    "number.\n",
    "If the fourth condition is not very clear, then consider this example: \n",
    "the number 9888888765 is invalid because the digit 8 appears more \n",
    "than 5 times in a row. Print the string valid if the phone number is \n",
    "valid. If not, print the string invalid."
   ]
  },
  {
   "cell_type": "code",
   "execution_count": 4,
   "id": "6692e840",
   "metadata": {},
   "outputs": [
    {
     "name": "stdout",
     "output_type": "stream",
     "text": [
      "Enter the phone number : 94444448956\n",
      "Invalid\n"
     ]
    }
   ],
   "source": [
    "x = input(\"Enter the phone number : \")\n",
    "a = False\n",
    "if (len(x)==10 and int(x[0])>5):\n",
    "    for i in range (10):\n",
    "        if x.count(x[i])<8:\n",
    "            a=True\n",
    "            if x[i]*6 in x:\n",
    "                break\n",
    "            else:\n",
    "                break\n",
    "                \n",
    "if a:\n",
    "    print(\"Valid\")\n",
    "else:\n",
    "    print(\"Invalid\")     "
   ]
  },
  {
   "cell_type": "raw",
   "id": "781b0869-d8b7-4f2f-b4cd-16d0e128fd0f",
   "metadata": {},
   "source": [
    "22. In the first line of input, accept a sequence of space-separated words. In the second line of \n",
    "input, accept a single word. If this word is not present in the sequence, print NO. If this word \n",
    "is present in the sequence, then print YES and in the next line of the output, print the number \n",
    "of times the word appears in the sequence."
   ]
  },
  {
   "cell_type": "code",
   "execution_count": 13,
   "id": "0f351ce4",
   "metadata": {},
   "outputs": [
    {
     "name": "stdout",
     "output_type": "stream",
     "text": [
      "Enter a sentence : my name is remya\n",
      "Enter a word : remya\n",
      "YES\n",
      " The word remya appeard 1 times\n"
     ]
    }
   ],
   "source": [
    "sent = input(\"Enter a sentence : \")\n",
    "w = input(\"Enter a word : \")\n",
    "\n",
    "s = sent.split(\" \")\n",
    "\n",
    "if w in s:\n",
    "    print(\"YES\")\n",
    "    print(f\" The word {w} appeard {s.count(w)} times\")\n",
    "else:\n",
    "    print(\"NO\")\n",
    "    "
   ]
  },
  {
   "cell_type": "raw",
   "id": "ea752210-2e2a-428b-937c-31251daf7ba8",
   "metadata": {},
   "source": [
    "23. Write a function named factorial that accepts an integer n as argument. It should return \n",
    "the factorial of n if n is a positive integer. It should return -1 if n is a negative integer, and it \n",
    "should return 1 if n is zero."
   ]
  },
  {
   "cell_type": "code",
   "execution_count": 14,
   "id": "27b1bd4c",
   "metadata": {},
   "outputs": [],
   "source": [
    "def factorial(x):\n",
    "    if x > 0 :\n",
    "        n=1\n",
    "        for i in range(1,x+1):\n",
    "            n= n*i\n",
    "    else:\n",
    "        n = -1\n",
    "    return n\n",
    "            "
   ]
  },
  {
   "cell_type": "code",
   "execution_count": 15,
   "id": "43bae1ec",
   "metadata": {},
   "outputs": [
    {
     "data": {
      "text/plain": [
       "120"
      ]
     },
     "execution_count": 15,
     "metadata": {},
     "output_type": "execute_result"
    }
   ],
   "source": [
    "factorial(5)"
   ]
  },
  {
   "cell_type": "raw",
   "id": "c757a0b6-8450-47af-9b1f-f6ce69ebc775",
   "metadata": {},
   "source": [
    "24. \n",
    "The range of a list of numbers is the difference between the maximum and minimum values in the list\n",
    "Write a function named get_range that accepts a non-empty list of real numbers as argument. It \n",
    "should return the range of the list.\n",
    "(1) Avoid using built-in function such as max and min.\n",
    "(2) You do not have to accept input from the user or print output to the console. You just have to write \n",
    "the function definition."
   ]
  },
  {
   "cell_type": "code",
   "execution_count": 29,
   "id": "a5bbc884",
   "metadata": {},
   "outputs": [],
   "source": [
    "def maxi(L):\n",
    "    maxi = L[0]\n",
    "    for x in L:\n",
    "        if x>L[0]:\n",
    "            maxi = x\n",
    "    return maxi\n",
    "\n",
    "def mini(L):\n",
    "    mini = L[0]\n",
    "    for x in L:\n",
    "        if x<L[0]:\n",
    "            mini = x\n",
    "    return mini\n",
    "\n",
    "def get_range(L):\n",
    "    mx = maxi(L)\n",
    "    mi = mini(L)\n",
    "    r = mx - mi\n",
    "    return r\n"
   ]
  },
  {
   "cell_type": "code",
   "execution_count": 30,
   "id": "ebd52aba",
   "metadata": {},
   "outputs": [
    {
     "data": {
      "text/plain": [
       "7"
      ]
     },
     "execution_count": 30,
     "metadata": {},
     "output_type": "execute_result"
    }
   ],
   "source": [
    "get_range([3,5,7,9,2])"
   ]
  },
  {
   "cell_type": "raw",
   "id": "8f3ba3db-9ed9-4c14-ac23-41f3225ad874",
   "metadata": {},
   "source": [
    "25. Write a function named read_file that accepts a text file named filename as argument. Within \n",
    "the function, read the file and print each line of the file on a separate line in the console. You shouldn't \n",
    "print any extra characters at the end of a line. There shouldn't be an empty line between any two \n",
    "consecutive lines.\n",
    "(1) filename is a string variable that holds the name of the file. For example, in the first test case, it \n",
    "is filename = 'public_1.txt'.\n",
    "(2) You do not have to accept input from the console. You have to write the function definition and \n",
    "print the contents of the file within the function"
   ]
  },
  {
   "cell_type": "raw",
   "id": "b2d94805-f65b-47c2-9d18-2a8bdbe5c2dc",
   "metadata": {},
   "source": [
    "26. A simple algorithm has to be designed to find out whether a student \n",
    "belongs to the Data Science branch or not. The input will be a \n",
    "student's roll number, which is of the form BR18B0000. \n",
    "Here, BR represents the branch code, 18 represents the year of \n",
    "joining, B represents the education level and 0000 represents the \n",
    "specific identification given to the student of that batch. The branch \n",
    "code for Data Science is DS. Print True if the student belongs to \n",
    "Data Science branch and False otherwise."
   ]
  },
  {
   "cell_type": "code",
   "execution_count": 18,
   "id": "27db533e",
   "metadata": {},
   "outputs": [
    {
     "name": "stdout",
     "output_type": "stream",
     "text": [
      "Enter the roll number of student : DS45780990\n",
      "Student belongs to data science branch :True\n"
     ]
    }
   ],
   "source": [
    "x = input(\"Enter the roll number of student : \")\n",
    "if (x[0:2]==\"DS\"):\n",
    "    print(\"Student belongs to data science branch :True\")\n",
    "else:\n",
    "    print(\"False\")"
   ]
  },
  {
   "cell_type": "raw",
   "id": "52e69e6b-ab1d-411c-8750-7a2de08bc8dd",
   "metadata": {},
   "source": [
    "27.The police are trying to track a criminal based on the evidence \n",
    "available at a crime site. Their main clue is a vehicle's damaged \n",
    "number plate. Only the string TN07 is visible. The format of the \n",
    "registration number is AA00AA00, where the first two letters are \n",
    "alphabets, next two are numbers, next two are again alphabets \n",
    "followed by two numbers at the end. A number plate is picked from a \n",
    "database of registration numbers and is given to you as input. Your \n",
    "task is to determine if this could belong to the criminal or not. \n",
    "Print True if the number plate \n",
    "contains TN07 and False otherwise."
   ]
  },
  {
   "cell_type": "code",
   "execution_count": 23,
   "id": "873e61f4",
   "metadata": {
    "scrolled": true
   },
   "outputs": [
    {
     "name": "stdout",
     "output_type": "stream",
     "text": [
      "Enter the number on vehicle number plate : TN07Tf56\n",
      "True\n"
     ]
    }
   ],
   "source": [
    "x = input(\"Enter the number on vehicle number plate : \")\n",
    "if (x[0:4]==\"TN07\") or (x[4:8]==\"TN07\"):\n",
    "    print(\"True\")\n",
    "else:\n",
    "    print(\"False\")"
   ]
  },
  {
   "cell_type": "raw",
   "id": "11b4a079-30a1-480d-a759-2b54ab29f90f",
   "metadata": {},
   "source": [
    "28. You are given a string and two non-negative integers as input. The \n",
    "two integers specify the start and end indices of a substring in the \n",
    "given string. Create a new string by replicating the substring a \n",
    "minimum number of times so that the resulting string is longer than \n",
    "the input string. The input parameters are the string, start index of \n",
    "the substring and the end index of substring (endpoints inclusive) \n",
    "each on a different line."
   ]
  },
  {
   "cell_type": "code",
   "execution_count": 37,
   "id": "c026ec3f",
   "metadata": {},
   "outputs": [
    {
     "name": "stdout",
     "output_type": "stream",
     "text": [
      "Enter the string : Alapuzha\n",
      "Enter starting index of entered string : 2\n",
      "Enter last index of entered string : 5\n",
      "Modified substring is :  apuzapuzapuz\n"
     ]
    }
   ],
   "source": [
    "string = input(\"Enter the string : \")\n",
    "s = int(input(\"Enter starting index of entered string : \"))\n",
    "d = int(input(\"Enter last index of entered string : \"))\n",
    "sub_string = string[s:d+1]\n",
    "\n",
    "out = \"\"\n",
    "while(len(out)<=len(string)):\n",
    "    out = out +sub_string\n",
    "    \n",
    "print(\"Modified substring is : \", out)\n"
   ]
  },
  {
   "cell_type": "raw",
   "id": "2c2d9d8e-e84a-4ca1-8791-8033b8e650a0",
   "metadata": {},
   "source": [
    "29. A class teacher has decided to split her entire class into four groups, namely Sapphire, Peridot, Ruby, \n",
    "and Emerald for sports competitions. For dividing the students into these four groups, she has \n",
    "followed the pattern given below:\n",
    "Sapphire - 1, 5, 9, 13, 17, 21, ...\n",
    "Peridot - 2, 6, 10, 14, 18, 22, ...\n",
    "Ruby - 3, 7, 11, 15, 19, 23, ...\n",
    "Emerald - 4, 8, 12, 16, 20, 24, ...\n",
    "All the students are represented by their roll numbers. Based on the above pattern, given the roll \n",
    "number as input, print the group the student belongs to. Note that the roll number can be any \n",
    "positive integer and not necessarily less than 25."
   ]
  },
  {
   "cell_type": "code",
   "execution_count": 42,
   "id": "33b81a41",
   "metadata": {},
   "outputs": [
    {
     "name": "stdout",
     "output_type": "stream",
     "text": [
      "Enter roll number : 5\n",
      "Student belongs to Sapphire group\n"
     ]
    }
   ],
   "source": [
    "roll = int(input(\"Enter roll number : \"))\n",
    "\n",
    "for i in range(1,25,4):\n",
    "    if roll == i:\n",
    "        print(\"Student belongs to Sapphire group\")\n",
    "    \n",
    "for i in range(2,25,4):\n",
    "    if roll == i:\n",
    "        print(\"Student belongs to Peridot group\")\n",
    "\n",
    "for i in range(3,25,4):\n",
    "    if roll == i:\n",
    "        print(\"Student belongs to Ruby group\")\n",
    "        \n",
    "for i in range(4,25,4):\n",
    "    if roll == i:\n",
    "        print(\"Student belongs to Emerald group\")\n"
   ]
  },
  {
   "cell_type": "raw",
   "id": "7e18467c-5ccb-4820-bc5f-c4adc9babe2c",
   "metadata": {},
   "source": [
    "30. A data science company wants to hire data scientists from abc college. \n",
    "The company follows a certain criteria for selection: for a student to \n",
    "be selected, the number of backlogs should be at most 5 and the \n",
    "CGPA (Cumulative Grade Point Average) should be greater than 6. If \n",
    "the student does not fit the above criteria, then the student is not \n",
    "offered the job. If the student is selected, then the salary offered is \n",
    "equal to 5 times his/her CGPA (in lakhs).\n",
    "Accept the number of backlogs (integer) and the CGPA (float) of the \n",
    "student as input. Your task is to determine if the student is selected or \n",
    "not. If the student is selected, then print the package. If not, then \n",
    "print the string Not Selected."
   ]
  },
  {
   "cell_type": "code",
   "execution_count": 43,
   "id": "fa90befe",
   "metadata": {},
   "outputs": [
    {
     "name": "stdout",
     "output_type": "stream",
     "text": [
      "Enter number of backlogs : 4\n",
      "Enter CGPA of student : 7.8\n",
      "Salary package is :  3900000.0\n"
     ]
    }
   ],
   "source": [
    "back = int(input(\"Enter number of backlogs : \"))\n",
    "cgpa = float(input(\"Enter CGPA of student : \"))\n",
    "\n",
    "if back<=5 and cgpa>6:\n",
    "    print(\"Salary package is : \", 500000*cgpa)\n",
    "else:\n",
    "    print(\"Not selected\")"
   ]
  },
  {
   "cell_type": "raw",
   "id": "15b2b2b3-e511-4184-af23-c42d9ee021b8",
   "metadata": {},
   "source": [
    "31. Accept a string as input and print PALINDROME if it is a \n",
    "palindrome, and NOT PALINDROME otherwise"
   ]
  },
  {
   "cell_type": "code",
   "execution_count": 44,
   "id": "1d8c4158",
   "metadata": {},
   "outputs": [
    {
     "name": "stdout",
     "output_type": "stream",
     "text": [
      "Enter a word : malayalam\n",
      "Its a palindrome\n"
     ]
    }
   ],
   "source": [
    "word = input(\"Enter a word : \")\n",
    "\n",
    "if word[::-1]==word:\n",
    "    print(\"Its a palindrome\")\n",
    "else:\n",
    "    print(\"Its not a palindrome\")"
   ]
  },
  {
   "cell_type": "raw",
   "id": "92cfcd2b-ae26-4009-85b4-15e7996421ac",
   "metadata": {},
   "source": [
    "32. In a portal login website, you are asked to write a function get_password_strength to decide \n",
    "the strength of a password. The strength is decided based on the total score of the password, Use \n",
    "following conditions:\n",
    "1) If password has length greater than 7 then score increases by one point.\n",
    "2) If password has at least one upper case and one lower case alphabets score increases by one point.\n",
    "3) If password has at least one number and no consecutive numbers like 12 or 234 then score \n",
    "increases by one point.\n",
    "4) If password has at least one special character (any character other than numbers and alphabets) then \n",
    "score increases by one point.\n",
    "5) If password contains username, then it is invalid password.\n",
    "If the password has score of four points, three points, two points, or one point then print Very \n",
    "Strong, Strong, Moderate, or Weak respectively. If the password is invalid, then \n",
    "print PASSWORD SHOULD NOT CONTAIN USERNAME and If the score is zero, then print Use a \n",
    "different password.The arguments to the function are username and password which are \n",
    "already defined"
   ]
  },
  {
   "cell_type": "code",
   "execution_count": null,
   "id": "48d1901c",
   "metadata": {},
   "outputs": [],
   "source": [
    "p = input(\"Enter the password to be evaluated : \")\n",
    "user = input(\"Enter username ; \")"
   ]
  },
  {
   "cell_type": "code",
   "execution_count": 26,
   "id": "44940132",
   "metadata": {},
   "outputs": [],
   "source": [
    "def get_password_strength(user, p):\n",
    "    c=0\n",
    "    c_flag = False\n",
    "    capital = \"ABCDEFGHIJKLMNOPQRSTUVWXYZ\"\n",
    "    s_flag = False\n",
    "    small = \"abcdefghijklmnopqrstuvwxyz\"\n",
    "    num = \"0123456789\"\n",
    "    n_flag = False\n",
    "    nc_flag = True\n",
    "    \n",
    "    if user in p:\n",
    "        print(\"password should not contain username\")\n",
    "        return# will return back without executing below statements\n",
    "    \n",
    "    if len(p)>7:\n",
    "        c=c+1    \n",
    "    for  i in range(len(p)):\n",
    "        if p[i] in capital:\n",
    "            c_flag = True\n",
    "        elif p[i] in small:\n",
    "            s_flag = True\n",
    "        elif p[i] in num:\n",
    "            n_flag = True\n",
    "        if n_flag:\n",
    "            if i!=(len(p)-1):\n",
    "                if num[(num.index(p[i]))+1]==p[i+1]:\n",
    "                    nc_flag = False\n",
    "    \n",
    "    if c_flag and s_flag:\n",
    "        c=c+1\n",
    "    if n_flag and nc_flag:\n",
    "        c=c+1\n",
    "    if not p.isalnum():\n",
    "        c=c+1\n",
    "    \n",
    "    if c==4:\n",
    "        print(\"Password is very strong\")\n",
    "        return\n",
    "    elif c==3:\n",
    "        print(\"Password is strong\")\n",
    "        return\n",
    "    elif c==2:\n",
    "        print(\"Password is moderate\")\n",
    "        return\n",
    "    elif c==1:\n",
    "        print(\"Password is weak\")\n",
    "        return\n",
    "    else:\n",
    "        print(\"Use a different password\")\n",
    "        return\n",
    "\n"
   ]
  },
  {
   "cell_type": "code",
   "execution_count": 28,
   "id": "b966a65a",
   "metadata": {},
   "outputs": [
    {
     "name": "stdout",
     "output_type": "stream",
     "text": [
      "Enter the password to be evaluated : ineuron@1234\n",
      "Enter username ; fsds\n",
      "Password is moderate\n"
     ]
    }
   ],
   "source": [
    "p = input(\"Enter the password to be evaluated : \")\n",
    "user = input(\"Enter username ; \")\n",
    "get_password_strength(user, p)"
   ]
  },
  {
   "cell_type": "raw",
   "id": "67644faf-c8dc-439d-9c26-54b16751b2e0",
   "metadata": {},
   "source": [
    "33.decorator that logs the date and time"
   ]
  },
  {
   "cell_type": "code",
   "execution_count": 43,
   "id": "d0b0d1fa",
   "metadata": {},
   "outputs": [],
   "source": [
    "from datetime import datetime\n",
    "\n",
    "def log_datetime(func):\n",
    "    def wrapper():\n",
    "        print(\"function: log_datetime \\n Run on : \", datetime.now())\n",
    "        print(f\"*\"*40)\n",
    "        func()    \n",
    "    return wrapper\n",
    "\n",
    "@log_datetime\n",
    "def daily_backup():\n",
    "    print(\"Daily backup is done\")"
   ]
  },
  {
   "cell_type": "code",
   "execution_count": 44,
   "id": "27a79ffa",
   "metadata": {},
   "outputs": [
    {
     "name": "stdout",
     "output_type": "stream",
     "text": [
      "function: log_datetime \n",
      " Run on :  2022-11-27 20:25:16.137798\n",
      "****************************************\n",
      "Daily backup is done\n"
     ]
    }
   ],
   "source": [
    "daily_backup()"
   ]
  },
  {
   "cell_type": "raw",
   "id": "93474414-e8ba-439d-9f7d-0f3f4eb648b9",
   "metadata": {},
   "source": [
    "34.Program to Get Data Items From a List Appearing Odd Number of Times"
   ]
  },
  {
   "cell_type": "code",
   "execution_count": 52,
   "id": "73ec3deb",
   "metadata": {},
   "outputs": [
    {
     "name": "stdout",
     "output_type": "stream",
     "text": [
      "List having things appearing odd number of times :  [4, 6, 7, 8, 9]\n"
     ]
    }
   ],
   "source": [
    "l = [3,4,3,5,6,5,4,4,7,8,9]\n",
    "\n",
    "new_list = []\n",
    "\n",
    "for i in range(len(l)):\n",
    "    if l.count(l[i])%2!=0:#to remove even number of times things appearing\n",
    "        if l[i] not in new_list:#to remove duplicates\n",
    "            new_list.append(l[i])\n",
    "        \n",
    "print(\"List having things appearing odd number of times : \", new_list)"
   ]
  },
  {
   "cell_type": "raw",
   "id": "70caf71f-6a2d-42a5-bb41-a83e99f3b0cb",
   "metadata": {},
   "source": [
    "35.What are decorators in Python?"
   ]
  },
  {
   "cell_type": "markdown",
   "id": "755770d0",
   "metadata": {},
   "source": [
    "A decorator is a design pattern in Python that allows a user to add new functionality to an existing object without modifying its structure. Decorators are usually called before the definition of a function you want to decorate."
   ]
  },
  {
   "cell_type": "markdown",
   "id": "faf23117",
   "metadata": {},
   "source": [
    "EG: String that is converted into lowercase then split it into words"
   ]
  },
  {
   "cell_type": "code",
   "execution_count": 3,
   "id": "16c73715",
   "metadata": {},
   "outputs": [],
   "source": [
    "# decorator function to convert to lowercase\n",
    "def lowercase_decorator(function):\n",
    "    def wrapper():\n",
    "        func = function()\n",
    "        string_lowercase = func.lower()\n",
    "        return string_lowercase\n",
    "    return wrapper\n",
    "\n",
    "# decorator function to split words\n",
    "\n",
    "def splitter_decorator(function):\n",
    "    def wrapper():\n",
    "        func = function()\n",
    "        string_split = func.split()\n",
    "        return string_split\n",
    "    return wrapper\n",
    "\n",
    "@splitter_decorator #will execute next\n",
    "@lowercase_decorator #will execute first\n",
    "def hello():\n",
    "    return 'HELLO WORLD'"
   ]
  },
  {
   "cell_type": "code",
   "execution_count": 4,
   "id": "c178efde",
   "metadata": {},
   "outputs": [
    {
     "data": {
      "text/plain": [
       "['hello', 'world']"
      ]
     },
     "execution_count": 4,
     "metadata": {},
     "output_type": "execute_result"
    }
   ],
   "source": [
    "hello()"
   ]
  },
  {
   "cell_type": "raw",
   "id": "00d3f3e6-8d1a-459c-8f05-fec2d7a72f0b",
   "metadata": {},
   "source": [
    "36. Remove items from a list while iterating but without creating a different copy of a list.\n",
    "Remove numbers greater than 50\n",
    "number_list = [10, 20, 30, 40, 50, 60, 70, 80, 90, 100]\n",
    "Expected Output: [10, 20, 30, 40, 50]"
   ]
  },
  {
   "cell_type": "code",
   "execution_count": 5,
   "id": "61b0492b",
   "metadata": {},
   "outputs": [
    {
     "name": "stdout",
     "output_type": "stream",
     "text": [
      "[10, 20, 30, 40, 50]\n"
     ]
    }
   ],
   "source": [
    "number_list = [10, 20, 30, 40, 50, 60, 70, 80, 90, 100]\n",
    "i = 0\n",
    "# get list's size\n",
    "n = len(number_list)\n",
    "# iterate list till i is smaller than n\n",
    "while i < n:\n",
    "    # check if number is greater than 50\n",
    "    if number_list[i] > 50:\n",
    "        # delete current index from list\n",
    "        del number_list[i]\n",
    "        # reduce the list size\n",
    "        n = n - 1\n",
    "    else:\n",
    "        # move to next item\n",
    "        i = i + 1\n",
    "print(number_list)"
   ]
  },
  {
   "cell_type": "raw",
   "id": "6a034cd6-9a75-4912-8286-2396360ffa28",
   "metadata": {},
   "source": [
    "37.  Display all duplicate items from a list\n",
    "sample_list = [10, 20, 60, 30, 20, 40, 30, 60, 70, 80]\n",
    "Expected Output: [20, 60, 30]"
   ]
  },
  {
   "cell_type": "code",
   "execution_count": 21,
   "id": "c6ebb3ef",
   "metadata": {},
   "outputs": [
    {
     "name": "stdout",
     "output_type": "stream",
     "text": [
      "[20, 60, 30]\n"
     ]
    }
   ],
   "source": [
    "import collections\n",
    "\n",
    "sample_list = [10, 20, 60, 30, 20, 40, 30, 60, 70, 80]\n",
    "\n",
    "duplicates = []\n",
    "for item, count in collections.Counter(sample_list).items():\n",
    "    if count > 1:\n",
    "        duplicates.append(item)\n",
    "print(duplicates)\n",
    "\n",
    "# class collections.Counter([iterable-or-mapping])\n",
    "#It is used to keep the count of the elements in an iterable in the form of an unordered dictionary\n",
    "#where the key represents the element in the iterable and value represents the count of that element in the iterable."
   ]
  },
  {
   "cell_type": "raw",
   "id": "03607aeb-291c-41e0-bb35-101d53d1f25f",
   "metadata": {},
   "source": [
    "38. Create an outer function that will accept two strings, x and y. (x= 'Emma' and y = 'Kelly'.\n",
    "Create an inner function inside an outer function that will concatenate x and y.\n",
    "At last, an outer function will join the word 'developer' to it."
   ]
  },
  {
   "cell_type": "code",
   "execution_count": 22,
   "id": "fd441456",
   "metadata": {},
   "outputs": [],
   "source": [
    "def outer_func(x,y):\n",
    "    def inner_func(x,y):\n",
    "        return x+y\n",
    "    z = inner_func(x,y)\n",
    "    return z +\"Developer\""
   ]
  },
  {
   "cell_type": "code",
   "execution_count": 23,
   "id": "6abf7f80",
   "metadata": {},
   "outputs": [
    {
     "data": {
      "text/plain": [
       "'remyarsDeveloper'"
      ]
     },
     "execution_count": 23,
     "metadata": {},
     "output_type": "execute_result"
    }
   ],
   "source": [
    "outer_func(\"remya\",\"rs\")"
   ]
  },
  {
   "cell_type": "raw",
   "id": "c3238d35-61fa-4d2a-8e92-c393399b1b5b",
   "metadata": {},
   "source": [
    "39. Modify the element of a nested list inside the following list\n",
    "Change the element 35 to 3500\n",
    "list1 = [5, [10, 15, [20, 25, [30, 35], 40], 45], 50]"
   ]
  },
  {
   "cell_type": "code",
   "execution_count": 26,
   "id": "2d91f26c",
   "metadata": {},
   "outputs": [
    {
     "name": "stdout",
     "output_type": "stream",
     "text": [
      "Modified List :  [5, [10, 15, [20, 25, [30, 3500], 40], 45], 50]\n"
     ]
    }
   ],
   "source": [
    "  "
   ]
  },
  {
   "cell_type": "raw",
   "id": "0106b7da-e95f-46ba-873a-e641d7199be7",
   "metadata": {},
   "source": [
    "40.  Access the nested key increment from the following dictionary\n",
    "Access 12\n",
    "emp_dict = {\n",
    "    \"company\": {\n",
    "        \"employee\": {\n",
    "            \"name\": \"Jess\",\n",
    "            \"payable\": {\n",
    "                \"salary\": 9000,\n",
    "                \"increment\": 12\n",
    "            }\n",
    "        }\n",
    "    }\n",
    "}"
   ]
  },
  {
   "cell_type": "code",
   "execution_count": 30,
   "id": "b40fe374",
   "metadata": {},
   "outputs": [
    {
     "name": "stdout",
     "output_type": "stream",
     "text": [
      "12\n"
     ]
    }
   ],
   "source": [
    "emp_dict = {\n",
    "    \"company\": {\n",
    "        \"employee\": {\n",
    "            \"name\": \"Jess\",\n",
    "            \"payable\": {\n",
    "                \"salary\": 9000,\n",
    "                \"increment\": 12\n",
    "            }\n",
    "        }\n",
    "    }\n",
    "}\n",
    "\n",
    "print(emp_dict[\"company\"][\"employee\"][\"payable\"][\"increment\"])"
   ]
  },
  {
   "cell_type": "raw",
   "id": "a36e12a4-baf9-4c0b-90e6-c16fd60b02ba",
   "metadata": {},
   "source": [
    "41. Print the sum of the current number and the previous number\n",
    "Write a program to iterate the first 10 numbers and in each iteration, print the sum of the current and previous number.\n",
    "Printing current and previous number sum in a range(10)\n",
    "Current Number 0 Previous Number  0  Sum:  0\n",
    "Current Number 1 Previous Number  0  Sum:  1\n",
    "Current Number 2 Previous Number  1  Sum:  3\n",
    "Current Number 3 Previous Number  2  Sum:  5\n",
    "Current Number 4 Previous Number  3  Sum:  7\n",
    "Current Number 5 Previous Number  4  Sum:  9\n",
    "Current Number 6 Previous Number  5  Sum:  11\n",
    "Current Number 7 Previous Number  6  Sum:  13\n",
    "Current Number 8 Previous Number  7  Sum:  15\n",
    "Current Number 9 Previous Number  8  Sum:  17"
   ]
  },
  {
   "cell_type": "code",
   "execution_count": 36,
   "id": "18d8904f",
   "metadata": {},
   "outputs": [
    {
     "name": "stdout",
     "output_type": "stream",
     "text": [
      "Current Number 0 Previous Number  0  Sum:  0\n",
      "Current Number 1 Previous Number  0  Sum:  1\n",
      "Current Number 2 Previous Number  1  Sum:  3\n",
      "Current Number 3 Previous Number  2  Sum:  5\n",
      "Current Number 4 Previous Number  3  Sum:  7\n",
      "Current Number 5 Previous Number  4  Sum:  9\n",
      "Current Number 6 Previous Number  5  Sum:  11\n",
      "Current Number 7 Previous Number  6  Sum:  13\n",
      "Current Number 8 Previous Number  7  Sum:  15\n",
      "Current Number 9 Previous Number  8  Sum:  17\n"
     ]
    }
   ],
   "source": [
    "prev =0\n",
    "for i in range (0,10):\n",
    "    add = i+prev\n",
    "    print(f\"Current Number {i} Previous Number  {prev}  Sum: \",add)\n",
    "    prev = i"
   ]
  },
  {
   "cell_type": "raw",
   "id": "04f5ef21-9056-4a31-bc4d-b5641a6bc80d",
   "metadata": {},
   "source": [
    "42. Print characters from a string that are present at an even index number\n",
    "Write a program to accept a string from the user and display characters that are present at an even index number.\n",
    "\n",
    "For example, str = \"ineuron\" so you should display ‘i’, ‘e’, ‘r’, ‘n’."
   ]
  },
  {
   "cell_type": "code",
   "execution_count": 38,
   "id": "7dc25b1a",
   "metadata": {},
   "outputs": [
    {
     "name": "stdout",
     "output_type": "stream",
     "text": [
      "Enter a stringineuron\n",
      "i e r n "
     ]
    }
   ],
   "source": [
    "string = input(\"Enter a string\")\n",
    "l = len(string)\n",
    "for i in range(0,l):\n",
    "    if i%2==0:\n",
    "        print(string[i], end=\" \")"
   ]
  },
  {
   "cell_type": "raw",
   "id": "19f5f95f-8e4e-48c8-8639-247f8f058efa",
   "metadata": {},
   "source": [
    "43. Print multiplication table form 1 to 10\n",
    "1  2 3 4 5 6 7 8 9 10 \t\t\n",
    "2  4 6 8 10 12 14 16 18 20 \t\t\n",
    "3  6 9 12 15 18 21 24 27 30 \t\t\n",
    "4  8 12 16 20 24 28 32 36 40 \t\t\n",
    "5  10 15 20 25 30 35 40 45 50 \t\t\n",
    "6  12 18 24 30 36 42 48 54 60 \t\t\n",
    "7  14 21 28 35 42 49 56 63 70 \t\t\n",
    "8  16 24 32 40 48 56 64 72 80 \t\t\n",
    "9  18 27 36 45 54 63 72 81 90 \t\t\n",
    "10 20 30 40 50 60 70 80 90 100 "
   ]
  },
  {
   "cell_type": "code",
   "execution_count": 44,
   "id": "5aa4424b",
   "metadata": {},
   "outputs": [
    {
     "name": "stdout",
     "output_type": "stream",
     "text": [
      "1 2 3 4 5 6 7 8 9 10 \n",
      "\n",
      "2 4 6 8 10 12 14 16 18 20 \n",
      "\n",
      "3 6 9 12 15 18 21 24 27 30 \n",
      "\n",
      "4 8 12 16 20 24 28 32 36 40 \n",
      "\n",
      "5 10 15 20 25 30 35 40 45 50 \n",
      "\n",
      "6 12 18 24 30 36 42 48 54 60 \n",
      "\n",
      "7 14 21 28 35 42 49 56 63 70 \n",
      "\n",
      "8 16 24 32 40 48 56 64 72 80 \n",
      "\n",
      "9 18 27 36 45 54 63 72 81 90 \n",
      "\n",
      "10 20 30 40 50 60 70 80 90 100 \n",
      "\n"
     ]
    }
   ],
   "source": [
    "for i in range (1,11):\n",
    "    \n",
    "    for j in range (1,11):\n",
    "        print(i*j, end=\" \")\n",
    "    \n",
    "    print(\"\\n\")"
   ]
  },
  {
   "cell_type": "raw",
   "id": "07f9b814-fc05-4a97-8a50-b762ab2522e6",
   "metadata": {},
   "source": [
    "44. Remove duplicates from a list and create a tuple and find the minimum and maximum number\n",
    "sample_list = [87, 45, 41, 65, 94, 41, 99, 94]\n",
    "Expected Outcome:\n",
    "unique items [87, 45, 41, 65, 99]\n",
    "tuple (87, 45, 41, 65, 99)\n",
    "min: 41\n",
    "max: 99"
   ]
  },
  {
   "cell_type": "code",
   "execution_count": 45,
   "id": "8894e312",
   "metadata": {},
   "outputs": [
    {
     "name": "stdout",
     "output_type": "stream",
     "text": [
      "Unique Items :  [87, 45, 41, 65, 94, 99]\n",
      "tuple :  (87, 45, 41, 65, 94, 99)\n",
      "min :  41\n",
      "max :  99\n"
     ]
    }
   ],
   "source": [
    "sample_list = [87, 45, 41, 65, 94, 41, 99, 94]\n",
    "\n",
    "unique_items = []\n",
    "\n",
    "for i in sample_list:\n",
    "    if i not in unique_items:\n",
    "        unique_items.append(i)\n",
    "        \n",
    "print(\"Unique Items : \", unique_items)\n",
    "print(\"tuple : \", tuple(unique_items))\n",
    "print(\"min : \",min(unique_items))\n",
    "print(\"max : \",max(unique_items))"
   ]
  },
  {
   "cell_type": "raw",
   "id": "f4d4b1a2-7c19-43c4-922c-837b6c40f5fb",
   "metadata": {},
   "source": [
    "45. Write a Python program to create a lambda function that adds 15 to a given number passed in as an argument,\n",
    "also create a lambda function\n",
    "that multiplies argument x with argument y and print the result."
   ]
  },
  {
   "cell_type": "code",
   "execution_count": 46,
   "id": "b9abf818",
   "metadata": {},
   "outputs": [
    {
     "name": "stdout",
     "output_type": "stream",
     "text": [
      "On adding number with 15 result is :  23\n",
      "On adding number with 15 result is :  16\n"
     ]
    }
   ],
   "source": [
    "a = lambda a: a+15\n",
    "print(\"On adding number with 15 result is : \", a(8))\n",
    "b = lambda x, y : x*y\n",
    "print(\"On adding number with 15 result is : \", b(8,2))"
   ]
  },
  {
   "cell_type": "raw",
   "id": "58df2f9a-6310-4e59-a5fe-6658ff7898e1",
   "metadata": {},
   "source": [
    "46. Write a Python program to sort a list of tuples using Lambda."
   ]
  },
  {
   "cell_type": "code",
   "execution_count": 49,
   "id": "4b25fd8d",
   "metadata": {},
   "outputs": [
    {
     "name": "stdout",
     "output_type": "stream",
     "text": [
      "Original list of tuples:\n",
      "[('English', 88), ('Science', 90), ('Maths', 97), ('Social sciences', 82)]\n",
      "\n",
      "Sorting the List of Tuples:\n",
      "[('English', 88), ('Maths', 97), ('Science', 90), ('Social sciences', 82)]\n"
     ]
    }
   ],
   "source": [
    "subject_marks = [('English', 88), ('Science', 90), ('Maths', 97), ('Social sciences', 82)]\n",
    "print(\"Original list of tuples:\")\n",
    "print(subject_marks)\n",
    "subject_marks.sort(key = lambda x: x[1])\n",
    "print(\"\\nSorting the List of Tuples:\")\n",
    "print(subject_marks)"
   ]
  },
  {
   "cell_type": "raw",
   "id": "745bbb70-f71c-4042-a99a-f42bccef267e",
   "metadata": {},
   "source": [
    "47. Write a Python program to extract year, month, date and time using Lambda."
   ]
  },
  {
   "cell_type": "code",
   "execution_count": 59,
   "id": "24c8ff08",
   "metadata": {},
   "outputs": [
    {
     "name": "stdout",
     "output_type": "stream",
     "text": [
      "Year :  2022\n",
      "Month :  11\n",
      "Day :  30\n",
      "Time :  19:29:56.554319\n"
     ]
    }
   ],
   "source": [
    "import datetime\n",
    "\n",
    "now = datetime.datetime.now() \n",
    "\n",
    "y = lambda x : x.year\n",
    "m = lambda x : x.month\n",
    "d = lambda x : x.day\n",
    "t = lambda x : x.time()\n",
    "\n",
    "print(\"Year : \", y(now))\n",
    "print(\"Month : \", m(now))\n",
    "print(\"Day : \", d(now))\n",
    "print(\"Time : \", t(now))"
   ]
  },
  {
   "cell_type": "raw",
   "id": "afcf0f97-d39b-4554-a14f-411096bd515e",
   "metadata": {},
   "source": [
    "48. Write a Python program to count the even, odd numbers in a given array of integers using Lambda."
   ]
  },
  {
   "cell_type": "code",
   "execution_count": 13,
   "id": "907034fc",
   "metadata": {},
   "outputs": [
    {
     "name": "stdout",
     "output_type": "stream",
     "text": [
      "List is :  [1, 2, 3, 5, 7, 8, 9, 10]\n",
      "Number of even numbers in above list are :  3\n",
      "Number of odd numbers in above list are :  5\n"
     ]
    }
   ],
   "source": [
    "k = [1, 2, 3, 5, 7, 8, 9, 10]\n",
    "x = len(list(filter(lambda x : (x%2==0),k)))\n",
    "y = len(list(filter(lambda x : (x%2!=0),k)))\n",
    "print(\"List is : \", k)\n",
    "print(\"Number of even numbers in above list are : \", x)\n",
    "print(\"Number of odd numbers in above list are : \", y)"
   ]
  },
  {
   "cell_type": "code",
   "execution_count": 21,
   "id": "a39f9a1b",
   "metadata": {},
   "outputs": [
    {
     "name": "stdout",
     "output_type": "stream",
     "text": [
      "List is :  [1, 2, 3, 5, 7, 8, 9, 10]\n",
      "Number of even numbers in above list are :  3\n",
      "Number of odd numbers in above list are :  5\n"
     ]
    }
   ],
   "source": [
    "l = [1, 2, 3, 5, 7, 8, 9, 10]\n",
    "\n",
    "x = lambda a:a if a%2==0 else None\n",
    "y = lambda a:a if a%2!=0 else None\n",
    "\n",
    "e=len(list(filter(x,l)))\n",
    "o=len(list(filter(y,l)))\n",
    "\n",
    "print(\"List is : \", l)\n",
    "print(\"Number of even numbers in above list are : \", e)\n",
    "print(\"Number of odd numbers in above list are : \", o)"
   ]
  },
  {
   "cell_type": "raw",
   "id": "dbd65ee9-2f83-4286-a7b3-52f398ab8527",
   "metadata": {},
   "source": [
    "49. Write a Python program to convert all the characters in uppercase and lowercase and eliminate duplicate letters from a given sequence.\n",
    "Use map() function."
   ]
  },
  {
   "cell_type": "code",
   "execution_count": 29,
   "id": "7f873c42",
   "metadata": {},
   "outputs": [
    {
     "name": "stdout",
     "output_type": "stream",
     "text": [
      "The sequence is :  [('I', 'i'), ('E', 'e'), ('A', 'a'), ('B', 'b'), ('U', 'u'), ('O', 'o'), ('F', 'f')]\n"
     ]
    }
   ],
   "source": [
    "l = {'a', 'b', 'E', 'f', 'a', 'i', 'o', 'U', 'a'}\n",
    "def change_case(s):\n",
    "    return s.upper(), s.lower()\n",
    "print(\"The sequence is : \",list(map(change_case,l)))"
   ]
  },
  {
   "cell_type": "raw",
   "id": "78c63beb-b43b-48ad-bb20-31f403af2f10",
   "metadata": {},
   "source": [
    "50.  Write a Python program to square the elements of a list using map() function."
   ]
  },
  {
   "cell_type": "code",
   "execution_count": 27,
   "id": "cbc47721",
   "metadata": {},
   "outputs": [
    {
     "data": {
      "text/plain": [
       "[1, 4, 9, 16, 25, 36, 49]"
      ]
     },
     "execution_count": 27,
     "metadata": {},
     "output_type": "execute_result"
    }
   ],
   "source": [
    "l = [1,2,3,4,5,6,7]\n",
    "\n",
    "\n",
    "d = lambda a: a*a\n",
    "\n",
    "list(map(d, l))"
   ]
  },
  {
   "cell_type": "code",
   "execution_count": null,
   "id": "08f813ad",
   "metadata": {},
   "outputs": [],
   "source": []
  }
 ],
 "metadata": {
  "kernelspec": {
   "display_name": "Python 3 (ipykernel)",
   "language": "python",
   "name": "python3"
  },
  "language_info": {
   "codemirror_mode": {
    "name": "ipython",
    "version": 3
   },
   "file_extension": ".py",
   "mimetype": "text/x-python",
   "name": "python",
   "nbconvert_exporter": "python",
   "pygments_lexer": "ipython3",
   "version": "3.9.12"
  }
 },
 "nbformat": 4,
 "nbformat_minor": 5
}
