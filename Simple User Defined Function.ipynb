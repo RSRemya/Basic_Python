{
 "cells": [
  {
   "cell_type": "markdown",
   "id": "a4390ada",
   "metadata": {},
   "source": [
    "# User defined function which takes 2 input"
   ]
  },
  {
   "cell_type": "code",
   "execution_count": 1,
   "id": "1ea80460",
   "metadata": {},
   "outputs": [],
   "source": [
    "def combine(a,b):\n",
    "    c = a + b\n",
    "    return c"
   ]
  },
  {
   "cell_type": "code",
   "execution_count": 2,
   "id": "ea9316fd",
   "metadata": {},
   "outputs": [
    {
     "data": {
      "text/plain": [
       "8"
      ]
     },
     "execution_count": 2,
     "metadata": {},
     "output_type": "execute_result"
    }
   ],
   "source": [
    "combine(2,6)"
   ]
  },
  {
   "cell_type": "code",
   "execution_count": 3,
   "id": "c8592eb2",
   "metadata": {},
   "outputs": [
    {
     "data": {
      "text/plain": [
       "'iNeuron Class'"
      ]
     },
     "execution_count": 3,
     "metadata": {},
     "output_type": "execute_result"
    }
   ],
   "source": [
    "combine(\"iNeuron\",\" Class\")"
   ]
  },
  {
   "cell_type": "markdown",
   "id": "921d208a",
   "metadata": {},
   "source": [
    "# User defined function that takes any number of input and gives same as output"
   ]
  },
  {
   "cell_type": "code",
   "execution_count": 4,
   "id": "9fbbcbd9",
   "metadata": {},
   "outputs": [],
   "source": [
    "def fun(*args):\n",
    "    return args"
   ]
  },
  {
   "cell_type": "code",
   "execution_count": 5,
   "id": "06c25a6d",
   "metadata": {},
   "outputs": [
    {
     "data": {
      "text/plain": [
       "(1, 2, 3)"
      ]
     },
     "execution_count": 5,
     "metadata": {},
     "output_type": "execute_result"
    }
   ],
   "source": [
    "fun(1,2,3)"
   ]
  },
  {
   "cell_type": "code",
   "execution_count": 6,
   "id": "9ed0de1c",
   "metadata": {},
   "outputs": [
    {
     "data": {
      "text/plain": [
       "('2',)"
      ]
     },
     "execution_count": 6,
     "metadata": {},
     "output_type": "execute_result"
    }
   ],
   "source": [
    "fun(\"2\")"
   ]
  },
  {
   "cell_type": "markdown",
   "id": "2ce710d0",
   "metadata": {},
   "source": [
    "Always output is tuple, To convert it into list following things needed to be done :"
   ]
  },
  {
   "cell_type": "code",
   "execution_count": 8,
   "id": "edf0bcea",
   "metadata": {},
   "outputs": [],
   "source": [
    "def fun(*args):\n",
    "    return list(args)"
   ]
  },
  {
   "cell_type": "code",
   "execution_count": 9,
   "id": "f3deefdb",
   "metadata": {},
   "outputs": [
    {
     "data": {
      "text/plain": [
       "[543, 5435, 32]"
      ]
     },
     "execution_count": 9,
     "metadata": {},
     "output_type": "execute_result"
    }
   ],
   "source": [
    "fun(543,5435,32)"
   ]
  },
  {
   "cell_type": "markdown",
   "id": "9a063185",
   "metadata": {},
   "source": [
    "# User defined function that takes any number of input as a variable name along with its values to make a dictionary"
   ]
  },
  {
   "cell_type": "code",
   "execution_count": 10,
   "id": "1bf9de53",
   "metadata": {},
   "outputs": [],
   "source": [
    "def dit(**arg) : \n",
    "    return arg"
   ]
  },
  {
   "cell_type": "code",
   "execution_count": 11,
   "id": "3dc34c87",
   "metadata": {},
   "outputs": [
    {
     "data": {
      "text/plain": [
       "{'a': 9, 'b': 7, 'c': [455, 'fdsd']}"
      ]
     },
     "execution_count": 11,
     "metadata": {},
     "output_type": "execute_result"
    }
   ],
   "source": [
    "dit(a=9,b=7,c=[455,\"fdsd\"])"
   ]
  },
  {
   "cell_type": "markdown",
   "id": "9a37748d",
   "metadata": {},
   "source": [
    "# Importance of return compared to print"
   ]
  },
  {
   "cell_type": "code",
   "execution_count": 12,
   "id": "218a83a4",
   "metadata": {},
   "outputs": [],
   "source": [
    "def test4():\n",
    "    a = 6\n",
    "    b = 7\n",
    "    c = a+b\n",
    "    return c"
   ]
  },
  {
   "cell_type": "code",
   "execution_count": 13,
   "id": "9c91a179",
   "metadata": {},
   "outputs": [
    {
     "data": {
      "text/plain": [
       "18"
      ]
     },
     "execution_count": 13,
     "metadata": {},
     "output_type": "execute_result"
    }
   ],
   "source": [
    "test4()+5"
   ]
  },
  {
   "cell_type": "code",
   "execution_count": 14,
   "id": "ea7bbbd5",
   "metadata": {},
   "outputs": [],
   "source": [
    "def test5():\n",
    "    a = 6\n",
    "    b = 7\n",
    "    c = a+b\n",
    "    print(c)"
   ]
  },
  {
   "cell_type": "code",
   "execution_count": 15,
   "id": "1ffc7b61",
   "metadata": {},
   "outputs": [
    {
     "name": "stdout",
     "output_type": "stream",
     "text": [
      "13\n"
     ]
    },
    {
     "ename": "TypeError",
     "evalue": "unsupported operand type(s) for +: 'NoneType' and 'int'",
     "output_type": "error",
     "traceback": [
      "\u001b[1;31m---------------------------------------------------------------------------\u001b[0m",
      "\u001b[1;31mTypeError\u001b[0m                                 Traceback (most recent call last)",
      "Input \u001b[1;32mIn [15]\u001b[0m, in \u001b[0;36m<cell line: 1>\u001b[1;34m()\u001b[0m\n\u001b[1;32m----> 1\u001b[0m \u001b[43mtest5\u001b[49m\u001b[43m(\u001b[49m\u001b[43m)\u001b[49m\u001b[38;5;241;43m+\u001b[39;49m\u001b[38;5;241;43m5\u001b[39;49m\n",
      "\u001b[1;31mTypeError\u001b[0m: unsupported operand type(s) for +: 'NoneType' and 'int'"
     ]
    }
   ],
   "source": [
    "test5()+5"
   ]
  },
  {
   "cell_type": "markdown",
   "id": "22257d92",
   "metadata": {},
   "source": [
    "Since print is having datatype nonetype.... its not possible to add it with an integer type datatype"
   ]
  },
  {
   "cell_type": "code",
   "execution_count": null,
   "id": "a0bdb4cd",
   "metadata": {},
   "outputs": [],
   "source": []
  }
 ],
 "metadata": {
  "kernelspec": {
   "display_name": "Python 3 (ipykernel)",
   "language": "python",
   "name": "python3"
  },
  "language_info": {
   "codemirror_mode": {
    "name": "ipython",
    "version": 3
   },
   "file_extension": ".py",
   "mimetype": "text/x-python",
   "name": "python",
   "nbconvert_exporter": "python",
   "pygments_lexer": "ipython3",
   "version": "3.9.12"
  }
 },
 "nbformat": 4,
 "nbformat_minor": 5
}
