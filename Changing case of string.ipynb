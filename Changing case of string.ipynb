{
 "cells": [
  {
   "cell_type": "code",
   "execution_count": 1,
   "id": "0208b055",
   "metadata": {},
   "outputs": [],
   "source": [
    "x = \"COUNTRY\""
   ]
  },
  {
   "cell_type": "raw",
   "id": "59a31a7a",
   "metadata": {},
   "source": [
    "converting string into lowercase"
   ]
  },
  {
   "cell_type": "code",
   "execution_count": 2,
   "id": "39433dbd",
   "metadata": {},
   "outputs": [
    {
     "data": {
      "text/plain": [
       "'country'"
      ]
     },
     "execution_count": 2,
     "metadata": {},
     "output_type": "execute_result"
    }
   ],
   "source": [
    "y=x.lower()\n",
    "y"
   ]
  },
  {
   "cell_type": "raw",
   "id": "f2acac69",
   "metadata": {},
   "source": [
    "converting string into uppercase"
   ]
  },
  {
   "cell_type": "code",
   "execution_count": 3,
   "id": "01426124",
   "metadata": {},
   "outputs": [
    {
     "data": {
      "text/plain": [
       "'COUNTRY'"
      ]
     },
     "execution_count": 3,
     "metadata": {},
     "output_type": "execute_result"
    }
   ],
   "source": [
    "y.upper()"
   ]
  },
  {
   "cell_type": "raw",
   "id": "9e257951",
   "metadata": {},
   "source": [
    "converting the first character of each word to uppercase and the remaining characters to lowercase and returns a new string"
   ]
  },
  {
   "cell_type": "code",
   "execution_count": 4,
   "id": "0f406389",
   "metadata": {},
   "outputs": [
    {
     "data": {
      "text/plain": [
       "'Country'"
      ]
     },
     "execution_count": 4,
     "metadata": {},
     "output_type": "execute_result"
    }
   ],
   "source": [
    "x.title()"
   ]
  },
  {
   "cell_type": "code",
   "execution_count": 5,
   "id": "a5bdcd0b",
   "metadata": {},
   "outputs": [
    {
     "data": {
      "text/plain": [
       "'Country'"
      ]
     },
     "execution_count": 5,
     "metadata": {},
     "output_type": "execute_result"
    }
   ],
   "source": [
    "y.title()"
   ]
  },
  {
   "cell_type": "raw",
   "id": "13adb700",
   "metadata": {},
   "source": [
    "converting only the first character of the string to an uppercase letter and converts all the rest of the characters into lowercase"
   ]
  },
  {
   "cell_type": "code",
   "execution_count": 7,
   "id": "e3d0b357",
   "metadata": {},
   "outputs": [
    {
     "data": {
      "text/plain": [
       "'Country'"
      ]
     },
     "execution_count": 7,
     "metadata": {},
     "output_type": "execute_result"
    }
   ],
   "source": [
    "x.capitalize()"
   ]
  },
  {
   "cell_type": "code",
   "execution_count": null,
   "id": "60a347c1",
   "metadata": {},
   "outputs": [],
   "source": [
    "This method is used to change cases from upper case to lowercase and vice versa."
   ]
  },
  {
   "cell_type": "code",
   "execution_count": 9,
   "id": "b46705dd",
   "metadata": {},
   "outputs": [],
   "source": [
    "z = \"Country\""
   ]
  },
  {
   "cell_type": "code",
   "execution_count": 11,
   "id": "f50dbbb4",
   "metadata": {},
   "outputs": [
    {
     "data": {
      "text/plain": [
       "'cOUNTRY'"
      ]
     },
     "execution_count": 11,
     "metadata": {},
     "output_type": "execute_result"
    }
   ],
   "source": [
    "z.swapcase()"
   ]
  },
  {
   "cell_type": "code",
   "execution_count": null,
   "id": "82a9ae87",
   "metadata": {},
   "outputs": [],
   "source": []
  }
 ],
 "metadata": {
  "kernelspec": {
   "display_name": "Python 3 (ipykernel)",
   "language": "python",
   "name": "python3"
  },
  "language_info": {
   "codemirror_mode": {
    "name": "ipython",
    "version": 3
   },
   "file_extension": ".py",
   "mimetype": "text/x-python",
   "name": "python",
   "nbconvert_exporter": "python",
   "pygments_lexer": "ipython3",
   "version": "3.9.12"
  }
 },
 "nbformat": 4,
 "nbformat_minor": 5
}
