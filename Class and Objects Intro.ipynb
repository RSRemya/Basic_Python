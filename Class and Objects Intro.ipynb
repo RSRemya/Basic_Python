{
 "cells": [
  {
   "cell_type": "markdown",
   "id": "73ef886b",
   "metadata": {},
   "source": [
    "An object can be anything that has properties and function\n",
    "\n",
    "Eg - car is an object\n",
    "\n",
    "        Its properties are - colour, speed, model etc\n",
    "        \n",
    "        Its functionality is - driving\n",
    "        \n",
    "here in case of class and object:\n",
    "\n",
    "properties of an object are actually attributes\n",
    "\n",
    "functionality of an object is actually methods\n",
    "\n",
    "Class is blueprint containing all attributes and methods to create an object\n",
    "\n",
    "or we can say that class ia a code template for object creation\n",
    "\n",
    "Object is instance of a class\n"
   ]
  },
  {
   "cell_type": "code",
   "execution_count": 12,
   "id": "a1f0931a",
   "metadata": {},
   "outputs": [],
   "source": [
    "# Lets create a class called - Robot and add a method(introduce_self) to it\n",
    "\n",
    "class Robot:\n",
    "    def introduce_self(self):# method or function in class, \n",
    "        print(\"My name is \" + self.name)\n",
    "        print(\"My color is \" + self.color)\n",
    "\n",
    "# self represents the instance of the class. By using the “self” we can access the attributes and methods of the class in python."
   ]
  },
  {
   "cell_type": "code",
   "execution_count": 13,
   "id": "f2c3aade",
   "metadata": {},
   "outputs": [],
   "source": [
    "# Now lets creaye an object using class Robot\n",
    "r1 = Robot()#This r1 is an object\n",
    "\n",
    "#now we can add few attributes to it like : name, color, weight\n",
    "r1.name = \"Tom\"\n",
    "r1.color = \"grey\"\n",
    "r1.weight = 300"
   ]
  },
  {
   "cell_type": "code",
   "execution_count": 14,
   "id": "f89c7624",
   "metadata": {},
   "outputs": [
    {
     "name": "stdout",
     "output_type": "stream",
     "text": [
      "My name is Tom\n",
      "My color is grey\n"
     ]
    }
   ],
   "source": [
    "r1.introduce_self()"
   ]
  },
  {
   "cell_type": "code",
   "execution_count": 15,
   "id": "64b170f1",
   "metadata": {},
   "outputs": [],
   "source": [
    "r2 = Robot()\n",
    "r2.name = \"Jerry\"\n",
    "r2.color = \"brown\"\n",
    "r2.weight = 40"
   ]
  },
  {
   "cell_type": "code",
   "execution_count": 16,
   "id": "ed277584",
   "metadata": {},
   "outputs": [
    {
     "name": "stdout",
     "output_type": "stream",
     "text": [
      "My name is Jerry\n",
      "My color is brown\n"
     ]
    }
   ],
   "source": [
    "r2.introduce_self()"
   ]
  },
  {
   "cell_type": "code",
   "execution_count": 10,
   "id": "9b2985f9",
   "metadata": {},
   "outputs": [
    {
     "data": {
      "text/plain": [
       "['__class__',\n",
       " '__delattr__',\n",
       " '__dict__',\n",
       " '__dir__',\n",
       " '__doc__',\n",
       " '__eq__',\n",
       " '__format__',\n",
       " '__ge__',\n",
       " '__getattribute__',\n",
       " '__gt__',\n",
       " '__hash__',\n",
       " '__init__',\n",
       " '__init_subclass__',\n",
       " '__le__',\n",
       " '__lt__',\n",
       " '__module__',\n",
       " '__ne__',\n",
       " '__new__',\n",
       " '__reduce__',\n",
       " '__reduce_ex__',\n",
       " '__repr__',\n",
       " '__setattr__',\n",
       " '__sizeof__',\n",
       " '__str__',\n",
       " '__subclasshook__',\n",
       " '__weakref__',\n",
       " 'color',\n",
       " 'introduce_self',\n",
       " 'name',\n",
       " 'weight']"
      ]
     },
     "execution_count": 10,
     "metadata": {},
     "output_type": "execute_result"
    }
   ],
   "source": [
    "# The dir() function returns all properties and methods of the specified object, without the values\n",
    "dir(r1)"
   ]
  },
  {
   "cell_type": "code",
   "execution_count": 17,
   "id": "57e49edb",
   "metadata": {},
   "outputs": [],
   "source": [
    "# Note - __init__ is special method in a class, used to initialise attributes of a class\n",
    "class Robot:\n",
    "    def __init__(self, name, color, weight):#self is a parameter and here name, color and weight are attributes\n",
    "        self.name = name\n",
    "        self.color = color\n",
    "        self.weight = weight\n",
    "\n",
    "    def introduce_self(self):\n",
    "        print(\"My name is \" + self.name)"
   ]
  },
  {
   "cell_type": "code",
   "execution_count": 18,
   "id": "8496663a",
   "metadata": {},
   "outputs": [],
   "source": [
    "r1 = Robot(\"Tom\", \"grey\", 300)\n",
    "r2 = Robot(\"Jerry\", \"brown\", 40)"
   ]
  },
  {
   "cell_type": "code",
   "execution_count": 19,
   "id": "47dfb4d4",
   "metadata": {},
   "outputs": [
    {
     "name": "stdout",
     "output_type": "stream",
     "text": [
      "My name is Tom\n",
      "My name is Jerry\n"
     ]
    }
   ],
   "source": [
    "r1.introduce_self()\n",
    "r2.introduce_self()"
   ]
  },
  {
   "cell_type": "code",
   "execution_count": 20,
   "id": "79daff85",
   "metadata": {},
   "outputs": [
    {
     "data": {
      "text/plain": [
       "'Tom'"
      ]
     },
     "execution_count": 20,
     "metadata": {},
     "output_type": "execute_result"
    }
   ],
   "source": [
    "r1.name"
   ]
  },
  {
   "cell_type": "code",
   "execution_count": 21,
   "id": "70d55ab1",
   "metadata": {},
   "outputs": [],
   "source": [
    "class Person:\n",
    "    def __init__(self, name, sex, profession):\n",
    "        # data members (instance variables)\n",
    "        self.name = name\n",
    "        self.sex = sex\n",
    "        self.profession = profession\n",
    "\n",
    "    # Behavior (instance methods)\n",
    "    def show(self):\n",
    "        print('Name:', self.name, 'Sex:', self.sex, 'Profession:', self.profession)\n",
    "\n",
    "    # Behavior (instance methods)\n",
    "    def work(self):\n",
    "        print(self.name, 'working as a', self.profession)"
   ]
  },
  {
   "cell_type": "code",
   "execution_count": 22,
   "id": "3f4103e9",
   "metadata": {},
   "outputs": [],
   "source": [
    "jessa = Person('Jessa', 'Female', 'Software Engineer')"
   ]
  },
  {
   "cell_type": "code",
   "execution_count": 23,
   "id": "56bfcf90",
   "metadata": {},
   "outputs": [
    {
     "name": "stdout",
     "output_type": "stream",
     "text": [
      "Name: Jessa Sex: Female Profession: Software Engineer\n"
     ]
    }
   ],
   "source": [
    "jessa.show()"
   ]
  },
  {
   "cell_type": "code",
   "execution_count": 24,
   "id": "064ce468",
   "metadata": {},
   "outputs": [
    {
     "name": "stdout",
     "output_type": "stream",
     "text": [
      "Jessa working as a Software Engineer\n"
     ]
    }
   ],
   "source": [
    "jessa.work()"
   ]
  },
  {
   "cell_type": "code",
   "execution_count": 25,
   "id": "416d5aae",
   "metadata": {},
   "outputs": [
    {
     "data": {
      "text/plain": [
       "'Jessa'"
      ]
     },
     "execution_count": 25,
     "metadata": {},
     "output_type": "execute_result"
    }
   ],
   "source": [
    "jessa.name"
   ]
  },
  {
   "cell_type": "code",
   "execution_count": 26,
   "id": "23e16c5f",
   "metadata": {},
   "outputs": [
    {
     "name": "stdout",
     "output_type": "stream",
     "text": [
      "2222715182768\n",
      "2222715182768\n",
      "Age: 25 Name: Rahul Salary: 30000.0\n"
     ]
    }
   ],
   "source": [
    "class Emp:\n",
    "    def __init__(self):\n",
    "        print(id(self))\n",
    "        self.age=25\n",
    "        self.name=\"Rahul\"\n",
    "        self.salary=30000.0\n",
    "\n",
    "e=Emp()\n",
    "print(id(e))\n",
    "print(\"Age:\",e.age,\"Name:\",e.name,\"Salary:\",e.salary)"
   ]
  },
  {
   "cell_type": "code",
   "execution_count": 27,
   "id": "412f1002",
   "metadata": {},
   "outputs": [],
   "source": [
    "class Circle:\n",
    "    pi = 3.14159\n",
    "\n",
    "    def __init__(self, radius):\n",
    "        self.radius = radius\n",
    "\n",
    "    def area(self):\n",
    "        return self.pi * self.radius**2\n",
    "\n",
    "    def circumference(self):\n",
    "        return 2 * self.pi * self.radius"
   ]
  },
  {
   "cell_type": "code",
   "execution_count": 28,
   "id": "42da7033",
   "metadata": {},
   "outputs": [
    {
     "name": "stdout",
     "output_type": "stream",
     "text": [
      "3.14159\n",
      "3.14159\n"
     ]
    }
   ],
   "source": [
    "c = Circle(10)\n",
    "print(c.pi)\n",
    "print(Circle.pi)"
   ]
  },
  {
   "cell_type": "code",
   "execution_count": 29,
   "id": "e54ccd2c",
   "metadata": {},
   "outputs": [
    {
     "data": {
      "text/plain": [
       "62.8318"
      ]
     },
     "execution_count": 29,
     "metadata": {},
     "output_type": "execute_result"
    }
   ],
   "source": [
    "c.circumference()"
   ]
  },
  {
   "cell_type": "code",
   "execution_count": 30,
   "id": "45b2bab2",
   "metadata": {},
   "outputs": [
    {
     "data": {
      "text/plain": [
       "314.159"
      ]
     },
     "execution_count": 30,
     "metadata": {},
     "output_type": "execute_result"
    }
   ],
   "source": [
    "c.area()"
   ]
  },
  {
   "cell_type": "code",
   "execution_count": 32,
   "id": "58a76145",
   "metadata": {},
   "outputs": [],
   "source": [
    "class BankAccount:\n",
    "    def __init__(self,account_number, name, balance):\n",
    "        self.account_number = account_number\n",
    "        self.name = name\n",
    "        self.balance = balance\n",
    "   \n",
    "    def deposit(self,d_amount):\n",
    "        self.d_amount = d_amount\n",
    "        self.balance = self.balance + self.d_amount\n",
    "        print(self.d_amount, ' is credited into your bank account')\n",
    "        print(f'your current balance is {self.balance}')\n",
    "\n",
    "    def withdraw(self,w_amount):\n",
    "        self.w_amount = w_amount\n",
    "        self.balance = self.balance - self.w_amount\n",
    "        print(self.w_amount, ' is debited into your bank account')\n",
    "        print(f'your current balance is {self.balance}')\n",
    "   \n",
    "    def account_details(self):\n",
    "        print(f'Your name is {self.name}')\n",
    "       \n",
    "        print(f'Your account number is {self.account_number}')\n",
    "        print(f'Your balance is {self.balance}')"
   ]
  },
  {
   "cell_type": "code",
   "execution_count": 35,
   "id": "51f0ff76",
   "metadata": {},
   "outputs": [
    {
     "data": {
      "text/plain": [
       "'Remya'"
      ]
     },
     "execution_count": 35,
     "metadata": {},
     "output_type": "execute_result"
    }
   ],
   "source": [
    "b= BankAccount(349324, \"Remya\",500000)\n",
    "b.name"
   ]
  },
  {
   "cell_type": "code",
   "execution_count": 37,
   "id": "d21b718a",
   "metadata": {},
   "outputs": [
    {
     "name": "stdout",
     "output_type": "stream",
     "text": [
      "60000  is credited into your bank account\n",
      "your current balance is 560000\n"
     ]
    }
   ],
   "source": [
    "b.deposit(60000)"
   ]
  },
  {
   "cell_type": "code",
   "execution_count": 38,
   "id": "4b39f86b",
   "metadata": {},
   "outputs": [
    {
     "name": "stdout",
     "output_type": "stream",
     "text": [
      "500  is debited into your bank account\n",
      "your current balance is 559500\n"
     ]
    }
   ],
   "source": [
    "b.withdraw(500)"
   ]
  },
  {
   "cell_type": "code",
   "execution_count": 41,
   "id": "d1af9510",
   "metadata": {},
   "outputs": [
    {
     "name": "stdout",
     "output_type": "stream",
     "text": [
      "Your name is Remya\n",
      "Your account number is 349324\n",
      "Your balance is 559500\n"
     ]
    }
   ],
   "source": [
    "b.account_details()"
   ]
  },
  {
   "cell_type": "code",
   "execution_count": null,
   "id": "f151bab5",
   "metadata": {},
   "outputs": [],
   "source": []
  }
 ],
 "metadata": {
  "kernelspec": {
   "display_name": "Python 3 (ipykernel)",
   "language": "python",
   "name": "python3"
  },
  "language_info": {
   "codemirror_mode": {
    "name": "ipython",
    "version": 3
   },
   "file_extension": ".py",
   "mimetype": "text/x-python",
   "name": "python",
   "nbconvert_exporter": "python",
   "pygments_lexer": "ipython3",
   "version": "3.9.12"
  }
 },
 "nbformat": 4,
 "nbformat_minor": 5
}
