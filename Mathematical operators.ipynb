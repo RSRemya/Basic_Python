{
 "cells": [
  {
   "cell_type": "code",
   "execution_count": 1,
   "id": "81c17f55",
   "metadata": {},
   "outputs": [],
   "source": [
    "A =8\n",
    "B=4"
   ]
  },
  {
   "cell_type": "code",
   "execution_count": 2,
   "id": "dd53f46a",
   "metadata": {},
   "outputs": [
    {
     "data": {
      "text/plain": [
       "12"
      ]
     },
     "execution_count": 2,
     "metadata": {},
     "output_type": "execute_result"
    }
   ],
   "source": [
    "A+B# ADDITION"
   ]
  },
  {
   "cell_type": "code",
   "execution_count": 3,
   "id": "3c5fb211",
   "metadata": {},
   "outputs": [
    {
     "data": {
      "text/plain": [
       "4"
      ]
     },
     "execution_count": 3,
     "metadata": {},
     "output_type": "execute_result"
    }
   ],
   "source": [
    "A-B# SUBTRACTION"
   ]
  },
  {
   "cell_type": "code",
   "execution_count": 4,
   "id": "cdd7d929",
   "metadata": {},
   "outputs": [
    {
     "data": {
      "text/plain": [
       "32"
      ]
     },
     "execution_count": 4,
     "metadata": {},
     "output_type": "execute_result"
    }
   ],
   "source": [
    "A*B# MULTIPLICATION"
   ]
  },
  {
   "cell_type": "code",
   "execution_count": 5,
   "id": "1f3e1edd",
   "metadata": {},
   "outputs": [
    {
     "data": {
      "text/plain": [
       "2.0"
      ]
     },
     "execution_count": 5,
     "metadata": {},
     "output_type": "execute_result"
    }
   ],
   "source": [
    "A/B# DIVISION"
   ]
  },
  {
   "cell_type": "code",
   "execution_count": 6,
   "id": "f275ff27",
   "metadata": {},
   "outputs": [
    {
     "data": {
      "text/plain": [
       "4"
      ]
     },
     "execution_count": 6,
     "metadata": {},
     "output_type": "execute_result"
    }
   ],
   "source": [
    "A//2# INTEGER DIVISION"
   ]
  },
  {
   "cell_type": "code",
   "execution_count": 7,
   "id": "902b3645",
   "metadata": {},
   "outputs": [
    {
     "data": {
      "text/plain": [
       "2.6666666666666665"
      ]
     },
     "execution_count": 7,
     "metadata": {},
     "output_type": "execute_result"
    }
   ],
   "source": [
    "C=3\n",
    "A/C"
   ]
  },
  {
   "cell_type": "code",
   "execution_count": 8,
   "id": "f98d3629",
   "metadata": {},
   "outputs": [
    {
     "data": {
      "text/plain": [
       "2"
      ]
     },
     "execution_count": 8,
     "metadata": {},
     "output_type": "execute_result"
    }
   ],
   "source": [
    "A//C"
   ]
  },
  {
   "cell_type": "code",
   "execution_count": 9,
   "id": "7c7f5e9b",
   "metadata": {},
   "outputs": [
    {
     "data": {
      "text/plain": [
       "2"
      ]
     },
     "execution_count": 9,
     "metadata": {},
     "output_type": "execute_result"
    }
   ],
   "source": [
    "A%C# REMAINDER"
   ]
  },
  {
   "cell_type": "code",
   "execution_count": 10,
   "id": "d0fa7ca4",
   "metadata": {},
   "outputs": [
    {
     "data": {
      "text/plain": [
       "0"
      ]
     },
     "execution_count": 10,
     "metadata": {},
     "output_type": "execute_result"
    }
   ],
   "source": [
    "A%B"
   ]
  }
 ],
 "metadata": {
  "kernelspec": {
   "display_name": "Python 3 (ipykernel)",
   "language": "python",
   "name": "python3"
  },
  "language_info": {
   "codemirror_mode": {
    "name": "ipython",
    "version": 3
   },
   "file_extension": ".py",
   "mimetype": "text/x-python",
   "name": "python",
   "nbconvert_exporter": "python",
   "pygments_lexer": "ipython3",
   "version": "3.9.13"
  }
 },
 "nbformat": 4,
 "nbformat_minor": 5
}
