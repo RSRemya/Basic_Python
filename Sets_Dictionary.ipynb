{
 "cells": [
  {
   "cell_type": "markdown",
   "id": "de748992",
   "metadata": {},
   "source": [
    "# Sets"
   ]
  },
  {
   "cell_type": "code",
   "execution_count": 6,
   "id": "3bce4671",
   "metadata": {},
   "outputs": [
    {
     "data": {
      "text/plain": [
       "set"
      ]
     },
     "execution_count": 6,
     "metadata": {},
     "output_type": "execute_result"
    }
   ],
   "source": [
    "myset = {\"a\", \"b\", \"c\"}\n",
    "type(myset)"
   ]
  },
  {
   "cell_type": "code",
   "execution_count": 11,
   "id": "10ec274d",
   "metadata": {},
   "outputs": [
    {
     "name": "stdout",
     "output_type": "stream",
     "text": [
      "{'c', 'b', 'a'}\n"
     ]
    }
   ],
   "source": [
    "list = [\"a\", \"b\",\"c\"]\n",
    "the_set = set(list)\n",
    "print(the_set)"
   ]
  },
  {
   "cell_type": "code",
   "execution_count": 12,
   "id": "04a0f514",
   "metadata": {},
   "outputs": [
    {
     "name": "stdout",
     "output_type": "stream",
     "text": [
      "{'c', 'w', 'b', 'a'}\n"
     ]
    }
   ],
   "source": [
    "the_set.add(\"w\")\n",
    "print(the_set )"
   ]
  },
  {
   "cell_type": "markdown",
   "id": "aba1175f",
   "metadata": {},
   "source": [
    "# Dictionary"
   ]
  },
  {
   "cell_type": "code",
   "execution_count": 14,
   "id": "928f1432",
   "metadata": {},
   "outputs": [
    {
     "data": {
      "text/plain": [
       "dict"
      ]
     },
     "execution_count": 14,
     "metadata": {},
     "output_type": "execute_result"
    }
   ],
   "source": [
    "dit = {\"key1\" : \"sudh\" , \"key2\" : [2,3,4,5]}\n",
    "type(dit)"
   ]
  },
  {
   "cell_type": "code",
   "execution_count": 23,
   "id": "f2918356",
   "metadata": {},
   "outputs": [
    {
     "data": {
      "text/plain": [
       "{'key1': 'sudh', 'key2': [2, 3, 4, 5]}"
      ]
     },
     "execution_count": 23,
     "metadata": {},
     "output_type": "execute_result"
    }
   ],
   "source": [
    "dit"
   ]
  },
  {
   "cell_type": "code",
   "execution_count": 16,
   "id": "b7a8d2f5",
   "metadata": {},
   "outputs": [
    {
     "data": {
      "text/plain": [
       "'sudh'"
      ]
     },
     "execution_count": 16,
     "metadata": {},
     "output_type": "execute_result"
    }
   ],
   "source": [
    "dit[\"key1\"]"
   ]
  },
  {
   "cell_type": "code",
   "execution_count": 58,
   "id": "65b86e00",
   "metadata": {},
   "outputs": [],
   "source": [
    "dit2 = {\"name\": \"sudh\" , \"mentor\" : {\"fsds\": \"imran\" , \"fsda\":\"anand\" , \"bigdata\" : \"shashank\" }}"
   ]
  },
  {
   "cell_type": "code",
   "execution_count": 59,
   "id": "584953c8",
   "metadata": {},
   "outputs": [
    {
     "data": {
      "text/plain": [
       "{'fsds': 'imran', 'fsda': 'anand', 'bigdata': 'shashank'}"
      ]
     },
     "execution_count": 59,
     "metadata": {},
     "output_type": "execute_result"
    }
   ],
   "source": [
    "dit2[\"mentor\"]"
   ]
  },
  {
   "cell_type": "markdown",
   "id": "0356ff88",
   "metadata": {},
   "source": [
    "you can't make a key out of special characters\n",
    "\n",
    "you can't make a key out of list\n",
    "\n",
    "you can't make a key out of set\n",
    "\n",
    "\n",
    "while making dictionary... never make duplicate keys....keys used should be unique\n",
    "\n",
    "values can be duplicate"
   ]
  },
  {
   "cell_type": "code",
   "execution_count": 26,
   "id": "39f22ab7",
   "metadata": {},
   "outputs": [
    {
     "data": {
      "text/plain": [
       "'shashank'"
      ]
     },
     "execution_count": 26,
     "metadata": {},
     "output_type": "execute_result"
    }
   ],
   "source": [
    "dit2[\"mentor\"][\"bigdata\"]"
   ]
  },
  {
   "cell_type": "code",
   "execution_count": 29,
   "id": "913ba3b1",
   "metadata": {},
   "outputs": [
    {
     "data": {
      "text/plain": [
       "dict_keys(['name', 'mentor'])"
      ]
     },
     "execution_count": 29,
     "metadata": {},
     "output_type": "execute_result"
    }
   ],
   "source": [
    "dit2.keys()# To extract keys in dictionary"
   ]
  },
  {
   "cell_type": "code",
   "execution_count": 30,
   "id": "1c8ed00d",
   "metadata": {},
   "outputs": [
    {
     "data": {
      "text/plain": [
       "dict_values(['sudh', {'fsds': 'imran', 'fsda': 'anand', 'bigdata': 'shashank'}])"
      ]
     },
     "execution_count": 30,
     "metadata": {},
     "output_type": "execute_result"
    }
   ],
   "source": [
    "dit2.values()# To extract values in dictionary"
   ]
  },
  {
   "cell_type": "code",
   "execution_count": 31,
   "id": "e7752c44",
   "metadata": {},
   "outputs": [
    {
     "data": {
      "text/plain": [
       "dict_items([('name', 'sudh'), ('mentor', {'fsds': 'imran', 'fsda': 'anand', 'bigdata': 'shashank'})])"
      ]
     },
     "execution_count": 31,
     "metadata": {},
     "output_type": "execute_result"
    }
   ],
   "source": [
    "dit2.items()# To extract keys and values in dictionary"
   ]
  },
  {
   "cell_type": "code",
   "execution_count": 60,
   "id": "81048371",
   "metadata": {},
   "outputs": [],
   "source": [
    "del dit2['name']# To delete key : name along with its values"
   ]
  },
  {
   "cell_type": "code",
   "execution_count": 61,
   "id": "803f5dc5",
   "metadata": {},
   "outputs": [
    {
     "data": {
      "text/plain": [
       "dict_items([('mentor', {'fsds': 'imran', 'fsda': 'anand', 'bigdata': 'shashank'})])"
      ]
     },
     "execution_count": 61,
     "metadata": {},
     "output_type": "execute_result"
    }
   ],
   "source": [
    "dit2.items()"
   ]
  },
  {
   "cell_type": "code",
   "execution_count": 62,
   "id": "01a58458",
   "metadata": {},
   "outputs": [],
   "source": [
    "dit2[\"mobilenumber\"] = (2424,345345,345345) # To add a key and value in dictionary"
   ]
  },
  {
   "cell_type": "code",
   "execution_count": 63,
   "id": "464a6c5e",
   "metadata": {},
   "outputs": [
    {
     "data": {
      "text/plain": [
       "{'fsds': 'imran', 'fsda': 'anand', 'bigdata': 'shashank'}"
      ]
     },
     "execution_count": 63,
     "metadata": {},
     "output_type": "execute_result"
    }
   ],
   "source": [
    "dit2.pop('mentor') # To pop mentor key along with its values"
   ]
  },
  {
   "cell_type": "code",
   "execution_count": 64,
   "id": "4668544b",
   "metadata": {},
   "outputs": [
    {
     "data": {
      "text/plain": [
       "{'mobilenumber': (2424, 345345, 345345)}"
      ]
     },
     "execution_count": 64,
     "metadata": {},
     "output_type": "execute_result"
    }
   ],
   "source": [
    "dit2"
   ]
  },
  {
   "cell_type": "code",
   "execution_count": null,
   "id": "07dfc224",
   "metadata": {},
   "outputs": [],
   "source": []
  }
 ],
 "metadata": {
  "kernelspec": {
   "display_name": "Python 3 (ipykernel)",
   "language": "python",
   "name": "python3"
  },
  "language_info": {
   "codemirror_mode": {
    "name": "ipython",
    "version": 3
   },
   "file_extension": ".py",
   "mimetype": "text/x-python",
   "name": "python",
   "nbconvert_exporter": "python",
   "pygments_lexer": "ipython3",
   "version": "3.9.12"
  }
 },
 "nbformat": 4,
 "nbformat_minor": 5
}
