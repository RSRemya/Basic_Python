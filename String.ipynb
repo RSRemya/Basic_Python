{
 "cells": [
  {
   "cell_type": "code",
   "execution_count": 54,
   "id": "fe47d705",
   "metadata": {},
   "outputs": [],
   "source": [
    "l = \"Remya\""
   ]
  },
  {
   "cell_type": "code",
   "execution_count": 55,
   "id": "cafb8f7c",
   "metadata": {},
   "outputs": [
    {
     "name": "stdout",
     "output_type": "stream",
     "text": [
      "R\n",
      "e\n",
      "m\n",
      "y\n",
      "a\n"
     ]
    }
   ],
   "source": [
    "print(l[0])\n",
    "print(l[1])\n",
    "print(l[2])\n",
    "print(l[3])\n",
    "print(l[4])"
   ]
  },
  {
   "cell_type": "code",
   "execution_count": 56,
   "id": "66fc1a3d",
   "metadata": {},
   "outputs": [
    {
     "name": "stdout",
     "output_type": "stream",
     "text": [
      "a\n",
      "y\n",
      "m\n",
      "e\n",
      "R\n"
     ]
    }
   ],
   "source": [
    "print(l[-1])\n",
    "print(l[-2])\n",
    "print(l[-3])\n",
    "print(l[-4])\n",
    "print(l[-5])"
   ]
  },
  {
   "cell_type": "code",
   "execution_count": 57,
   "id": "e00068ae",
   "metadata": {},
   "outputs": [
    {
     "ename": "IndexError",
     "evalue": "string index out of range",
     "output_type": "error",
     "traceback": [
      "\u001b[1;31m---------------------------------------------------------------------------\u001b[0m",
      "\u001b[1;31mIndexError\u001b[0m                                Traceback (most recent call last)",
      "Input \u001b[1;32mIn [57]\u001b[0m, in \u001b[0;36m<cell line: 1>\u001b[1;34m()\u001b[0m\n\u001b[1;32m----> 1\u001b[0m \u001b[43ml\u001b[49m\u001b[43m[\u001b[49m\u001b[38;5;241;43m6\u001b[39;49m\u001b[43m]\u001b[49m\n",
      "\u001b[1;31mIndexError\u001b[0m: string index out of range"
     ]
    }
   ],
   "source": [
    "l[6]"
   ]
  },
  {
   "cell_type": "code",
   "execution_count": 58,
   "id": "621c6c96",
   "metadata": {},
   "outputs": [
    {
     "data": {
      "text/plain": [
       "'ta Scie'"
      ]
     },
     "execution_count": 58,
     "metadata": {},
     "output_type": "execute_result"
    }
   ],
   "source": [
    "m = \"Data Science\"\n",
    "m[2:9]"
   ]
  },
  {
   "cell_type": "code",
   "execution_count": 59,
   "id": "0d4e0bee",
   "metadata": {},
   "outputs": [
    {
     "data": {
      "text/plain": [
       "'ta Science'"
      ]
     },
     "execution_count": 59,
     "metadata": {},
     "output_type": "execute_result"
    }
   ],
   "source": [
    "m[2:100]"
   ]
  },
  {
   "cell_type": "code",
   "execution_count": 60,
   "id": "f961cf99",
   "metadata": {},
   "outputs": [
    {
     "data": {
      "text/plain": [
       "'Data Science'"
      ]
     },
     "execution_count": 60,
     "metadata": {},
     "output_type": "execute_result"
    }
   ],
   "source": [
    "m[0:100:1]"
   ]
  },
  {
   "cell_type": "code",
   "execution_count": 61,
   "id": "2330abf6",
   "metadata": {},
   "outputs": [
    {
     "data": {
      "text/plain": [
       "'Dt cec'"
      ]
     },
     "execution_count": 61,
     "metadata": {},
     "output_type": "execute_result"
    }
   ],
   "source": [
    "m[0:100:2]"
   ]
  },
  {
   "cell_type": "code",
   "execution_count": 62,
   "id": "b4b5b27d",
   "metadata": {},
   "outputs": [
    {
     "data": {
      "text/plain": [
       "''"
      ]
     },
     "execution_count": 62,
     "metadata": {},
     "output_type": "execute_result"
    }
   ],
   "source": [
    "m[0:100:-1]"
   ]
  },
  {
   "cell_type": "code",
   "execution_count": 63,
   "id": "49b378c2",
   "metadata": {},
   "outputs": [
    {
     "data": {
      "text/plain": [
       "'D'"
      ]
     },
     "execution_count": 63,
     "metadata": {},
     "output_type": "execute_result"
    }
   ],
   "source": [
    "m[0:-100:-1]"
   ]
  },
  {
   "cell_type": "code",
   "execution_count": 64,
   "id": "e3bfa376",
   "metadata": {},
   "outputs": [
    {
     "data": {
      "text/plain": [
       "'Data Science'"
      ]
     },
     "execution_count": 64,
     "metadata": {},
     "output_type": "execute_result"
    }
   ],
   "source": [
    "m[::]"
   ]
  },
  {
   "cell_type": "code",
   "execution_count": 65,
   "id": "2b91c291",
   "metadata": {},
   "outputs": [
    {
     "data": {
      "text/plain": [
       "'Dt cec'"
      ]
     },
     "execution_count": 65,
     "metadata": {},
     "output_type": "execute_result"
    }
   ],
   "source": [
    "m[::2]"
   ]
  },
  {
   "cell_type": "code",
   "execution_count": 66,
   "id": "7b6af71a",
   "metadata": {},
   "outputs": [
    {
     "data": {
      "text/plain": [
       "'ce'"
      ]
     },
     "execution_count": 66,
     "metadata": {},
     "output_type": "execute_result"
    }
   ],
   "source": [
    "m[-2:]"
   ]
  },
  {
   "cell_type": "code",
   "execution_count": 67,
   "id": "e8724f92",
   "metadata": {},
   "outputs": [
    {
     "data": {
      "text/plain": [
       "'ecneicS ataD'"
      ]
     },
     "execution_count": 67,
     "metadata": {},
     "output_type": "execute_result"
    }
   ],
   "source": [
    "m[::-1]"
   ]
  },
  {
   "cell_type": "code",
   "execution_count": 68,
   "id": "90f63198",
   "metadata": {},
   "outputs": [
    {
     "data": {
      "text/plain": [
       "'ecneicS ataD'"
      ]
     },
     "execution_count": 68,
     "metadata": {},
     "output_type": "execute_result"
    }
   ],
   "source": [
    "m[-1::-1]"
   ]
  },
  {
   "cell_type": "code",
   "execution_count": 69,
   "id": "c93007ce",
   "metadata": {},
   "outputs": [
    {
     "data": {
      "text/plain": [
       "'Data Science'"
      ]
     },
     "execution_count": 69,
     "metadata": {},
     "output_type": "execute_result"
    }
   ],
   "source": [
    "m[-12:12]"
   ]
  },
  {
   "cell_type": "code",
   "execution_count": 70,
   "id": "4e09e0a7",
   "metadata": {},
   "outputs": [
    {
     "data": {
      "text/plain": [
       "'Data Science'"
      ]
     },
     "execution_count": 70,
     "metadata": {},
     "output_type": "execute_result"
    }
   ],
   "source": [
    "m[-12:12:1]"
   ]
  },
  {
   "cell_type": "code",
   "execution_count": 71,
   "id": "ed634ab8",
   "metadata": {},
   "outputs": [
    {
     "data": {
      "text/plain": [
       "''"
      ]
     },
     "execution_count": 71,
     "metadata": {},
     "output_type": "execute_result"
    }
   ],
   "source": [
    "m[-12:12:-1]"
   ]
  },
  {
   "cell_type": "code",
   "execution_count": 72,
   "id": "8de5d5e3",
   "metadata": {},
   "outputs": [
    {
     "data": {
      "text/plain": [
       "'remyaremyaremya'"
      ]
     },
     "execution_count": 72,
     "metadata": {},
     "output_type": "execute_result"
    }
   ],
   "source": [
    "\"remya\"*3"
   ]
  },
  {
   "cell_type": "code",
   "execution_count": 73,
   "id": "95b76ebd",
   "metadata": {},
   "outputs": [
    {
     "data": {
      "text/plain": [
       "'remya rs'"
      ]
     },
     "execution_count": 73,
     "metadata": {},
     "output_type": "execute_result"
    }
   ],
   "source": [
    "\"remya\"+\" rs\""
   ]
  },
  {
   "cell_type": "code",
   "execution_count": 74,
   "id": "70bb28c6",
   "metadata": {},
   "outputs": [
    {
     "ename": "TypeError",
     "evalue": "unsupported operand type(s) for /: 'str' and 'str'",
     "output_type": "error",
     "traceback": [
      "\u001b[1;31m---------------------------------------------------------------------------\u001b[0m",
      "\u001b[1;31mTypeError\u001b[0m                                 Traceback (most recent call last)",
      "Input \u001b[1;32mIn [74]\u001b[0m, in \u001b[0;36m<cell line: 1>\u001b[1;34m()\u001b[0m\n\u001b[1;32m----> 1\u001b[0m \u001b[38;5;124;43m\"\u001b[39;49m\u001b[38;5;124;43mremya\u001b[39;49m\u001b[38;5;124;43m\"\u001b[39;49m\u001b[38;5;241;43m/\u001b[39;49m\u001b[38;5;124;43m\"\u001b[39;49m\u001b[38;5;124;43mresmy\u001b[39;49m\u001b[38;5;124;43m\"\u001b[39;49m\n",
      "\u001b[1;31mTypeError\u001b[0m: unsupported operand type(s) for /: 'str' and 'str'"
     ]
    }
   ],
   "source": [
    "\"remya\"/\"resmy\""
   ]
  },
  {
   "cell_type": "code",
   "execution_count": 1,
   "id": "aba555ec",
   "metadata": {},
   "outputs": [
    {
     "data": {
      "text/plain": [
       "1"
      ]
     },
     "execution_count": 1,
     "metadata": {},
     "output_type": "execute_result"
    }
   ],
   "source": [
    "x =\"Yoshops Data Analysis Internship\"\n",
    "\n",
    "x.count('y')#shows how many times y occurs in variable x"
   ]
  },
  {
   "cell_type": "code",
   "execution_count": 2,
   "id": "455bbf0d",
   "metadata": {},
   "outputs": [
    {
     "data": {
      "text/plain": [
       "9"
      ]
     },
     "execution_count": 2,
     "metadata": {},
     "output_type": "execute_result"
    }
   ],
   "source": [
    "x.find('a')# shows position of letter a when it occurs for first time in variable x"
   ]
  },
  {
   "cell_type": "code",
   "execution_count": 76,
   "id": "62e18972",
   "metadata": {},
   "outputs": [
    {
     "data": {
      "text/plain": [
       "['Yoshops D', 't', ' An', 'lysis Internship']"
      ]
     },
     "execution_count": 76,
     "metadata": {},
     "output_type": "execute_result"
    }
   ],
   "source": [
    "x.split('a')"
   ]
  },
  {
   "cell_type": "code",
   "execution_count": 77,
   "id": "88395a1d",
   "metadata": {},
   "outputs": [
    {
     "data": {
      "text/plain": [
       "'YOSHOPS DATA ANALYSIS INTERNSHIP'"
      ]
     },
     "execution_count": 77,
     "metadata": {},
     "output_type": "execute_result"
    }
   ],
   "source": [
    "x.upper()"
   ]
  },
  {
   "cell_type": "code",
   "execution_count": 78,
   "id": "6fa37bfe",
   "metadata": {},
   "outputs": [
    {
     "data": {
      "text/plain": [
       "'yOSHOPS dATA aNALYSIS iNTERNSHIP'"
      ]
     },
     "execution_count": 78,
     "metadata": {},
     "output_type": "execute_result"
    }
   ],
   "source": [
    "x.swapcase()"
   ]
  },
  {
   "cell_type": "code",
   "execution_count": 79,
   "id": "3f633421",
   "metadata": {},
   "outputs": [
    {
     "data": {
      "text/plain": [
       "'yoshops data analysis internship'"
      ]
     },
     "execution_count": 79,
     "metadata": {},
     "output_type": "execute_result"
    }
   ],
   "source": [
    "y = x.lower()\n",
    "y"
   ]
  },
  {
   "cell_type": "code",
   "execution_count": 80,
   "id": "b99e6f93",
   "metadata": {},
   "outputs": [
    {
     "data": {
      "text/plain": [
       "'Yoshops Data Analysis Internship'"
      ]
     },
     "execution_count": 80,
     "metadata": {},
     "output_type": "execute_result"
    }
   ],
   "source": [
    "y.title()"
   ]
  },
  {
   "cell_type": "code",
   "execution_count": 81,
   "id": "76b3dbfd",
   "metadata": {},
   "outputs": [
    {
     "data": {
      "text/plain": [
       "'Yoshops data analysis internship'"
      ]
     },
     "execution_count": 81,
     "metadata": {},
     "output_type": "execute_result"
    }
   ],
   "source": [
    "y.capitalize()"
   ]
  },
  {
   "cell_type": "code",
   "execution_count": 3,
   "id": "a2b654ce",
   "metadata": {},
   "outputs": [
    {
     "data": {
      "text/plain": [
       "'cyoshops lyoshops ayoshops syoshops s'"
      ]
     },
     "execution_count": 3,
     "metadata": {},
     "output_type": "execute_result"
    }
   ],
   "source": [
    "t = 'yoshops '\n",
    "z ='class'\n",
    "t.join(z)"
   ]
  },
  {
   "cell_type": "code",
   "execution_count": 4,
   "id": "a8338e15",
   "metadata": {},
   "outputs": [
    {
     "name": "stdout",
     "output_type": "stream",
     "text": [
      " \n",
      "s\n",
      "p\n",
      "o\n",
      "h\n",
      "s\n",
      "o\n",
      "y\n"
     ]
    }
   ],
   "source": [
    "for i in reversed(t):\n",
    "    print(i)"
   ]
  },
  {
   "cell_type": "code",
   "execution_count": 5,
   "id": "33f9af71",
   "metadata": {},
   "outputs": [
    {
     "data": {
      "text/plain": [
       "' spohsoy'"
      ]
     },
     "execution_count": 5,
     "metadata": {},
     "output_type": "execute_result"
    }
   ],
   "source": [
    "t[::-1]# reversing the string"
   ]
  },
  {
   "cell_type": "code",
   "execution_count": 84,
   "id": "9e8a6598",
   "metadata": {},
   "outputs": [
    {
     "data": {
      "text/plain": [
       "' yoshops'"
      ]
     },
     "execution_count": 84,
     "metadata": {},
     "output_type": "execute_result"
    }
   ],
   "source": [
    "p = \" yoshops \"\n",
    "p.rstrip()"
   ]
  },
  {
   "cell_type": "code",
   "execution_count": 85,
   "id": "3809bedf",
   "metadata": {},
   "outputs": [
    {
     "data": {
      "text/plain": [
       "'yoshops '"
      ]
     },
     "execution_count": 85,
     "metadata": {},
     "output_type": "execute_result"
    }
   ],
   "source": [
    "p.lstrip()"
   ]
  },
  {
   "cell_type": "code",
   "execution_count": 86,
   "id": "d03b1cb7",
   "metadata": {},
   "outputs": [
    {
     "data": {
      "text/plain": [
       "'yoshops'"
      ]
     },
     "execution_count": 86,
     "metadata": {},
     "output_type": "execute_result"
    }
   ],
   "source": [
    "p.strip()"
   ]
  },
  {
   "cell_type": "code",
   "execution_count": 87,
   "id": "543c0d85",
   "metadata": {},
   "outputs": [
    {
     "data": {
      "text/plain": [
       "' yourshops '"
      ]
     },
     "execution_count": 87,
     "metadata": {},
     "output_type": "execute_result"
    }
   ],
   "source": [
    "p.replace('yo','your')"
   ]
  },
  {
   "cell_type": "code",
   "execution_count": 88,
   "id": "299118dd",
   "metadata": {},
   "outputs": [
    {
     "data": {
      "text/plain": [
       "'yo      shops'"
      ]
     },
     "execution_count": 88,
     "metadata": {},
     "output_type": "execute_result"
    }
   ],
   "source": [
    "'yo\\tshops'.expandtabs()# 3 spaces in between"
   ]
  },
  {
   "cell_type": "code",
   "execution_count": 89,
   "id": "63e8d51d",
   "metadata": {},
   "outputs": [
    {
     "data": {
      "text/plain": [
       "'aaaaaaayoshopsaaaaaaa'"
      ]
     },
     "execution_count": 89,
     "metadata": {},
     "output_type": "execute_result"
    }
   ],
   "source": [
    "q = 'yoshops'\n",
    "q.center(21,'a')"
   ]
  },
  {
   "cell_type": "code",
   "execution_count": 90,
   "id": "799ecb40",
   "metadata": {},
   "outputs": [
    {
     "data": {
      "text/plain": [
       "b'yoshops'"
      ]
     },
     "execution_count": 90,
     "metadata": {},
     "output_type": "execute_result"
    }
   ],
   "source": [
    "r = \"yoshops\"\n",
    "r.endswith('s')\n",
    "r.encode()"
   ]
  },
  {
   "cell_type": "code",
   "execution_count": 10,
   "id": "de3ca704",
   "metadata": {},
   "outputs": [],
   "source": [
    "s1 = \"Remya\"\n",
    "s2 = \"RS\""
   ]
  },
  {
   "cell_type": "code",
   "execution_count": 11,
   "id": "d2de7307",
   "metadata": {},
   "outputs": [
    {
     "data": {
      "text/plain": [
       "'RRemyaS'"
      ]
     },
     "execution_count": 11,
     "metadata": {},
     "output_type": "execute_result"
    }
   ],
   "source": [
    "s1.join(s2)"
   ]
  },
  {
   "cell_type": "code",
   "execution_count": 5,
   "id": "a9fb6121",
   "metadata": {},
   "outputs": [
    {
     "name": "stdout",
     "output_type": "stream",
     "text": [
      "Enter a word : malayalam\n",
      "Its a palindrome\n"
     ]
    }
   ],
   "source": [
    "data = input(\"Enter a word : \")\n",
    "\n",
    "reverse = data[::-1]\n",
    "\n",
    "if data == reverse :\n",
    "    print(\"Its a palindrome\")\n",
    "else:\n",
    "    print(\"Its not a palindrome\")"
   ]
  },
  {
   "cell_type": "code",
   "execution_count": 6,
   "id": "504f3fda",
   "metadata": {},
   "outputs": [
    {
     "data": {
      "text/plain": [
       "'Malayalam'"
      ]
     },
     "execution_count": 6,
     "metadata": {},
     "output_type": "execute_result"
    }
   ],
   "source": [
    "\"M\"+data[1:]"
   ]
  },
  {
   "cell_type": "code",
   "execution_count": 7,
   "id": "f9e7b48c",
   "metadata": {},
   "outputs": [
    {
     "data": {
      "text/plain": [
       "'MalayalaM'"
      ]
     },
     "execution_count": 7,
     "metadata": {},
     "output_type": "execute_result"
    }
   ],
   "source": [
    "data.replace(\"m\",\"M\")"
   ]
  },
  {
   "cell_type": "code",
   "execution_count": 8,
   "id": "266dd733",
   "metadata": {},
   "outputs": [
    {
     "data": {
      "text/plain": [
       "9"
      ]
     },
     "execution_count": 8,
     "metadata": {},
     "output_type": "execute_result"
    }
   ],
   "source": [
    "len(data)"
   ]
  },
  {
   "cell_type": "code",
   "execution_count": null,
   "id": "f832d8a6",
   "metadata": {},
   "outputs": [],
   "source": []
  }
 ],
 "metadata": {
  "kernelspec": {
   "display_name": "Python 3 (ipykernel)",
   "language": "python",
   "name": "python3"
  },
  "language_info": {
   "codemirror_mode": {
    "name": "ipython",
    "version": 3
   },
   "file_extension": ".py",
   "mimetype": "text/x-python",
   "name": "python",
   "nbconvert_exporter": "python",
   "pygments_lexer": "ipython3",
   "version": "3.9.13"
  }
 },
 "nbformat": 4,
 "nbformat_minor": 5
}
