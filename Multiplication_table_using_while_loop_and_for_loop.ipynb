{
 "cells": [
  {
   "cell_type": "markdown",
   "id": "2f130f80",
   "metadata": {},
   "source": [
    "short cut of if else"
   ]
  },
  {
   "cell_type": "code",
   "execution_count": 1,
   "id": "3dd2d427",
   "metadata": {},
   "outputs": [
    {
     "name": "stdout",
     "output_type": "stream",
     "text": [
      "Enter a number2\n",
      "NO\n"
     ]
    }
   ],
   "source": [
    "val = float(input(\"Enter a number\"))\n",
    "print(\"YES\" if val >90 else \"NO\")"
   ]
  },
  {
   "cell_type": "markdown",
   "id": "d93821aa",
   "metadata": {},
   "source": [
    "# Multiplication Table"
   ]
  },
  {
   "cell_type": "markdown",
   "id": "66a14563",
   "metadata": {},
   "source": [
    "Using while loop"
   ]
  },
  {
   "cell_type": "code",
   "execution_count": 4,
   "id": "e61dcd32",
   "metadata": {},
   "outputs": [
    {
     "name": "stdout",
     "output_type": "stream",
     "text": [
      "Enter the number whose table needed to be printed : 5\n",
      "Table of :  5\n",
      "5 * 1 = 5\n",
      "5 * 2 = 10\n",
      "5 * 3 = 15\n",
      "5 * 4 = 20\n",
      "5 * 5 = 25\n",
      "5 * 6 = 30\n",
      "5 * 7 = 35\n",
      "5 * 8 = 40\n",
      "5 * 9 = 45\n",
      "5 * 10 = 50\n"
     ]
    }
   ],
   "source": [
    "table_of = int(input(\"Enter the number whose table needed to be printed : \"))\n",
    "print(\"Table of : \", table_of)\n",
    "i = 1\n",
    "while i<=10:\n",
    "    \n",
    "    print(f\"{table_of} * {i} = {table_of*i}\")\n",
    "    i=i+1"
   ]
  },
  {
   "cell_type": "markdown",
   "id": "e71cbb99",
   "metadata": {},
   "source": [
    "Using for loop"
   ]
  },
  {
   "cell_type": "code",
   "execution_count": 5,
   "id": "495582b6",
   "metadata": {},
   "outputs": [
    {
     "name": "stdout",
     "output_type": "stream",
     "text": [
      "Enter the number whose table needed to be printed : 5\n",
      "5 * 1 = 5\n",
      "5 * 2 = 10\n",
      "5 * 3 = 15\n",
      "5 * 4 = 20\n",
      "5 * 5 = 25\n",
      "5 * 6 = 30\n",
      "5 * 7 = 35\n",
      "5 * 8 = 40\n",
      "5 * 9 = 45\n",
      "5 * 10 = 50\n"
     ]
    }
   ],
   "source": [
    "table_of = int(input(\"Enter the number whose table needed to be printed : \"))\n",
    "for i in range(1,11):\n",
    "    print(f\"{table_of} * {i} = {table_of*i}\")"
   ]
  },
  {
   "cell_type": "code",
   "execution_count": null,
   "id": "bad0f0e0",
   "metadata": {},
   "outputs": [],
   "source": []
  }
 ],
 "metadata": {
  "kernelspec": {
   "display_name": "Python 3 (ipykernel)",
   "language": "python",
   "name": "python3"
  },
  "language_info": {
   "codemirror_mode": {
    "name": "ipython",
    "version": 3
   },
   "file_extension": ".py",
   "mimetype": "text/x-python",
   "name": "python",
   "nbconvert_exporter": "python",
   "pygments_lexer": "ipython3",
   "version": "3.9.12"
  }
 },
 "nbformat": 4,
 "nbformat_minor": 5
}
