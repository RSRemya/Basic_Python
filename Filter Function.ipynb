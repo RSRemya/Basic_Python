{
 "cells": [
  {
   "cell_type": "markdown",
   "id": "bef5ae5f",
   "metadata": {},
   "source": [
    "# Filter Function"
   ]
  },
  {
   "cell_type": "code",
   "execution_count": null,
   "id": "62fe1ede",
   "metadata": {},
   "outputs": [],
   "source": [
    "Q1. Write a Python program to count find even numbers in a given array of integers using Lambda."
   ]
  },
  {
   "cell_type": "code",
   "execution_count": 1,
   "id": "69bfccd9",
   "metadata": {},
   "outputs": [
    {
     "data": {
      "text/plain": [
       "[4, 8, 2]"
      ]
     },
     "execution_count": 1,
     "metadata": {},
     "output_type": "execute_result"
    }
   ],
   "source": [
    "l = [1,7,4,3,8,2]\n",
    "\n",
    "a = lambda a:a if a%2==0 else None\n",
    "\n",
    "list(filter(a,l))"
   ]
  },
  {
   "cell_type": "raw",
   "id": "6aaf7e0c",
   "metadata": {},
   "source": [
    "Q2. Write a Python program to count the even, odd numbers in a given array of integers using Lambda."
   ]
  },
  {
   "cell_type": "code",
   "execution_count": 2,
   "id": "a80f15cf",
   "metadata": {},
   "outputs": [
    {
     "name": "stdout",
     "output_type": "stream",
     "text": [
      "List is :  [1, 2, 3, 5, 7, 8, 9, 10]\n",
      "Number of even numbers in above list are :  3\n",
      "Number of odd numbers in above list are :  5\n"
     ]
    }
   ],
   "source": [
    "l = [1, 2, 3, 5, 7, 8, 9, 10]\n",
    "\n",
    "x = lambda a:a if a%2==0 else None\n",
    "y = lambda a:a if a%2!=0 else None\n",
    "\n",
    "e=len(list(filter(x,l)))\n",
    "o=len(list(filter(y,l)))\n",
    "\n",
    "print(\"List is : \", l)\n",
    "print(\"Number of even numbers in above list are : \", e)\n",
    "print(\"Number of odd numbers in above list are : \", o)"
   ]
  },
  {
   "cell_type": "raw",
   "id": "b1f53d82",
   "metadata": {},
   "source": [
    "OR"
   ]
  },
  {
   "cell_type": "code",
   "execution_count": 3,
   "id": "f9ec924d",
   "metadata": {},
   "outputs": [
    {
     "name": "stdout",
     "output_type": "stream",
     "text": [
      "List is :  [1, 2, 3, 5, 7, 8, 9, 10]\n",
      "Number of even numbers in above list are :  3\n",
      "Number of odd numbers in above list are :  5\n"
     ]
    }
   ],
   "source": [
    "k = [1, 2, 3, 5, 7, 8, 9, 10]\n",
    "x = len(list(filter(lambda x : (x%2==0),k)))\n",
    "y = len(list(filter(lambda x : (x%2!=0),k)))\n",
    "print(\"List is : \", k)\n",
    "print(\"Number of even numbers in above list are : \", x)\n",
    "print(\"Number of odd numbers in above list are : \", y)"
   ]
  },
  {
   "cell_type": "code",
   "execution_count": null,
   "id": "184754cd",
   "metadata": {},
   "outputs": [],
   "source": []
  }
 ],
 "metadata": {
  "kernelspec": {
   "display_name": "Python 3 (ipykernel)",
   "language": "python",
   "name": "python3"
  },
  "language_info": {
   "codemirror_mode": {
    "name": "ipython",
    "version": 3
   },
   "file_extension": ".py",
   "mimetype": "text/x-python",
   "name": "python",
   "nbconvert_exporter": "python",
   "pygments_lexer": "ipython3",
   "version": "3.9.12"
  }
 },
 "nbformat": 4,
 "nbformat_minor": 5
}
