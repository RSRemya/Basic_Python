{
 "cells": [
  {
   "cell_type": "code",
   "execution_count": 1,
   "id": "2bf4b33c",
   "metadata": {},
   "outputs": [],
   "source": [
    "import logging"
   ]
  },
  {
   "cell_type": "code",
   "execution_count": 2,
   "id": "7bc8358e",
   "metadata": {},
   "outputs": [
    {
     "name": "stderr",
     "output_type": "stream",
     "text": [
      "__main__ - WARNING - This ia a warning\n",
      "__main__ - ERROR - This ia an error\n"
     ]
    }
   ],
   "source": [
    "import logging\n",
    "\n",
    "#instead of using basic config, custom logger is made\n",
    "\n",
    "logger=logging.getLogger(__name__)# to add any name\n",
    "\n",
    "# Next step is creating a file handler\n",
    "\n",
    "        # File handler - creates a new file, where all logs are pushed into\n",
    "        # Stream handler - works same as file handler but pushes logs into console\n",
    "\n",
    "stream_handler = logging.StreamHandler()\n",
    "file_handler = logging.FileHandler('abc.log')\n",
    "\n",
    "# Next step is to set a level\n",
    "stream_handler.setLevel(logging.WARNING)\n",
    "file_handler.setLevel(logging.ERROR)\n",
    "\n",
    "# Next step is to create formatter and add it to handler\n",
    "    #Create formatter\n",
    "stream_format = logging.Formatter('%(name)s - %(levelname)s - %(message)s')\n",
    "file_format = logging.Formatter('%(asctime)s - %(name)s - %(levelname)s - %(message)s')\n",
    "    #Add formatters to handlers\n",
    "stream_handler.setFormatter(stream_format)\n",
    "file_handler.setFormatter(file_format)\n",
    "\n",
    "#Next step is to add handlers to loggers\n",
    "logger.addHandler(stream_handler)\n",
    "logger.addHandler(file_handler)\n",
    "\n",
    "logger.warning(\"This ia a warning\")\n",
    "logger.error(\"This ia an error\")"
   ]
  },
  {
   "cell_type": "code",
   "execution_count": 1,
   "id": "615d5ba9",
   "metadata": {},
   "outputs": [
    {
     "name": "stderr",
     "output_type": "stream",
     "text": [
      "2022-12-19 00:42:07,855 - __main__ - INFO - Dividing {dividend} by {divisor}\n",
      "2022-12-19 00:42:07,859 - __main__ - INFO - zero division error\n"
     ]
    },
    {
     "name": "stdout",
     "output_type": "stream",
     "text": [
      "None\n"
     ]
    }
   ],
   "source": [
    "import logging\n",
    "\n",
    "logger=logging.getLogger(__name__)\n",
    "\n",
    "handler = logging.StreamHandler()\n",
    "\n",
    "formatter = logging.Formatter('%(asctime)s - %(name)s - %(levelname)s - %(message)s')\n",
    "\n",
    "handler.setFormatter(formatter)\n",
    "\n",
    "logger.addHandler(handler)\n",
    "\n",
    "logger.setLevel(logging.INFO)\n",
    "\n",
    "def divide(dividend, divisor):\n",
    "    try:\n",
    "        logger.info(\"Dividing {dividend} by {divisor}\")\n",
    "        return dividend/divisor\n",
    "    except ZeroDivisionError:\n",
    "        logger.info(\"zero division error\")\n",
    "        \n",
    "print(divide(6,0))"
   ]
  },
  {
   "cell_type": "code",
   "execution_count": null,
   "id": "b1eab56b",
   "metadata": {},
   "outputs": [],
   "source": []
  }
 ],
 "metadata": {
  "kernelspec": {
   "display_name": "Python 3 (ipykernel)",
   "language": "python",
   "name": "python3"
  },
  "language_info": {
   "codemirror_mode": {
    "name": "ipython",
    "version": 3
   },
   "file_extension": ".py",
   "mimetype": "text/x-python",
   "name": "python",
   "nbconvert_exporter": "python",
   "pygments_lexer": "ipython3",
   "version": "3.9.12"
  }
 },
 "nbformat": 4,
 "nbformat_minor": 5
}
