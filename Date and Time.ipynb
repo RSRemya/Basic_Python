{
 "cells": [
  {
   "cell_type": "code",
   "execution_count": 1,
   "id": "41c2b381",
   "metadata": {},
   "outputs": [
    {
     "name": "stdout",
     "output_type": "stream",
     "text": [
      "2022-11-27 18:47:55.492126\n"
     ]
    }
   ],
   "source": [
    "import datetime\n",
    "\n",
    "x = datetime.datetime.now()\n",
    "print(x) "
   ]
  },
  {
   "cell_type": "markdown",
   "id": "fd5a5286",
   "metadata": {},
   "source": [
    "Display present year"
   ]
  },
  {
   "cell_type": "code",
   "execution_count": 2,
   "id": "e31fd298",
   "metadata": {},
   "outputs": [
    {
     "name": "stdout",
     "output_type": "stream",
     "text": [
      "2022\n"
     ]
    }
   ],
   "source": [
    "print(x.year)"
   ]
  },
  {
   "cell_type": "code",
   "execution_count": 42,
   "id": "1df32639",
   "metadata": {},
   "outputs": [
    {
     "name": "stdout",
     "output_type": "stream",
     "text": [
      "11\n"
     ]
    }
   ],
   "source": [
    "print(x.month)"
   ]
  },
  {
   "cell_type": "code",
   "execution_count": 43,
   "id": "d6b0e297",
   "metadata": {},
   "outputs": [
    {
     "name": "stdout",
     "output_type": "stream",
     "text": [
      "27\n"
     ]
    }
   ],
   "source": [
    "print(x.day)"
   ]
  },
  {
   "cell_type": "code",
   "execution_count": 44,
   "id": "777d841a",
   "metadata": {},
   "outputs": [
    {
     "name": "stdout",
     "output_type": "stream",
     "text": [
      "18\n"
     ]
    }
   ],
   "source": [
    "print(x.hour)"
   ]
  },
  {
   "cell_type": "code",
   "execution_count": 46,
   "id": "26dc1656",
   "metadata": {},
   "outputs": [
    {
     "name": "stdout",
     "output_type": "stream",
     "text": [
      "47\n"
     ]
    }
   ],
   "source": [
    "print(x.minute)"
   ]
  },
  {
   "cell_type": "code",
   "execution_count": 48,
   "id": "f90548fc",
   "metadata": {},
   "outputs": [
    {
     "name": "stdout",
     "output_type": "stream",
     "text": [
      "55\n"
     ]
    }
   ],
   "source": [
    "print(x.second)"
   ]
  },
  {
   "cell_type": "code",
   "execution_count": 49,
   "id": "39ddcf16",
   "metadata": {},
   "outputs": [
    {
     "name": "stdout",
     "output_type": "stream",
     "text": [
      "492126\n"
     ]
    }
   ],
   "source": [
    "print(x.microsecond)"
   ]
  },
  {
   "cell_type": "code",
   "execution_count": 51,
   "id": "064dc6ea",
   "metadata": {},
   "outputs": [
    {
     "name": "stdout",
     "output_type": "stream",
     "text": [
      "<built-in method weekday of datetime.datetime object at 0x0000023F530969C0>\n"
     ]
    }
   ],
   "source": [
    "print(x.weekday)"
   ]
  },
  {
   "cell_type": "markdown",
   "id": "b190096b",
   "metadata": {},
   "source": [
    "Display present weekday day"
   ]
  },
  {
   "cell_type": "code",
   "execution_count": 3,
   "id": "25608a52",
   "metadata": {},
   "outputs": [
    {
     "name": "stdout",
     "output_type": "stream",
     "text": [
      "Sunday\n"
     ]
    }
   ],
   "source": [
    "print(x.strftime(\"%A\")) "
   ]
  },
  {
   "cell_type": "code",
   "execution_count": 4,
   "id": "3697a2f0",
   "metadata": {},
   "outputs": [
    {
     "name": "stdout",
     "output_type": "stream",
     "text": [
      "Sun\n"
     ]
    }
   ],
   "source": [
    "print(x.strftime(\"%a\")) "
   ]
  },
  {
   "cell_type": "code",
   "execution_count": 33,
   "id": "a7ff6e8f",
   "metadata": {},
   "outputs": [
    {
     "name": "stdout",
     "output_type": "stream",
     "text": [
      "11/27/22\n"
     ]
    }
   ],
   "source": [
    "print(x.strftime(\"%x\")) #Display Date"
   ]
  },
  {
   "cell_type": "code",
   "execution_count": 12,
   "id": "59ec08bb",
   "metadata": {},
   "outputs": [
    {
     "name": "stdout",
     "output_type": "stream",
     "text": [
      "27\n"
     ]
    }
   ],
   "source": [
    "print(x.strftime(\"%d\")) "
   ]
  },
  {
   "cell_type": "code",
   "execution_count": 34,
   "id": "e8166d0a",
   "metadata": {},
   "outputs": [
    {
     "name": "stdout",
     "output_type": "stream",
     "text": [
      "11\n"
     ]
    }
   ],
   "source": [
    "print(x.strftime(\"%m\")) "
   ]
  },
  {
   "cell_type": "code",
   "execution_count": 35,
   "id": "111a5992",
   "metadata": {},
   "outputs": [
    {
     "name": "stdout",
     "output_type": "stream",
     "text": [
      "22\n"
     ]
    }
   ],
   "source": [
    "print(x.strftime(\"%y\")) "
   ]
  },
  {
   "cell_type": "code",
   "execution_count": 36,
   "id": "73ddfd37",
   "metadata": {},
   "outputs": [
    {
     "name": "stdout",
     "output_type": "stream",
     "text": [
      "2022\n"
     ]
    }
   ],
   "source": [
    "print(x.strftime(\"%Y\")) "
   ]
  },
  {
   "cell_type": "code",
   "execution_count": 15,
   "id": "0ebe86d0",
   "metadata": {},
   "outputs": [
    {
     "name": "stdout",
     "output_type": "stream",
     "text": [
      "Nov\n"
     ]
    }
   ],
   "source": [
    "print(x.strftime(\"%h\")) "
   ]
  },
  {
   "cell_type": "code",
   "execution_count": 6,
   "id": "186ff4e3",
   "metadata": {},
   "outputs": [
    {
     "name": "stdout",
     "output_type": "stream",
     "text": [
      "Nov\n"
     ]
    }
   ],
   "source": [
    "print(x.strftime(\"%b\")) "
   ]
  },
  {
   "cell_type": "code",
   "execution_count": 7,
   "id": "a07eb523",
   "metadata": {},
   "outputs": [
    {
     "name": "stdout",
     "output_type": "stream",
     "text": [
      "November\n"
     ]
    }
   ],
   "source": [
    "print(x.strftime(\"%B\")) "
   ]
  },
  {
   "cell_type": "code",
   "execution_count": 27,
   "id": "a2575f9f",
   "metadata": {},
   "outputs": [
    {
     "name": "stdout",
     "output_type": "stream",
     "text": [
      "18:47:55\n"
     ]
    }
   ],
   "source": [
    "print(x.strftime(\"%X\")) # Time Display"
   ]
  },
  {
   "cell_type": "code",
   "execution_count": 28,
   "id": "df64ebc4",
   "metadata": {},
   "outputs": [
    {
     "name": "stdout",
     "output_type": "stream",
     "text": [
      "18\n"
     ]
    }
   ],
   "source": [
    "print(x.strftime(\"%H\"))"
   ]
  },
  {
   "cell_type": "code",
   "execution_count": 29,
   "id": "8d11b781",
   "metadata": {},
   "outputs": [
    {
     "name": "stdout",
     "output_type": "stream",
     "text": [
      "47\n"
     ]
    }
   ],
   "source": [
    "print(x.strftime(\"%M\")) "
   ]
  },
  {
   "cell_type": "code",
   "execution_count": 30,
   "id": "0488d548",
   "metadata": {},
   "outputs": [
    {
     "name": "stdout",
     "output_type": "stream",
     "text": [
      "55\n"
     ]
    }
   ],
   "source": [
    "print(x.strftime(\"%S\")) "
   ]
  },
  {
   "cell_type": "code",
   "execution_count": 39,
   "id": "c11953d0",
   "metadata": {},
   "outputs": [
    {
     "name": "stdout",
     "output_type": "stream",
     "text": [
      "492126\n"
     ]
    }
   ],
   "source": [
    "print(x.strftime(\"%f\")) # Microseconds"
   ]
  },
  {
   "cell_type": "code",
   "execution_count": 31,
   "id": "53384a4a",
   "metadata": {},
   "outputs": [
    {
     "name": "stdout",
     "output_type": "stream",
     "text": [
      "PM\n"
     ]
    }
   ],
   "source": [
    "print(x.strftime(\"%p\")) "
   ]
  },
  {
   "cell_type": "code",
   "execution_count": 32,
   "id": "ca267729",
   "metadata": {},
   "outputs": [
    {
     "name": "stdout",
     "output_type": "stream",
     "text": [
      "06\n"
     ]
    }
   ],
   "source": [
    "print(x.strftime(\"%I\")) # Hour"
   ]
  },
  {
   "cell_type": "code",
   "execution_count": 40,
   "id": "2fe247fd",
   "metadata": {},
   "outputs": [
    {
     "name": "stdout",
     "output_type": "stream",
     "text": [
      "Sun Nov 27 18:47:55 2022\n"
     ]
    }
   ],
   "source": [
    "print(x.strftime(\"%c\"))"
   ]
  },
  {
   "cell_type": "code",
   "execution_count": 41,
   "id": "1c9f0b08",
   "metadata": {},
   "outputs": [
    {
     "name": "stdout",
     "output_type": "stream",
     "text": [
      "20\n"
     ]
    }
   ],
   "source": [
    "print(x.strftime(\"%C\")) # Centuary"
   ]
  },
  {
   "cell_type": "code",
   "execution_count": 52,
   "id": "570a68c0",
   "metadata": {},
   "outputs": [],
   "source": [
    "from datetime import date"
   ]
  },
  {
   "cell_type": "code",
   "execution_count": 53,
   "id": "a31066e4",
   "metadata": {},
   "outputs": [
    {
     "data": {
      "text/plain": [
       "datetime.date(2022, 11, 27)"
      ]
     },
     "execution_count": 53,
     "metadata": {},
     "output_type": "execute_result"
    }
   ],
   "source": [
    "date.today()"
   ]
  }
 ],
 "metadata": {
  "kernelspec": {
   "display_name": "Python 3 (ipykernel)",
   "language": "python",
   "name": "python3"
  },
  "language_info": {
   "codemirror_mode": {
    "name": "ipython",
    "version": 3
   },
   "file_extension": ".py",
   "mimetype": "text/x-python",
   "name": "python",
   "nbconvert_exporter": "python",
   "pygments_lexer": "ipython3",
   "version": "3.9.12"
  }
 },
 "nbformat": 4,
 "nbformat_minor": 5
}
