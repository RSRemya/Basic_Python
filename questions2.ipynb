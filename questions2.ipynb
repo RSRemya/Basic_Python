{
 "cells": [
  {
   "cell_type": "raw",
   "id": "9cbe33d1",
   "metadata": {},
   "source": [
    "1 . Try to extract data from index one to index 300 with a jump of 3 "
   ]
  },
  {
   "cell_type": "code",
   "execution_count": 5,
   "id": "efd9c9ef",
   "metadata": {},
   "outputs": [
    {
     "data": {
      "text/plain": [
       "\"L'lrDacn\""
      ]
     },
     "execution_count": 5,
     "metadata": {},
     "output_type": "execute_result"
    }
   ],
   "source": [
    "a = \"Let's learn Data Science\"\n",
    "a[0:300:3]"
   ]
  },
  {
   "cell_type": "raw",
   "id": "1929ad90",
   "metadata": {},
   "source": [
    "2. Try to reverse a string without using reverse function "
   ]
  },
  {
   "cell_type": "code",
   "execution_count": 6,
   "id": "0bdb8441",
   "metadata": {},
   "outputs": [
    {
     "data": {
      "text/plain": [
       "'ataD'"
      ]
     },
     "execution_count": 6,
     "metadata": {},
     "output_type": "execute_result"
    }
   ],
   "source": [
    "b = \"Data\"\n",
    "b[::-1]"
   ]
  },
  {
   "cell_type": "raw",
   "id": "2d28203d",
   "metadata": {},
   "source": [
    "3. Try to split a string after conversion of entire string in uppercase "
   ]
  },
  {
   "cell_type": "code",
   "execution_count": 9,
   "id": "12487070",
   "metadata": {},
   "outputs": [
    {
     "data": {
      "text/plain": [
       "[\"LET'S\", 'LEARN', 'DATA', 'SCIENCE']"
      ]
     },
     "execution_count": 9,
     "metadata": {},
     "output_type": "execute_result"
    }
   ],
   "source": [
    "a = \"Let's learn Data Science\"\n",
    "a=a.upper()\n",
    "a.split()"
   ]
  },
  {
   "cell_type": "raw",
   "id": "996e2a84",
   "metadata": {},
   "source": [
    "4. Try to convert the whole string into lower case "
   ]
  },
  {
   "cell_type": "code",
   "execution_count": 10,
   "id": "46d7d49d",
   "metadata": {},
   "outputs": [
    {
     "data": {
      "text/plain": [
       "\"let's learn data science\""
      ]
     },
     "execution_count": 10,
     "metadata": {},
     "output_type": "execute_result"
    }
   ],
   "source": [
    "a.lower()"
   ]
  },
  {
   "cell_type": "raw",
   "id": "fb00672d",
   "metadata": {},
   "source": [
    "5 . Try to capitalize the whole string"
   ]
  },
  {
   "cell_type": "code",
   "execution_count": 13,
   "id": "58fe57c3",
   "metadata": {},
   "outputs": [
    {
     "data": {
      "text/plain": [
       "\"Let's learn data science\""
      ]
     },
     "execution_count": 13,
     "metadata": {},
     "output_type": "execute_result"
    }
   ],
   "source": [
    "a.capitalize()"
   ]
  },
  {
   "cell_type": "raw",
   "id": "3b8938b5",
   "metadata": {},
   "source": [
    "6 . Write a diference between isalnum() and isalpha()"
   ]
  },
  {
   "cell_type": "code",
   "execution_count": 17,
   "id": "282172a1",
   "metadata": {},
   "outputs": [
    {
     "data": {
      "text/plain": [
       "True"
      ]
     },
     "execution_count": 17,
     "metadata": {},
     "output_type": "execute_result"
    }
   ],
   "source": [
    "b = \"remya09\"\n",
    "b.isalnum()"
   ]
  },
  {
   "cell_type": "code",
   "execution_count": 19,
   "id": "38a6bf69",
   "metadata": {},
   "outputs": [
    {
     "data": {
      "text/plain": [
       "False"
      ]
     },
     "execution_count": 19,
     "metadata": {},
     "output_type": "execute_result"
    }
   ],
   "source": [
    "b.isalpha()"
   ]
  },
  {
   "cell_type": "code",
   "execution_count": 20,
   "id": "9de07157",
   "metadata": {},
   "outputs": [
    {
     "data": {
      "text/plain": [
       "True"
      ]
     },
     "execution_count": 20,
     "metadata": {},
     "output_type": "execute_result"
    }
   ],
   "source": [
    "c = \"remya\"\n",
    "c.isalpha()"
   ]
  },
  {
   "cell_type": "markdown",
   "id": "367dbbdd",
   "metadata": {},
   "source": [
    "So isaplha returns True only for string having alphabeta & isalnum returns True only for string having both alphabets and numbers "
   ]
  },
  {
   "cell_type": "raw",
   "id": "72851f20",
   "metadata": {},
   "source": [
    "7. Try to give an example of expand tab"
   ]
  },
  {
   "cell_type": "code",
   "execution_count": 23,
   "id": "232c62a3",
   "metadata": {},
   "outputs": [
    {
     "data": {
      "text/plain": [
       "'xyzyu\\t12345\\tabc'"
      ]
     },
     "execution_count": 23,
     "metadata": {},
     "output_type": "execute_result"
    }
   ],
   "source": [
    "s = \"xyzyu\\t12345\\tabc\"\n",
    "s"
   ]
  },
  {
   "cell_type": "code",
   "execution_count": 24,
   "id": "3f085934",
   "metadata": {},
   "outputs": [
    {
     "data": {
      "text/plain": [
       "'xyzyu   12345   abc'"
      ]
     },
     "execution_count": 24,
     "metadata": {},
     "output_type": "execute_result"
    }
   ],
   "source": [
    "s.expandtabs()"
   ]
  },
  {
   "cell_type": "raw",
   "id": "9c7bcac2",
   "metadata": {},
   "source": [
    "8 . Give an example of strip , lstrip and rstrip "
   ]
  },
  {
   "cell_type": "code",
   "execution_count": 25,
   "id": "8a7047a1",
   "metadata": {},
   "outputs": [],
   "source": [
    "c = \"          Data           \""
   ]
  },
  {
   "cell_type": "code",
   "execution_count": 26,
   "id": "b9d706b5",
   "metadata": {},
   "outputs": [
    {
     "data": {
      "text/plain": [
       "'Data'"
      ]
     },
     "execution_count": 26,
     "metadata": {},
     "output_type": "execute_result"
    }
   ],
   "source": [
    "c.strip()"
   ]
  },
  {
   "cell_type": "code",
   "execution_count": 27,
   "id": "96d818bf",
   "metadata": {},
   "outputs": [
    {
     "data": {
      "text/plain": [
       "'Data           '"
      ]
     },
     "execution_count": 27,
     "metadata": {},
     "output_type": "execute_result"
    }
   ],
   "source": [
    "c.lstrip()"
   ]
  },
  {
   "cell_type": "code",
   "execution_count": 28,
   "id": "5b9504d2",
   "metadata": {},
   "outputs": [
    {
     "data": {
      "text/plain": [
       "'          Data'"
      ]
     },
     "execution_count": 28,
     "metadata": {},
     "output_type": "execute_result"
    }
   ],
   "source": [
    "c.rstrip()"
   ]
  },
  {
   "cell_type": "raw",
   "id": "23cf7916",
   "metadata": {},
   "source": [
    "9.  Replace a string character by another charactor by taking your own example "
   ]
  },
  {
   "cell_type": "code",
   "execution_count": 30,
   "id": "b9157198",
   "metadata": {},
   "outputs": [
    {
     "data": {
      "text/plain": [
       "'Data Science'"
      ]
     },
     "execution_count": 30,
     "metadata": {},
     "output_type": "execute_result"
    }
   ],
   "source": [
    "d  = \"Data Analytics\"\n",
    "d.replace(\"Analytics\",\"Science\")"
   ]
  },
  {
   "cell_type": "raw",
   "id": "84a9a997",
   "metadata": {},
   "source": [
    "10 . Try  to give a defination of string center function with and exmple "
   ]
  },
  {
   "cell_type": "code",
   "execution_count": 32,
   "id": "99c4c6df",
   "metadata": {},
   "outputs": [
    {
     "data": {
      "text/plain": [
       "'***Data***'"
      ]
     },
     "execution_count": 32,
     "metadata": {},
     "output_type": "execute_result"
    }
   ],
   "source": [
    "e = \"Data\"\n",
    "e.center(10,\"*\")"
   ]
  },
  {
   "cell_type": "raw",
   "id": "bee8c016",
   "metadata": {},
   "source": [
    "11 . Write your own definition of compiler and interpretor without copy paste form internet in your own language"
   ]
  },
  {
   "cell_type": "raw",
   "id": "36bc1bfd",
   "metadata": {},
   "source": [
    "Compiler - Converts high level language into machine language by taking entire content together\n",
    "\n",
    "Interpreter - Converts high level language into machine language line by line"
   ]
  },
  {
   "cell_type": "raw",
   "id": "b1aecd22",
   "metadata": {},
   "source": [
    "12 . Python is a interpreted or compiled language give a clear ans with your understanding "
   ]
  },
  {
   "cell_type": "raw",
   "id": "c702f95f",
   "metadata": {},
   "source": [
    "python is compiled as well as interpreted language. in python to converts the high level language in to \n",
    "low level laguage the terms compiler cames in to the picture.\n",
    "-In python when we execute the program 1st the compiler converts the source code in to byte code and then interpreter converts \n",
    "the byte code in to machine level language.\n",
    "\n",
    "source code--->compiler--->byte code--->interpreter--->machine code"
   ]
  },
  {
   "cell_type": "raw",
   "id": "c29277c0",
   "metadata": {},
   "source": [
    "13 . Try to write a usecase of python with your understanding ."
   ]
  },
  {
   "cell_type": "markdown",
   "id": "d6594e9a",
   "metadata": {},
   "source": [
    "          a) Developing websites and software\n",
    "          b) Task automation\n",
    "          c) Data analysis \n",
    "          d) data visualization.\n",
    "          e) and many more...."
   ]
  },
  {
   "cell_type": "markdown",
   "id": "de0c73ba",
   "metadata": {},
   "source": [
    "Other applications :\n",
    "    \n",
    "     Web Development using  Django, Pyramid, and Flask frameworks.\n",
    "    Scientific Computing using Numpy and Pandas\n",
    "    Machine Learning and AI\n",
    "    Data Visualization\n",
    "    Game development\n",
    "    Desktop Application using Tk library\n",
    "    \n",
    "    1. Face Detection \n",
    "2. Vehicle Number Plate Detection \n",
    "3. Stock Exchange Trading Apps that have AI for trading analysis \n",
    "4. Phone Keyboard\n",
    "5. Snapchat's Bitmoji predictor\n",
    "6. Google Map \n",
    "7. Airlines ticket price predicter\n",
    "\n",
    "1) System Programming\n",
    "\n",
    "2) GUI Interface\n",
    "\n",
    "3) WEb Scrapping\n",
    "\n",
    "4) Data bases\n",
    "\n",
    "5) Scientific Programming / Numeric Programming\n",
    "\n",
    "6) Game\n",
    "\n",
    "7) Image processing\n",
    "\n",
    "8) Robotics.\n",
    "\n",
    "9) CAD Application."
   ]
  },
  {
   "cell_type": "code",
   "execution_count": null,
   "id": "f218d4fa",
   "metadata": {},
   "outputs": [],
   "source": []
  },
  {
   "cell_type": "code",
   "execution_count": null,
   "id": "6704d49b",
   "metadata": {},
   "outputs": [],
   "source": []
  }
 ],
 "metadata": {
  "kernelspec": {
   "display_name": "Python 3 (ipykernel)",
   "language": "python",
   "name": "python3"
  },
  "language_info": {
   "codemirror_mode": {
    "name": "ipython",
    "version": 3
   },
   "file_extension": ".py",
   "mimetype": "text/x-python",
   "name": "python",
   "nbconvert_exporter": "python",
   "pygments_lexer": "ipython3",
   "version": "3.9.12"
  }
 },
 "nbformat": 4,
 "nbformat_minor": 5
}
