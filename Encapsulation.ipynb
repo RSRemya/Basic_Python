{
 "cells": [
  {
   "cell_type": "code",
   "execution_count": 15,
   "id": "6865bc3c",
   "metadata": {},
   "outputs": [],
   "source": [
    "class Car:# defining an empty class\n",
    "    pass\n",
    "\n",
    "audi= Car()# audi is an object of class car\n",
    "\n",
    "# now values of instance variables are defined\n",
    "audi.milage=10\n",
    "audi.year=2006\n",
    "audi.make=345\n",
    "audi.model=\"abc\""
   ]
  },
  {
   "cell_type": "code",
   "execution_count": 16,
   "id": "79f5e787",
   "metadata": {},
   "outputs": [
    {
     "data": {
      "text/plain": [
       "'abc'"
      ]
     },
     "execution_count": 16,
     "metadata": {},
     "output_type": "execute_result"
    }
   ],
   "source": [
    "audi.model #checking instance variable"
   ]
  },
  {
   "cell_type": "code",
   "execution_count": 36,
   "id": "6d991926",
   "metadata": {},
   "outputs": [],
   "source": [
    "# To create n number of objects .... alternative way is to use init method........to initialise the different parameters to it\n",
    "\n",
    "class Car:\n",
    "    def __init__(a,m,y,ma,mo): # Here pointer used is : a & instance variables are : m,y,ma,mo\n",
    "        a.milage=m\n",
    "        a.year=y\n",
    "        a.make=ma\n",
    "        a.model=mo\n",
    "        \n",
    "    def age(a,current_year):\n",
    "        return current_year-a.year\n",
    "    \n",
    "    def milage1(self):\n",
    "        return(\"Print a milage of the call\", self.milage)\n",
    "    \n",
    "    def __str__(c):# __str__ will return some string when print(object_name) is executed\n",
    "        return \"this is from class i have created\"\n",
    "    \n",
    "# Here instance variables are : m,y,ma,mo\n",
    "# Here methods are : age, milage, __str__\n",
    "# Here pointer used is : a"
   ]
  },
  {
   "cell_type": "code",
   "execution_count": 37,
   "id": "89f2d8cb",
   "metadata": {},
   "outputs": [],
   "source": [
    "nano=Car(10,2009,45,\"bhjagudbs\")"
   ]
  },
  {
   "cell_type": "code",
   "execution_count": 38,
   "id": "ca268b2f",
   "metadata": {},
   "outputs": [
    {
     "data": {
      "text/plain": [
       "11"
      ]
     },
     "execution_count": 38,
     "metadata": {},
     "output_type": "execute_result"
    }
   ],
   "source": [
    "nano.age(2020)"
   ]
  },
  {
   "cell_type": "code",
   "execution_count": 39,
   "id": "8b0a6fe8",
   "metadata": {},
   "outputs": [
    {
     "data": {
      "text/plain": [
       "('Print a milage of the call', 10)"
      ]
     },
     "execution_count": 39,
     "metadata": {},
     "output_type": "execute_result"
    }
   ],
   "source": [
    "nano.milage1()"
   ]
  },
  {
   "cell_type": "code",
   "execution_count": 40,
   "id": "a2080aeb",
   "metadata": {},
   "outputs": [
    {
     "name": "stdout",
     "output_type": "stream",
     "text": [
      "this is from class i have created\n"
     ]
    }
   ],
   "source": [
    "print(nano)"
   ]
  },
  {
   "cell_type": "code",
   "execution_count": 41,
   "id": "00143439",
   "metadata": {},
   "outputs": [],
   "source": [
    "class Student:\n",
    "    \n",
    "    def __init__(self,name,rollno,joining_date,current_topic):\n",
    "        self.name=name\n",
    "        self.rollno=rollno\n",
    "        self.joining_date=joining_date\n",
    "        self.current_topic=current_topic\n",
    "        \n",
    "        \n",
    "    def cur_topic(self):\n",
    "        print(\"current topic dicussed in class is \", self.current_topic)\n",
    "    \n",
    "    def str_rollno(self):\n",
    "        \n",
    "        try:\n",
    "            if type(self.rollno)==str:\n",
    "                print(\"do nothing\")\n",
    "            \n",
    "            else:\n",
    "                return str(self.rollno)\n",
    "        except Exception as e:\n",
    "            \n",
    "            print(\"this is my error message\", e)\n",
    "            \n",
    "    def duration(self,current_date):\n",
    "        \n",
    "        print(\"durration of student in my class is \", current_date - self.joining_date)\n",
    "        \n",
    "    \n",
    "    def __str__(self):\n",
    "        \n",
    "        return \" this is student class\"\n",
    "        "
   ]
  },
  {
   "cell_type": "code",
   "execution_count": 51,
   "id": "2bd60d72",
   "metadata": {},
   "outputs": [],
   "source": [
    "s1= Student(\"imran\",\"8\",2007,\"data science\")"
   ]
  },
  {
   "cell_type": "code",
   "execution_count": 52,
   "id": "0dbff7f2",
   "metadata": {},
   "outputs": [
    {
     "name": "stdout",
     "output_type": "stream",
     "text": [
      "do nothing\n"
     ]
    }
   ],
   "source": [
    "s1.str_rollno()"
   ]
  },
  {
   "cell_type": "code",
   "execution_count": 53,
   "id": "308339b8",
   "metadata": {},
   "outputs": [
    {
     "name": "stdout",
     "output_type": "stream",
     "text": [
      "durration of student in my class is  1\n"
     ]
    }
   ],
   "source": [
    "s1.duration(2008)"
   ]
  },
  {
   "cell_type": "code",
   "execution_count": 54,
   "id": "3447f444",
   "metadata": {},
   "outputs": [
    {
     "name": "stdout",
     "output_type": "stream",
     "text": [
      "current topic dicussed in class is  data science\n"
     ]
    }
   ],
   "source": [
    "s1.cur_topic()"
   ]
  },
  {
   "cell_type": "code",
   "execution_count": 56,
   "id": "f294f13f",
   "metadata": {},
   "outputs": [
    {
     "name": "stdout",
     "output_type": "stream",
     "text": [
      "11\n",
      "-1\n",
      "30\n",
      "0.8333333333333334\n"
     ]
    }
   ],
   "source": [
    "class Calculator:\n",
    "    def __init__(self,a,b):# __init__ is a parameterised constructor, which is a special method\n",
    "        #...... while other methods like -->sum subt, mul and div are not constructors\n",
    "        self.a=a\n",
    "        self.b=b\n",
    "        \n",
    "    def sum(self):\n",
    "        return self.a+self.b\n",
    "    \n",
    "    def subt(self):\n",
    "        return self.a-self.b\n",
    "    \n",
    "    def mul(self):\n",
    "        return self.a*self.b\n",
    "    def div(self):\n",
    "        return self.a/self.b\n",
    "    \n",
    "    \n",
    "c=Calculator(5,6)\n",
    "print(c.sum())\n",
    "print(c.subt())\n",
    "print(c.mul())\n",
    "print(c.div())"
   ]
  },
  {
   "cell_type": "raw",
   "id": "d74447b9",
   "metadata": {},
   "source": [
    "single underscore before a variable means protected, ie. method can be accessed within the class and by classes derived from that class\n",
    "\n",
    "double underscore before a variable means private, ie.  method can ONLY be accessed within the class.\n",
    "\n",
    "Public can be accessed anywhere"
   ]
  },
  {
   "cell_type": "markdown",
   "id": "1e3615b3",
   "metadata": {},
   "source": [
    "# Encapsulation - Used to bundle attributes and method into a single unit\n",
    "Applications :\n",
    "\n",
    "(i) Its used for data hiding using modifiers\n",
    "\n",
    "(ii) Also Using encapsulation we can work independently"
   ]
  },
  {
   "cell_type": "code",
   "execution_count": 57,
   "id": "8c1c02e4",
   "metadata": {},
   "outputs": [],
   "source": [
    "class Rectangle:\n",
    "    \n",
    "    def __init__(self):\n",
    "        self.length=5\n",
    "        self.__breadth=3\n",
    "        \n",
    "        print(self.length)\n",
    "        print(self.__breadth)"
   ]
  },
  {
   "cell_type": "code",
   "execution_count": 58,
   "id": "d7d541af",
   "metadata": {},
   "outputs": [
    {
     "name": "stdout",
     "output_type": "stream",
     "text": [
      "5\n",
      "3\n"
     ]
    }
   ],
   "source": [
    "r1=Rectangle()"
   ]
  },
  {
   "cell_type": "code",
   "execution_count": 59,
   "id": "5c838564",
   "metadata": {},
   "outputs": [
    {
     "data": {
      "text/plain": [
       "5"
      ]
     },
     "execution_count": 59,
     "metadata": {},
     "output_type": "execute_result"
    }
   ],
   "source": [
    "r1.length#length is public"
   ]
  },
  {
   "cell_type": "code",
   "execution_count": 60,
   "id": "f4048408",
   "metadata": {},
   "outputs": [
    {
     "ename": "AttributeError",
     "evalue": "'Rectangle' object has no attribute '__breadth'",
     "output_type": "error",
     "traceback": [
      "\u001b[1;31m---------------------------------------------------------------------------\u001b[0m",
      "\u001b[1;31mAttributeError\u001b[0m                            Traceback (most recent call last)",
      "Input \u001b[1;32mIn [60]\u001b[0m, in \u001b[0;36m<cell line: 1>\u001b[1;34m()\u001b[0m\n\u001b[1;32m----> 1\u001b[0m \u001b[43mr1\u001b[49m\u001b[38;5;241;43m.\u001b[39;49m\u001b[43m__breadth\u001b[49m\n",
      "\u001b[1;31mAttributeError\u001b[0m: 'Rectangle' object has no attribute '__breadth'"
     ]
    }
   ],
   "source": [
    "r1.__breadth # will give error....as breadth is private.... can't be accessed outside the class"
   ]
  },
  {
   "cell_type": "code",
   "execution_count": 61,
   "id": "64dd31a2",
   "metadata": {},
   "outputs": [
    {
     "data": {
      "text/plain": [
       "3"
      ]
     },
     "execution_count": 61,
     "metadata": {},
     "output_type": "execute_result"
    }
   ],
   "source": [
    "r1._Rectangle__breadth # it can be accessed by mentioning class name with single underscore... its called name mangling\n",
    "#private and protected variables can be accessed using name mangling"
   ]
  },
  {
   "cell_type": "markdown",
   "id": "cacf7cb0",
   "metadata": {},
   "source": [
    "# Using Data Mangling"
   ]
  },
  {
   "cell_type": "code",
   "execution_count": 62,
   "id": "0c931dc6",
   "metadata": {},
   "outputs": [],
   "source": [
    "class test:\n",
    "    \n",
    "    def __init__(self):\n",
    "        self.a=6\n",
    "        self._b=5\n",
    "        self.__c=8\n",
    "        \n",
    "        print(\"public:\",self.a,\"protected:\",self._b,\"private:\",self.__c)"
   ]
  },
  {
   "cell_type": "code",
   "execution_count": 63,
   "id": "882e78a9",
   "metadata": {},
   "outputs": [
    {
     "name": "stdout",
     "output_type": "stream",
     "text": [
      "public: 6 protected: 5 private: 8\n"
     ]
    }
   ],
   "source": [
    "t1=test()"
   ]
  },
  {
   "cell_type": "code",
   "execution_count": 64,
   "id": "6297dafd",
   "metadata": {},
   "outputs": [
    {
     "data": {
      "text/plain": [
       "6"
      ]
     },
     "execution_count": 64,
     "metadata": {},
     "output_type": "execute_result"
    }
   ],
   "source": [
    "t1.a"
   ]
  },
  {
   "cell_type": "code",
   "execution_count": 68,
   "id": "db93044d",
   "metadata": {},
   "outputs": [
    {
     "data": {
      "text/plain": [
       "5"
      ]
     },
     "execution_count": 68,
     "metadata": {},
     "output_type": "execute_result"
    }
   ],
   "source": [
    "t1._b"
   ]
  },
  {
   "cell_type": "code",
   "execution_count": 65,
   "id": "71dfde6e",
   "metadata": {},
   "outputs": [
    {
     "data": {
      "text/plain": [
       "8"
      ]
     },
     "execution_count": 65,
     "metadata": {},
     "output_type": "execute_result"
    }
   ],
   "source": [
    "t1._test__c"
   ]
  },
  {
   "cell_type": "markdown",
   "id": "a1b74258",
   "metadata": {},
   "source": [
    "# Using show method"
   ]
  },
  {
   "cell_type": "code",
   "execution_count": 71,
   "id": "29acbe2d",
   "metadata": {},
   "outputs": [],
   "source": [
    "class test:\n",
    "    \n",
    "    def __init__(self):\n",
    "        self.a=6\n",
    "        self._b=5\n",
    "        self.__c=8\n",
    "        \n",
    "        print(\"public:\",self.a,\"protected:\",self._b,\"private:\",self.__c)\n",
    "        \n",
    "    def show(self):\n",
    "        \n",
    "        print(\"protected:\",self._b ,\"private:\",self.__c)"
   ]
  },
  {
   "cell_type": "code",
   "execution_count": 72,
   "id": "519c7f6e",
   "metadata": {},
   "outputs": [
    {
     "name": "stdout",
     "output_type": "stream",
     "text": [
      "public: 6 protected: 5 private: 8\n"
     ]
    }
   ],
   "source": [
    "t2=test()"
   ]
  },
  {
   "cell_type": "code",
   "execution_count": 73,
   "id": "1448ea2b",
   "metadata": {},
   "outputs": [
    {
     "name": "stdout",
     "output_type": "stream",
     "text": [
      "protected: 5 private: 8\n"
     ]
    }
   ],
   "source": [
    "t2.show()"
   ]
  },
  {
   "cell_type": "markdown",
   "id": "d2136663",
   "metadata": {},
   "source": [
    "# Grouping Multiple Classes into Single Unit"
   ]
  },
  {
   "cell_type": "code",
   "execution_count": 75,
   "id": "169ca62f",
   "metadata": {},
   "outputs": [],
   "source": [
    "class Tyres:\n",
    "    def __init__(self,branch,belted_bias,opt_pressure):\n",
    "        self.branch=branch\n",
    "        self.belted_bias=belted_bias\n",
    "        self.opt_pressure=opt_pressure\n",
    "        \n",
    "    def __str__(self):\n",
    "        return (\"Tyres: \\n \\tBranch\" + self.branch +\n",
    "               \"\\n \\t Belted-bias\" + str(self.belted_bias) +\n",
    "               \"\\n \\t optimal pressure\" + str(self.opt_pressure))\n",
    "    \n",
    "    \n",
    "    \n",
    "    \n",
    "class Engine:\n",
    "    def __init__(self,fuel_type,noise_level):\n",
    "        self.fuel_type=fuel_type\n",
    "        self.noise_level=noise_level\n",
    "        \n",
    "    def __str__(self):\n",
    "        return (\"Engine: \\n \\tFuel type\" + self.fuel_type +\n",
    "               \"\\n \\t Noise level:\" + str(self.noise_level))\n",
    "    \n",
    "class Body:\n",
    "    \n",
    "    def __init__(self,size):\n",
    "        self.size=size\n",
    "        \n",
    "    def __str__(self):\n",
    "        return (\"Body:\\n \\t size\" + self.size)\n",
    "    \n",
    "    \n",
    "class Car:\n",
    "    \n",
    "    def __init__(self,tyres,engine,body):\n",
    "        \n",
    "        self.tyres=tyres\n",
    "        self.engine=engine\n",
    "        self.body=body\n",
    "        \n",
    "    def __str__(self):\n",
    "        return (str(self.tyres) + \"\\n\" + str(self.engine) + \"\\n\" + str(self.body))   "
   ]
  },
  {
   "cell_type": "code",
   "execution_count": 76,
   "id": "c68f4a19",
   "metadata": {},
   "outputs": [],
   "source": [
    "t=Tyres('banaglore',True,2.0)\n",
    "e=Engine('Desel',3)\n",
    "b=Body('Medium')"
   ]
  },
  {
   "cell_type": "code",
   "execution_count": 77,
   "id": "5514ccec",
   "metadata": {},
   "outputs": [
    {
     "name": "stdout",
     "output_type": "stream",
     "text": [
      "Tyres: \n",
      " \tBranchbanaglore\n",
      " \t Belted-biasTrue\n",
      " \t optimal pressure2.0\n",
      "Engine: \n",
      " \tFuel typeDesel\n",
      " \t Noise level:3\n",
      "Body:\n",
      " \t sizeMedium\n"
     ]
    }
   ],
   "source": [
    "c=Car(t,e,b)\n",
    "print(c)"
   ]
  },
  {
   "cell_type": "code",
   "execution_count": null,
   "id": "0a23a813",
   "metadata": {},
   "outputs": [],
   "source": []
  }
 ],
 "metadata": {
  "kernelspec": {
   "display_name": "Python 3 (ipykernel)",
   "language": "python",
   "name": "python3"
  },
  "language_info": {
   "codemirror_mode": {
    "name": "ipython",
    "version": 3
   },
   "file_extension": ".py",
   "mimetype": "text/x-python",
   "name": "python",
   "nbconvert_exporter": "python",
   "pygments_lexer": "ipython3",
   "version": "3.9.12"
  }
 },
 "nbformat": 4,
 "nbformat_minor": 5
}
