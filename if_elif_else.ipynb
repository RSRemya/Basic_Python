{
 "cells": [
  {
   "cell_type": "markdown",
   "id": "e854ed6c",
   "metadata": {},
   "source": [
    "# if"
   ]
  },
  {
   "cell_type": "code",
   "execution_count": null,
   "id": "33b15f6a",
   "metadata": {},
   "outputs": [],
   "source": [
    "class_started = True\n",
    "if class_started:\n",
    "    print(\" Focus in the class \")"
   ]
  },
  {
   "cell_type": "markdown",
   "id": "c29e769f",
   "metadata": {},
   "source": [
    "# if - else"
   ]
  },
  {
   "cell_type": "code",
   "execution_count": 4,
   "id": "207a5755",
   "metadata": {},
   "outputs": [
    {
     "name": "stdout",
     "output_type": "stream",
     "text": [
      " Revise previous class and notes\n"
     ]
    }
   ],
   "source": [
    "class_started = False\n",
    "if class_started:\n",
    "    print(\" Focus in the class \")\n",
    "else:\n",
    "    print(\" Revise previous class and notes\")"
   ]
  },
  {
   "cell_type": "code",
   "execution_count": 21,
   "id": "dfa36720",
   "metadata": {},
   "outputs": [
    {
     "name": "stdout",
     "output_type": "stream",
     "text": [
      "Since its raining...\n",
      "Lets do work from home\n"
     ]
    }
   ],
   "source": [
    "raining = True\n",
    "\n",
    "if not raining: # False CONDITION \n",
    "    print(\"Since its not raining...\")\n",
    "    print(\"Lets go to office\")    \n",
    "else:\n",
    "    print(\"Since its raining...\")\n",
    "    print(\"Lets do work from home\") # This statemen exectuted\n"
   ]
  },
  {
   "cell_type": "code",
   "execution_count": 22,
   "id": "9afb8c4b",
   "metadata": {},
   "outputs": [
    {
     "name": "stdout",
     "output_type": "stream",
     "text": [
      "Its a bad dish\n",
      "because vegetable present: False\n",
      "and salt present: False\n"
     ]
    }
   ],
   "source": [
    "vegetable_present = False\n",
    "salt_present = False\n",
    "\n",
    "if vegetable_present and salt_present:\n",
    "    print(\"Its a good dish\")\n",
    "else:\n",
    "    print(\"Its a bad dish\")\n",
    "    print(f\"because vegetable present: {vegetable_present}\")\n",
    "    print(f\"and salt present: {salt_present}\")"
   ]
  },
  {
   "cell_type": "code",
   "execution_count": 10,
   "id": "6bbaf7bb",
   "metadata": {},
   "outputs": [
    {
     "name": "stdout",
     "output_type": "stream",
     "text": [
      "values in d is 4\n"
     ]
    }
   ],
   "source": [
    "d=4\n",
    "# == means: is equal to\n",
    "# != means: not equal to\n",
    "if d==4:\n",
    "    print(\"values in d is 4\")"
   ]
  },
  {
   "cell_type": "code",
   "execution_count": 11,
   "id": "d90aae04",
   "metadata": {},
   "outputs": [
    {
     "name": "stdout",
     "output_type": "stream",
     "text": [
      "value of c is not 4\n"
     ]
    }
   ],
   "source": [
    "c=5\n",
    "\n",
    "if c==4:\n",
    "    print(\"value in c is 4\")\n",
    "else:\n",
    "    print(\"value of c is not 4\")"
   ]
  },
  {
   "cell_type": "markdown",
   "id": "2199e54a",
   "metadata": {},
   "source": [
    "# if elif else"
   ]
  },
  {
   "cell_type": "code",
   "execution_count": 5,
   "id": "bbf1c6e6",
   "metadata": {},
   "outputs": [
    {
     "name": "stdout",
     "output_type": "stream",
     "text": [
      "Enter marks of english : 20\n",
      "Enter marks of maths : 56\n",
      "Enter marks of science : 78\n"
     ]
    }
   ],
   "source": [
    "english = int(input(\"Enter marks of english : \"))\n",
    "maths = int(input(\"Enter marks of maths : \"))\n",
    "science = int(input(\"Enter marks of science : \"))"
   ]
  },
  {
   "cell_type": "code",
   "execution_count": 6,
   "id": "e54e0b57",
   "metadata": {},
   "outputs": [
    {
     "name": "stdout",
     "output_type": "stream",
     "text": [
      "Student failed only in english\n"
     ]
    }
   ],
   "source": [
    "if english>40 and maths>40 and science>40:\n",
    "    print(\"Student passed in all subjects\")\n",
    "elif english<=40 and maths>40 and science>40:\n",
    "    print(\"Student failed only in english\")\n",
    "elif english>40 and maths<=40 and science>40:\n",
    "    print(\"Student failed only in maths\")\n",
    "elif english>40 and maths>40 and science<=40:\n",
    "    print(\"Student failed only in science\")  \n",
    "elif english<=40 and maths<=40 and science>40:\n",
    "    print(\"Student failed in both english and maths\") \n",
    "elif english>40 and maths<=40 and science<=40:\n",
    "    print(\"Student failed in both maths and science\") \n",
    "elif english<=40 and maths>40 and science<=40:\n",
    "    print(\"Student failed in both english and science\")    \n",
    "else:\n",
    "    print(\"Student failed in all subjects\") "
   ]
  },
  {
   "cell_type": "code",
   "execution_count": 7,
   "id": "22efc698",
   "metadata": {},
   "outputs": [
    {
     "name": "stdout",
     "output_type": "stream",
     "text": [
      "Enter total marks : 123\n",
      "Enter marks of sports : 10\n",
      "Enter marks of assignment : 68\n"
     ]
    }
   ],
   "source": [
    "total = int(input(\"Enter total marks : \"))\n",
    "sports = int(input(\"Enter marks of sports : \"))\n",
    "assignment = int(input(\"Enter marks of assignment : \"))"
   ]
  },
  {
   "cell_type": "code",
   "execution_count": 8,
   "id": "c5e9a1b3",
   "metadata": {},
   "outputs": [
    {
     "name": "stdout",
     "output_type": "stream",
     "text": [
      "Student passed\n"
     ]
    }
   ],
   "source": [
    "if total>=120 and sports>40 or assignment>40:\n",
    "    print(\"Student passed\")\n",
    "else:\n",
    "    print(\"Student failed\")"
   ]
  },
  {
   "cell_type": "markdown",
   "id": "effe628c",
   "metadata": {},
   "source": [
    "# Checkking difference between == & is, != &is not"
   ]
  },
  {
   "cell_type": "markdown",
   "id": "a3a89bf6",
   "metadata": {},
   "source": [
    "== | A == B | A is equal to B\n",
    "\n",
    "\n",
    "!= | A != B | A is not equal to B\n",
    "\n",
    "\n",
    "When using `is` then we are also comparing memory location\n",
    "\n",
    "When using `is not` then we are also comparing memory location\n",
    "\n",
    "== and != is only checking value of the variables [Used more offently or frequently]"
   ]
  },
  {
   "cell_type": "code",
   "execution_count": 12,
   "id": "fb785735",
   "metadata": {},
   "outputs": [],
   "source": [
    "a = 5\n",
    "b = 5\n",
    "c = 6"
   ]
  },
  {
   "cell_type": "code",
   "execution_count": 13,
   "id": "63dad44e",
   "metadata": {},
   "outputs": [
    {
     "data": {
      "text/plain": [
       "2613777689008"
      ]
     },
     "execution_count": 13,
     "metadata": {},
     "output_type": "execute_result"
    }
   ],
   "source": [
    "id(a)"
   ]
  },
  {
   "cell_type": "code",
   "execution_count": 14,
   "id": "6066c6c8",
   "metadata": {},
   "outputs": [
    {
     "data": {
      "text/plain": [
       "2613777689008"
      ]
     },
     "execution_count": 14,
     "metadata": {},
     "output_type": "execute_result"
    }
   ],
   "source": [
    "id(b)"
   ]
  },
  {
   "cell_type": "code",
   "execution_count": 15,
   "id": "e9543d9c",
   "metadata": {},
   "outputs": [
    {
     "data": {
      "text/plain": [
       "2613777689040"
      ]
     },
     "execution_count": 15,
     "metadata": {},
     "output_type": "execute_result"
    }
   ],
   "source": [
    "id(c)"
   ]
  },
  {
   "cell_type": "code",
   "execution_count": 18,
   "id": "508ddc9e",
   "metadata": {},
   "outputs": [
    {
     "name": "stdout",
     "output_type": "stream",
     "text": [
      "a and b are same\n"
     ]
    }
   ],
   "source": [
    "if a is b:\n",
    "    print(\"a and b are same\")\n",
    "else:\n",
    "    print(\"a and b are not same\")"
   ]
  },
  {
   "cell_type": "code",
   "execution_count": 17,
   "id": "23231769",
   "metadata": {},
   "outputs": [
    {
     "name": "stdout",
     "output_type": "stream",
     "text": [
      "a and c are  not same\n"
     ]
    }
   ],
   "source": [
    "if a is not c:\n",
    "    print(\"a and c are  not same\")\n",
    "else:\n",
    "    print(\"a and c are same\")"
   ]
  },
  {
   "cell_type": "code",
   "execution_count": 19,
   "id": "dfcef23f",
   "metadata": {},
   "outputs": [
    {
     "name": "stdout",
     "output_type": "stream",
     "text": [
      "a and b are same\n"
     ]
    }
   ],
   "source": [
    "if a == b:\n",
    "    print(\"a and b are same\")\n",
    "else:\n",
    "    print(\"a and b are not same\")"
   ]
  },
  {
   "cell_type": "code",
   "execution_count": 20,
   "id": "a1aa29ff",
   "metadata": {},
   "outputs": [
    {
     "name": "stdout",
     "output_type": "stream",
     "text": [
      "a and c are  not same\n"
     ]
    }
   ],
   "source": [
    "if a != c:\n",
    "    print(\"a and c are  not same\")\n",
    "else:\n",
    "    print(\"a and c are same\")"
   ]
  },
  {
   "cell_type": "markdown",
   "id": "b100d297",
   "metadata": {},
   "source": [
    "# Nested if"
   ]
  },
  {
   "cell_type": "code",
   "execution_count": 24,
   "id": "5ee41052",
   "metadata": {},
   "outputs": [
    {
     "name": "stdout",
     "output_type": "stream",
     "text": [
      "Since you have scored: 78, you have passed the exams!\n",
      "You will get prize from the college! Well Done!!\n"
     ]
    }
   ],
   "source": [
    "your_score = 78\n",
    "passing_marks = 33.33\n",
    "distinction_marks = 75\n",
    "\n",
    "if your_score >= 33.33: # strict case\n",
    "    print(f\"Since you have scored: {your_score}, you have passed the exams!\")\n",
    "    if your_score > distinction_marks:\n",
    "        print(\"You will get prize from the college! Well Done!!\")\n",
    "else:\n",
    "    print(\"You should have taken things seriously!\")"
   ]
  },
  {
   "cell_type": "code",
   "execution_count": null,
   "id": "e1b1743d",
   "metadata": {},
   "outputs": [],
   "source": []
  }
 ],
 "metadata": {
  "kernelspec": {
   "display_name": "Python 3 (ipykernel)",
   "language": "python",
   "name": "python3"
  },
  "language_info": {
   "codemirror_mode": {
    "name": "ipython",
    "version": 3
   },
   "file_extension": ".py",
   "mimetype": "text/x-python",
   "name": "python",
   "nbconvert_exporter": "python",
   "pygments_lexer": "ipython3",
   "version": "3.9.13"
  }
 },
 "nbformat": 4,
 "nbformat_minor": 5
}
